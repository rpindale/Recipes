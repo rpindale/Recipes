{
 "cells": [
  {
   "cell_type": "markdown",
   "id": "fea216af-e13c-4ccd-a80d-c0a5b101447a",
   "metadata": {},
   "source": [
    "# NLP Recipe Web Scraping\n",
    "## Created by Ryan Pindale on March 20th, 2022\n",
    "### Purpose: gather text from recipe blogs for a supervised NLP project"
   ]
  },
  {
   "cell_type": "code",
   "execution_count": 2,
   "id": "3d289900-5dad-4a19-8e85-f16067e416e9",
   "metadata": {},
   "outputs": [],
   "source": [
    "import requests\n",
    "from bs4 import BeautifulSoup"
   ]
  },
  {
   "cell_type": "code",
   "execution_count": null,
   "id": "169f81fa-a9fc-4bc3-925e-f07a472e35e2",
   "metadata": {},
   "outputs": [],
   "source": []
  },
  {
   "cell_type": "markdown",
   "id": "e077afb5-703c-40cc-89c5-57ad991a50ef",
   "metadata": {},
   "source": [
    "# The first recipe blog website is [Dinner at the Zoo](https://www.dinneratthezoo.com/). I scraped 2024 recipe links and saved the links in a csv. Text extraction from these links will take place on a seperate date once project strategy is ironed out."
   ]
  },
  {
   "cell_type": "code",
   "execution_count": 12,
   "id": "f6027431-8294-4a25-9350-d29cb2215223",
   "metadata": {},
   "outputs": [
    {
     "data": {
      "text/plain": [
       "<Response [200]>"
      ]
     },
     "execution_count": 12,
     "metadata": {},
     "output_type": "execute_result"
    }
   ],
   "source": [
    "headers = {'user-agent': 'Pindale UVA MSDS Project (mwp8zy@virginia.edu)'}\n",
    "url='https://www.dinneratthezoo.com/'\n",
    "r = requests.get(url, headers=headers)\n",
    "r"
   ]
  },
  {
   "cell_type": "code",
   "execution_count": 13,
   "id": "68abb1fe-0639-4101-a3b4-b1d8859c5856",
   "metadata": {},
   "outputs": [],
   "source": [
    "soup = BeautifulSoup(r.content, 'html.parser')"
   ]
  },
  {
   "cell_type": "code",
   "execution_count": null,
   "id": "4d67e169-a1a2-4d87-bc84-af3364e8ae04",
   "metadata": {},
   "outputs": [],
   "source": [
    "#These are the categories for recipes listed on teh website\n",
    "cats = ['appetizers', 'asian-food', 'baking', 'breakfast', 'brunch', \n",
    "        'desserts', 'dinner', 'drinks', 'gluten-free', 'grilling', \n",
    "        'instant-pot', 'light-healthy', 'one-pot-meals', 'pasta', \n",
    "        'salads', 'side-dishes', 'slow-cooker', 'snakcs', 'soup']\n",
    "\n",
    "cat_url = ['/category/'+ end +'/' for end in cats]\n",
    "#cat_url"
   ]
  },
  {
   "cell_type": "markdown",
   "id": "f89b8d6f-5001-41ce-a3cf-48d41429b2c7",
   "metadata": {},
   "source": [
    "For each category, I extracted the links to all recipes on each page. Different categories have different number of pages. I could get this number of pages in a sloppy way by taking the 41st from the back element of a list of the text from 'a' tags. This worked for every category except snacks. So, I cheated and added a try/except rule instead of figuring out what the problem was for snacks."
   ]
  },
  {
   "cell_type": "code",
   "execution_count": 103,
   "id": "efd64844-0843-43d0-8be7-592a64e5459d",
   "metadata": {},
   "outputs": [],
   "source": [
    "recipes=[]\n",
    "for i in range(0,len(cat_url)):\n",
    "    headers = {'user-agent': 'Pindale UVA MSDS Project (mwp8zy@virginia.edu)'}\n",
    "    url='https://www.dinneratthezoo.com/'\n",
    "    r = requests.get(url+cat_url[i], headers=headers)\n",
    "    soup = BeautifulSoup(r.content, 'html.parser')\n",
    "    tags = soup.find_all('a')\n",
    "    try:\n",
    "        number_of_pages=int(tags[-41].get_text()) #This is the number of pages per category\n",
    "    except:\n",
    "        number_of_pages=6 #it broke only on \"snacks\" which ahs 6 pages\n",
    "    page_num = ['page/'+str(i)+'/' for i in range(2,number_of_pages+1)]\n",
    "    tags = soup.find_all(class_='more-link')\n",
    "    for tag in tags:\n",
    "        recipes.append(tag.get('href'))\n",
    "    for page_urls in page_num:\n",
    "        r = requests.get(url+cat_url[i]+page_urls, headers=headers)\n",
    "        soup = BeautifulSoup(r.content, 'html.parser')\n",
    "        tags = soup.find_all(class_='more-link')\n",
    "        for tag in tags:\n",
    "            recipes.append(tag.get('href'))\n",
    "        \n",
    "        "
   ]
  },
  {
   "cell_type": "code",
   "execution_count": 106,
   "id": "92be447d-949b-4518-8f85-82c4177ac91d",
   "metadata": {
    "tags": []
   },
   "outputs": [
    {
     "data": {
      "text/plain": [
       "2024"
      ]
     },
     "execution_count": 106,
     "metadata": {},
     "output_type": "execute_result"
    }
   ],
   "source": [
    "len(recipes)"
   ]
  },
  {
   "cell_type": "code",
   "execution_count": 107,
   "id": "592d5858-c397-4685-83d7-fab4284eb731",
   "metadata": {},
   "outputs": [
    {
     "data": {
      "text/plain": [
       "'https://www.dinneratthezoo.com/potato-skins-recipe/'"
      ]
     },
     "execution_count": 107,
     "metadata": {},
     "output_type": "execute_result"
    }
   ],
   "source": [
    "recipes[0]"
   ]
  },
  {
   "cell_type": "code",
   "execution_count": 112,
   "id": "2a1afded-e9a1-4df1-92f7-c6f5f233f0c8",
   "metadata": {},
   "outputs": [],
   "source": [
    "# importing pandas as pd  \n",
    "import pandas as pd  \n",
    "\n",
    "df = pd.DataFrame({'recipe_links':recipes}) \n",
    "\n",
    "# saving the dataframe \n",
    "df.to_csv('dinner_at_the_zoo_recipe_links.csv') "
   ]
  },
  {
   "cell_type": "code",
   "execution_count": null,
   "id": "aa1c139e-27ea-4f35-b7c6-528475502f14",
   "metadata": {},
   "outputs": [],
   "source": []
  },
  {
   "cell_type": "markdown",
   "id": "51494c66-6722-458f-9988-c9e53f942c3d",
   "metadata": {},
   "source": [
    "Here is some early text extraction. I will discuss with my team for better methods before continuing."
   ]
  },
  {
   "cell_type": "code",
   "execution_count": 108,
   "id": "f38a8bb2-ed7a-477c-9272-99e382fb8349",
   "metadata": {},
   "outputs": [],
   "source": [
    "headers = {'user-agent': 'Pindale UVA MSDS Project (mwp8zy@virginia.edu)'}\n",
    "url='https://www.dinneratthezoo.com/'\n",
    "r = requests.get(recipes[0], headers=headers)\n",
    "soup = BeautifulSoup(r.content, 'html.parser')"
   ]
  },
  {
   "cell_type": "code",
   "execution_count": 109,
   "id": "678908d4-1618-4d30-9be9-17a38e1877b0",
   "metadata": {},
   "outputs": [],
   "source": [
    "try_this = soup.find_all('p')"
   ]
  },
  {
   "cell_type": "code",
   "execution_count": 110,
   "id": "2af0ca9b-798e-4834-897f-5f7a6530f773",
   "metadata": {
    "collapsed": true,
    "jupyter": {
     "outputs_hidden": true
    },
    "tags": []
   },
   "outputs": [
    {
     "name": "stdout",
     "output_type": "stream",
     "text": [
      "Dinner at the Zoo\n",
      "Home » Appetizers » Potato Skins Recipe\n",
      "Published: March 15, 2022 Last Modified: March 15, 2022 By Sara 18 Comments \n",
      "This recipe for potato skins is Russet potato halves topped with cheese and bacon, then baked to crispy perfection and finished with sour cream and green onions. A classic appetizer that’s easy to make and always a crowd pleaser!\n",
      "I love to serve a variety of hot appetizers when I’m entertaining, including baked buffalo wings, jalapeno poppers and these loaded potato skins.\n",
      "Baked potato skins are popular for good reason – who can resist the combination of bacon, cheese and sour cream? Not me! These homemade potato snacks are SO much better than anything you’d buy in the freezer section, and they’re easy to make too!\n",
      "For this recipe you will need potatoes, and olive oil, salt and pepper to season the potatoes. Next up are the toppings which include shredded cheese, bacon, sour cream and green onions. Put everything together and you’ll have the ultimate appetizer.\n",
      "First, bake some small Russet potatoes for about an hour, or until softened. Cut the potatoes in half and scoop out the insides making the “skins.” Leave 1/4 to 1/2 inch of potato on the inside of the skins.\n",
      "Brush the skins with olive oil and sprinkle with salt and pepper to taste. Bake the potato skins until crispy, then add all of your toppings. The potatoes get one more trip through the oven, then they’re ready to garnish and serve.\n",
      "To bake a potato, simply wash and dry the potato, prick it with a fork and place it in the oven at 400 degrees F. The potato needs to stay in the oven for about an hour or until softened. The bake time will vary depending on the size of the potatoes.\n",
      "Leftovers will stay fresh in the refrigerator for 2 days. You can place the skins back in the oven to warm them through and crisp them up. I recommend removing the sour cream and green onions before they go back into the oven, then put fresh toppings on after they’re heated through.\n",
      "The total bake time for this recipe is 1 hour and 20 minutes, which takes into account the time to bake the whole potatoes, as well as crisp up the skins.\n",
      "Classic potato skins are delicious baked potatoes in the palm of your hand, but there are other flavors you can incorporate.\n",
      "These potatoes are amazing and are so much better than restaurant or frozen versions. They are great for a party or just for an every day snack.\n",
      "Filed Under: Appetizers\n",
      "Learn my 5 Meal Planning Secrets & get my Meal Planning Toolkit...FREE!\n",
      "​​\n",
      "Still hungry? Follow Dinner at the Zoo on Facebook, Twitter, Instagram and Pinterest for more great recipe ideas!\n",
      "\n",
      "Pat says \n",
      "October 8, 2021 at 7:58 am\n",
      "\n",
      "I substitute the green onions/scallions for chives. The green onions kind of over power the dish in my opinion. Also, i use a variety of cheeses like the 3 cheese mix or Mexican mix.\n",
      "\n",
      "Rose M White says \n",
      "February 6, 2021 at 11:10 am\n",
      "\n",
      "Made these twice,,perfection. Your recipe and presentation spot on!  My husband loves thicker potato and it still comes out great.\n",
      "Today I’m making skins ahead of time for tomorrow. All I do is add toppings pop in air fryer and I know they will be just as delicious.\n",
      "Thank you kindly. I appreciate you ❣👩‍🍳🥔\n",
      "\n",
      "Kim says \n",
      "February 21, 2020 at 6:18 am\n",
      "\n",
      "Can I make these a day ahead? If so would you change anything?\n",
      "\n",
      "Sara says \n",
      "February 22, 2020 at 9:28 pm\n",
      "I’d add the sour cream and green onions right before serving!\n",
      "\n",
      "Beatrice says \n",
      "January 29, 2020 at 5:19 pm\n",
      "\n",
      "Makes my mouth water to just see these! I’ve made them now multiple times and everyone loves them!\n",
      "\n",
      "Su says \n",
      "January 27, 2020 at 11:27 am\n",
      "What can I use the scooped out potatoes for?\n",
      "\n",
      "Sara says \n",
      "January 27, 2020 at 2:48 pm\n",
      "Mashed potatoes would be great!\n",
      "\n",
      "Ashley says \n",
      "February 7, 2021 at 8:52 am\n",
      "Potato Pancakes are another option. You can make a loaded version too with all the ingredients from this recipe.\n",
      "\n",
      "Jacque Hooper says \n",
      "July 30, 2019 at 10:04 am\n",
      "\n",
      "Always love ordering these when we eat out! Love that I can now make them at home; so delicious!\n",
      "\n",
      "Patricia @ Grab a Plate says \n",
      "July 25, 2019 at 6:46 am\n",
      "\n",
      "What a great recipe! These are so fun (and always a favorite of mine) and now I can serve them up at home! Mmm!\n",
      "\n",
      "Beth Pierce says \n",
      "July 23, 2019 at 12:48 pm\n",
      "\n",
      "Love, love, love this recipe! This will be perfect for football season; so delicious!\n",
      "\n",
      "Katerina @ diethood .com says \n",
      "July 23, 2019 at 10:43 am\n",
      "\n",
      "Such an easy and delicious appetizer!!\n",
      "\n",
      "Catalina says \n",
      "July 23, 2019 at 5:32 am\n",
      "I am drooling over these potatoes. Looks so yummy!\n",
      "\n",
      "Soph says \n",
      "July 23, 2019 at 2:29 am\n",
      "Oh my goodness these look incredible! My partner loves to BBQ and I’ve been looking for some recipes I can make alongside whatever he’s doing and these are absolutely perfect!\n",
      "Soph – https://sophhearts.com x\n",
      "\n",
      "Vik says \n",
      "July 22, 2019 at 11:07 pm\n",
      "\n",
      "So easy and delicious! Definitely crispy  perfection\n",
      "\n",
      "Dorothy Reinhold says \n",
      "July 22, 2019 at 6:13 pm\n",
      "Those pictures remind me how much I love potato skins!  I have all of the ingredients and I can’t wait!\n",
      "\n",
      "Demeter says \n",
      "July 22, 2019 at 3:22 pm\n",
      "\n",
      "Ooh, I’m having a party next weekend and these look amazing! Adding these to our menu. Thanks!\n",
      "\n",
      "Chrissie Baker says \n",
      "July 22, 2019 at 1:37 pm\n",
      "\n",
      "I am obsessed with potato skins! These potato skins look delicious…definitely craving some of their cheesy goodness right now. I have to recreate the recipe!\n",
      "Your email address will not be published. Required fields are marked *\n",
      "Comment * \n",
      "Name * \n",
      "Email * \n",
      " \n",
      "\n",
      "\n",
      "\n",
      "Δ\n",
      "More Posts from this Category\n",
      "Learn my 5 Meal Planning Secrets & get my Meal Planning Toolkit...FREE!\n",
      "​​\n"
     ]
    }
   ],
   "source": [
    "for tags in try_this:\n",
    "    print(tags.get_text())"
   ]
  },
  {
   "cell_type": "code",
   "execution_count": null,
   "id": "b6c6f7a6-c9b4-4c56-82ef-edaa5eec21fe",
   "metadata": {},
   "outputs": [],
   "source": []
  },
  {
   "cell_type": "markdown",
   "id": "930a5951-a697-440c-a014-e9304b128a4e",
   "metadata": {},
   "source": [
    "# The next website will be [Spend with Pennies](https://www.spendwithpennies.com/)"
   ]
  },
  {
   "cell_type": "code",
   "execution_count": 115,
   "id": "b273c1ab-fedf-48ef-913f-f917176f10c7",
   "metadata": {},
   "outputs": [],
   "source": [
    "#Establishing a connection\n",
    "headers = {'user-agent': 'Pindale UVA MSDS Project (mwp8zy@virginia.edu)'}\n",
    "url='https://www.spendwithpennies.com/'\n",
    "r = requests.get(url, headers=headers)\n",
    "r\n",
    "soup = BeautifulSoup(r.content, 'html.parser')"
   ]
  },
  {
   "cell_type": "markdown",
   "id": "d17a7425-dccd-4f55-875d-7d5aa32bdf12",
   "metadata": {},
   "source": [
    "There seams to be a path where all the recipes live."
   ]
  },
  {
   "cell_type": "code",
   "execution_count": 116,
   "id": "cd1e3dcc-fbd5-4fb9-91fc-c83dbbd11cee",
   "metadata": {},
   "outputs": [],
   "source": [
    "easy_url = 'https://www.spendwithpennies.com/category/recipes/'\n",
    "r = requests.get(url, headers=headers)\n",
    "r\n",
    "soup = BeautifulSoup(r.content, 'html.parser')"
   ]
  },
  {
   "cell_type": "code",
   "execution_count": 117,
   "id": "79a32991-cdd8-4e42-830f-5a599194abc0",
   "metadata": {},
   "outputs": [
    {
     "name": "stdout",
     "output_type": "stream",
     "text": [
      "https://www.spendwithpennies.com/air-fryer-potato-and-sausage/\n",
      "https://www.spendwithpennies.com/parmesan-baked-acorn-squash/\n",
      "https://www.spendwithpennies.com/homemade-potato-bread/\n",
      "https://www.spendwithpennies.com/frito-pie/\n",
      "https://www.spendwithpennies.com/air-fryer-potato-and-sausage/\n",
      "https://www.spendwithpennies.com/air-fryer-spaghetti-squash/\n",
      "https://www.spendwithpennies.com/air-fryer-roasted-garlic/\n",
      "https://www.spendwithpennies.com/air-fryer-stuffed-chicken-breasts/\n",
      "https://www.spendwithpennies.com/weight-loss-vegetable-soup-recipe/\n",
      "https://www.spendwithpennies.com/slow-cooker-minestrone-soup/\n",
      "https://www.spendwithpennies.com/quick-cabbage-soup/\n",
      "https://www.spendwithpennies.com/overnight-oats/\n",
      "https://www.spendwithpennies.com/air-fryer-potato-and-sausage/\n",
      "https://www.spendwithpennies.com/frito-pie/\n",
      "https://www.spendwithpennies.com/beef-guinness-stew-recipe/\n",
      "https://www.spendwithpennies.com/cottage-pie/\n",
      "https://www.spendwithpennies.com/parmesan-baked-acorn-squash/\n",
      "https://www.spendwithpennies.com/air-fryer-spaghetti-squash/\n",
      "https://www.spendwithpennies.com/air-fryer-corn-on-the-cob/\n",
      "https://www.spendwithpennies.com/fried-cabbage/\n",
      "https://www.spendwithpennies.com/crockpot-spinach-artichoke-dip/\n",
      "https://www.spendwithpennies.com/french-bread-pizza/\n",
      "https://www.spendwithpennies.com/crispy-baked-potato-wedges/\n",
      "https://www.spendwithpennies.com/hot-cheesy-taco-dip/\n",
      "https://www.spendwithpennies.com/toll-house-cookie-recipe/\n",
      "https://www.spendwithpennies.com/apple-dutch-baby/\n",
      "https://www.spendwithpennies.com/homemade-brownies/\n",
      "https://www.spendwithpennies.com/easy-red-velvet-cheesecake/\n",
      "https://www.spendwithpennies.com/crockpot-spinach-artichoke-dip/\n",
      "https://www.spendwithpennies.com/easy-crock-pot-chili-recipe/\n",
      "https://www.spendwithpennies.com/slow-cooker-minestrone-soup/\n",
      "https://www.spendwithpennies.com/crockpot-meatballs/\n"
     ]
    }
   ],
   "source": [
    "tags = soup.find_all(class_='entry-image-link')\n",
    "for tag in tags:\n",
    "    print(tag.get('href'))"
   ]
  },
  {
   "cell_type": "code",
   "execution_count": 118,
   "id": "267bb10a-8d22-4f90-b8ce-6281ea93e2ee",
   "metadata": {},
   "outputs": [],
   "source": [
    "spend_with_pennies_recipes=[]\n",
    "headers = {'user-agent': 'Pindale UVA MSDS Project (mwp8zy@virginia.edu)'}\n",
    "easy_url = 'https://www.spendwithpennies.com/category/recipes/'\n",
    "r = requests.get(easy_url, headers=headers)\n",
    "soup = BeautifulSoup(r.content, 'html.parser')\n",
    "tags = soup.find_all(class_='entry-image-link')\n",
    "number_of_pages=148 \n",
    "page_num = ['page/'+str(i)+'/' for i in range(2,number_of_pages+1)]\n",
    "for tag in tags:\n",
    "    spend_with_pennies_recipes.append(tag.get('href'))\n",
    "for page_urls in page_num:\n",
    "    r = requests.get(easy_url+page_urls, headers=headers)\n",
    "    soup = BeautifulSoup(r.content, 'html.parser')\n",
    "    tags = soup.find_all(class_='entry-image-link')\n",
    "    for tag in tags:\n",
    "        spend_with_pennies_recipes.append(tag.get('href'))"
   ]
  },
  {
   "cell_type": "markdown",
   "id": "2acb946a-4f5a-40a9-b5ba-abe2f9c61cf9",
   "metadata": {},
   "source": [
    "I tried to check for duplicates by comparing the length of the lsit to the length of the set. There is a difference. The difference in the recipes list was more concerning. I am ignoring it for now. We will deal with it when we get to the text extraction."
   ]
  },
  {
   "cell_type": "code",
   "execution_count": 121,
   "id": "e8636164-3512-4e67-b719-f6cecc4ad8f6",
   "metadata": {},
   "outputs": [
    {
     "name": "stdout",
     "output_type": "stream",
     "text": [
      "2364\n",
      "2312\n"
     ]
    }
   ],
   "source": [
    "print(len(spend_with_pennies_recipes))\n",
    "print(len(set(spend_with_pennies_recipes)))"
   ]
  },
  {
   "cell_type": "code",
   "execution_count": 123,
   "id": "2e6e3770-4974-4766-ab33-f497490167ad",
   "metadata": {},
   "outputs": [],
   "source": [
    "df = pd.DataFrame({'recipe_links':spend_with_pennies_recipes})\n",
    "\n",
    "# saving the dataframe \n",
    "df.to_csv('spend_with_pennies_recipe_links.csv') "
   ]
  },
  {
   "cell_type": "code",
   "execution_count": null,
   "id": "cb4862fa-c28f-4e97-9bb2-db5028fca006",
   "metadata": {},
   "outputs": [],
   "source": []
  },
  {
   "cell_type": "markdown",
   "id": "96555dc0-0ead-41e0-8c5d-2e9c21e170da",
   "metadata": {},
   "source": [
    "# The next website will be [Cafe Delites](https://cafedelites.com/)\n",
    "\n",
    "This one is also really easy. There is a path that lists all of the recipes in 94 pages."
   ]
  },
  {
   "cell_type": "code",
   "execution_count": 125,
   "id": "b2e1d629-5e51-4d0b-951d-55950e549b1a",
   "metadata": {},
   "outputs": [],
   "source": [
    "cafe_delites_recipes=[]\n",
    "headers = {'user-agent': 'Pindale UVA MSDS Project (mwp8zy@virginia.edu)'}\n",
    "easy_url = 'https://cafedelites.com/recipes/'\n",
    "r = requests.get(easy_url, headers=headers)\n",
    "soup = BeautifulSoup(r.content, 'html.parser')\n",
    "tags = soup.find_all(class_='entry-image-link')\n",
    "number_of_pages=94\n",
    "page_num = ['page/'+str(i)+'/' for i in range(2,number_of_pages+1)]\n",
    "for tag in tags:\n",
    "    cafe_delites_recipes.append(tag.get('href'))\n",
    "for page_urls in page_num:\n",
    "    r = requests.get(easy_url+page_urls, headers=headers)\n",
    "    soup = BeautifulSoup(r.content, 'html.parser')\n",
    "    tags = soup.find_all(class_='entry-image-link')\n",
    "    for tag in tags:\n",
    "        cafe_delites_recipes.append(tag.get('href'))"
   ]
  },
  {
   "cell_type": "code",
   "execution_count": 127,
   "id": "56223fc2-e75a-49d3-87da-4498e5806cb8",
   "metadata": {},
   "outputs": [
    {
     "name": "stdout",
     "output_type": "stream",
     "text": [
      "839\n",
      "839\n"
     ]
    }
   ],
   "source": [
    "print(len(cafe_delites_recipes))\n",
    "print(len(set(cafe_delites_recipes)))"
   ]
  },
  {
   "cell_type": "code",
   "execution_count": 128,
   "id": "17a40ccd-591c-408b-81cc-f05fe3b33199",
   "metadata": {},
   "outputs": [],
   "source": [
    "df = pd.DataFrame({'recipe_links':cafe_delites_recipes})\n",
    "\n",
    "# saving the dataframe \n",
    "df.to_csv('cafe_delites_recipe_links.csv') "
   ]
  },
  {
   "cell_type": "code",
   "execution_count": null,
   "id": "98e97f94-dc68-4fb1-a7cf-1f2b66e924b1",
   "metadata": {},
   "outputs": [],
   "source": []
  },
  {
   "cell_type": "code",
   "execution_count": null,
   "id": "9996c990-36ce-4cef-85a4-8853b15f0ec2",
   "metadata": {},
   "outputs": [],
   "source": []
  },
  {
   "cell_type": "markdown",
   "id": "ac67c938-0f25-438e-92a9-bb84c3a85d06",
   "metadata": {},
   "source": [
    "# The next one will be [Damn Delicious](https://damndelicious.net/)"
   ]
  },
  {
   "cell_type": "code",
   "execution_count": 162,
   "id": "296c5e15-cdcf-4be1-b5fb-27e7789a11b4",
   "metadata": {},
   "outputs": [],
   "source": [
    "headers = {'user-agent': 'Pindale UVA MSDS Project (mwp8zy@virginia.edu)'}\n",
    "url = 'https://damndelicious.net/recipe-index/'\n",
    "r = requests.get(url, headers=headers)\n",
    "soup = BeautifulSoup(r.content, 'html.parser')"
   ]
  },
  {
   "cell_type": "code",
   "execution_count": 166,
   "id": "54ee490a-4f6a-495b-8971-1ccdbb75fa8a",
   "metadata": {},
   "outputs": [],
   "source": [
    "#Getting the categories!\n",
    "cat_links = []\n",
    "trying = soup.select('div[class*=\"archive-post\"]')\n",
    "for EachPart in trying:\n",
    "    cat_links.append(EachPart.findNext().get('href'))\n",
    "    \n",
    "cat_links.remove(cat_links[6]) #this one is just her cookbooks"
   ]
  },
  {
   "cell_type": "code",
   "execution_count": 184,
   "id": "cf84b875-252b-43a2-863b-ca260d60ab85",
   "metadata": {},
   "outputs": [],
   "source": [
    "headers = {'user-agent': 'Pindale UVA MSDS Project (mwp8zy@virginia.edu)'}\n",
    "url = cat_links[4]\n",
    "r = requests.get(url+'/page/2/', headers=headers)\n",
    "soup = BeautifulSoup(r.content, 'html.parser')"
   ]
  },
  {
   "cell_type": "code",
   "execution_count": 185,
   "id": "2210add4-7c76-40fe-a994-9ebde2f262e9",
   "metadata": {},
   "outputs": [
    {
     "name": "stdout",
     "output_type": "stream",
     "text": [
      "https://damndelicious.net/2020/01/14/meal-prep-chicken-3-ways/\n",
      "https://damndelicious.net/2020/01/10/quick-chicken-taquitos/\n",
      "https://damndelicious.net/2019/12/10/quick-chicken-ramen-noodle-stir-fry/\n",
      "https://damndelicious.net/2019/10/21/honey-buffalo-wings-with-homemade-ranch/\n",
      "https://damndelicious.net/2019/10/05/chicken-harvest-salad/\n",
      "https://damndelicious.net/2019/10/01/cilantro-lime-chicken-wings/\n",
      "https://damndelicious.net/2019/09/24/skillet-lemon-dill-chicken-thighs/\n",
      "https://damndelicious.net/2019/09/09/grilled-honey-mustard-chicken-tenders/\n",
      "https://damndelicious.net/2019/08/28/greek-chicken-kabobs/\n",
      "https://damndelicious.net/2019/08/14/grilled-greek-chicken-salad/\n",
      "https://damndelicious.net/2019/08/10/instant-pot-lemon-chicken-thighs/\n",
      "https://damndelicious.net/2019/08/06/easy-chicken-tacos/\n",
      "https://damndelicious.net/2019/08/02/honey-garlic-asian-chicken-kabobs/\n",
      "https://damndelicious.net/2019/07/28/rosemary-chicken-and-peach-salad/\n",
      "https://damndelicious.net/2019/07/24/sheet-pan-chicken-fajitas/\n",
      "https://damndelicious.net/2019/07/20/thai-chicken-thighs/\n",
      "https://damndelicious.net/2019/07/02/sticky-asian-chicken-wings/\n",
      "https://damndelicious.net/2019/06/07/chicken-satay-with-peanut-sauce/\n",
      "https://damndelicious.net/2019/05/24/lemon-garlic-chicken-thighs/\n",
      "https://damndelicious.net/2019/05/14/instant-pot-chicken-stock/\n",
      "https://damndelicious.net/2019/05/11/slow-cooker-rotisserie-chicken/\n",
      "https://damndelicious.net/2019/05/03/slow-cooker-indian-butter-chicken/\n",
      "https://damndelicious.net/2019/04/29/grilled-chicken-cobb-salad/\n",
      "https://damndelicious.net/2019/04/27/slow-cooker-white-chicken-chili/\n"
     ]
    }
   ],
   "source": [
    "trying = soup.select('div[class*=\"archive-post\"]')\n",
    "for EachPart in trying:\n",
    "    print(EachPart.findNext().get('href'))"
   ]
  },
  {
   "cell_type": "code",
   "execution_count": 186,
   "id": "c13cd363-8de9-4922-8358-01c493cfa272",
   "metadata": {},
   "outputs": [
    {
     "data": {
      "text/plain": [
       "['https://damndelicious.net/category/appetizer/',\n",
       " 'https://damndelicious.net/category/asian-inspired/',\n",
       " 'https://damndelicious.net/category/bread/',\n",
       " 'https://damndelicious.net/category/breakfast/',\n",
       " 'https://damndelicious.net/category/chicken-recipes/',\n",
       " 'https://damndelicious.net/category/christmas/',\n",
       " 'https://damndelicious.net/category/dessert/',\n",
       " 'https://damndelicious.net/category/dog-food/',\n",
       " 'https://damndelicious.net/category/drink/',\n",
       " 'https://damndelicious.net/category/entree/',\n",
       " 'https://damndelicious.net/category/fall/',\n",
       " 'https://damndelicious.net/category/freezer-friendly/',\n",
       " 'https://damndelicious.net/category/game-day/',\n",
       " 'https://damndelicious.net/category/healthy/',\n",
       " 'https://damndelicious.net/category/instant-pot-recipes/',\n",
       " 'https://damndelicious.net/category/meal-prep/',\n",
       " 'https://damndelicious.net/category/one-pot/',\n",
       " 'https://damndelicious.net/category/pasta/',\n",
       " 'https://damndelicious.net/category/entree/quick-easy/',\n",
       " 'https://damndelicious.net/category/salad/',\n",
       " 'https://damndelicious.net/category/side-dish/',\n",
       " 'https://damndelicious.net/category/slow-cooker/',\n",
       " 'https://damndelicious.net/category/soup/',\n",
       " 'https://damndelicious.net/category/st-patricks-day/',\n",
       " 'https://damndelicious.net/category/summer/',\n",
       " 'https://damndelicious.net/category/thanksgiving/',\n",
       " 'https://damndelicious.net/category/travel/',\n",
       " 'https://damndelicious.net/category/vegetarian/']"
      ]
     },
     "execution_count": 186,
     "metadata": {},
     "output_type": "execute_result"
    }
   ],
   "source": [
    "cat_links"
   ]
  },
  {
   "cell_type": "code",
   "execution_count": 190,
   "id": "dd0d480b-19e5-406a-9c5a-a5e6c3cee4da",
   "metadata": {},
   "outputs": [],
   "source": [
    "damn_delicious_recipes=[]\n",
    "headers = {'user-agent': 'Pindale UVA MSDS Project (mwp8zy@virginia.edu)'}\n",
    "for i in range(len(cat_links)):\n",
    "    r = requests.get(cat_links[i], headers=headers)\n",
    "    soup = BeautifulSoup(r.content, 'html.parser')\n",
    "    pn_search = soup.find_all(class_='page-numbers') #trying to fins all of the page number info\n",
    "    try:\n",
    "        number_of_pages = int(pn_search[-2].get_text()) #turns out the number of pages lives here\n",
    "    except:\n",
    "        number_of_pages = 1 #sometimes there is only one page\n",
    "    page_num = ['page/'+str(i)+'/' for i in range(2,number_of_pages+1)]\n",
    "    tags = soup.select('div[class*=\"archive-post\"]')\n",
    "    for tag in tags:\n",
    "        damn_delicious_recipes.append(tag.findNext().get('href'))\n",
    "    for page_urls in page_num:\n",
    "        r = requests.get(cat_links[i]+page_urls, headers=headers)\n",
    "        soup = BeautifulSoup(r.content, 'html.parser')\n",
    "        tags = soup.select('div[class*=\"archive-post\"]')\n",
    "        for tag in tags:\n",
    "            damn_delicious_recipes.append(tag.findNext().get('href'))"
   ]
  },
  {
   "cell_type": "code",
   "execution_count": 195,
   "id": "47ce5dea-d217-43cd-9eff-78f5455896ce",
   "metadata": {},
   "outputs": [
    {
     "name": "stdout",
     "output_type": "stream",
     "text": [
      "3235\n",
      "1357\n"
     ]
    }
   ],
   "source": [
    "print(len(damn_delicious_recipes))\n",
    "print(len(set(damn_delicious_recipes))) #That is very concerning for repeats"
   ]
  },
  {
   "cell_type": "code",
   "execution_count": 194,
   "id": "56f79f9c-6fbc-43f8-a7d6-67c3f5339855",
   "metadata": {},
   "outputs": [],
   "source": [
    "df = pd.DataFrame({'recipe_links':damn_delicious_recipes})\n",
    "\n",
    "# saving the dataframe \n",
    "df.to_csv('damn_delicious_recipe_links.csv') "
   ]
  },
  {
   "cell_type": "code",
   "execution_count": null,
   "id": "0b3e06d5-faf2-4a26-915c-91746a6130fd",
   "metadata": {},
   "outputs": [],
   "source": []
  },
  {
   "cell_type": "markdown",
   "id": "823fc533-a3ed-41c6-a15c-0bf40b18a7ba",
   "metadata": {},
   "source": [
    "# Next up is [Gimma some Oven](https://www.gimmesomeoven.com/)"
   ]
  },
  {
   "cell_type": "code",
   "execution_count": 196,
   "id": "1250618c-67fc-4e02-ab9b-c221f85321f3",
   "metadata": {},
   "outputs": [],
   "source": [
    "gimme_some_oven_recipes=[]\n",
    "headers = {'user-agent': 'Pindale UVA MSDS Project (mwp8zy@virginia.edu)'}\n",
    "easy_url = 'https://www.gimmesomeoven.com/all-recipes/'\n",
    "r = requests.get(easy_url, headers=headers)\n",
    "soup = BeautifulSoup(r.content, 'html.parser')\n",
    "tags = soup.find_all(class_='teaser-post-sm')\n",
    "number_of_pages=149\n",
    "page_num = ['?fwp_paged='+str(i) for i in range(2,number_of_pages+1)]\n",
    "for tag in tags:\n",
    "    gimme_some_oven_recipes.append(tag.findNext().get('href'))\n",
    "for page_urls in page_num:\n",
    "    r = requests.get(easy_url+page_urls, headers=headers)\n",
    "    soup = BeautifulSoup(r.content, 'html.parser')\n",
    "    tags = soup.find_all(class_='teaser-post-sm')\n",
    "    for tag in tags:\n",
    "        gimme_some_oven_recipes.append(tag.findNext().get('href'))"
   ]
  },
  {
   "cell_type": "code",
   "execution_count": 198,
   "id": "58b8d63a-d426-4bd5-981e-7e81fb38bad2",
   "metadata": {},
   "outputs": [
    {
     "name": "stdout",
     "output_type": "stream",
     "text": [
      "1782\n",
      "1782\n"
     ]
    }
   ],
   "source": [
    "print(len(gimme_some_oven_recipes))\n",
    "print(len(set(gimme_some_oven_recipes)))"
   ]
  },
  {
   "cell_type": "code",
   "execution_count": 199,
   "id": "799a8a67-a152-4214-8ab9-5afe8bae3de1",
   "metadata": {},
   "outputs": [],
   "source": [
    "df = pd.DataFrame({'recipe_links':gimme_some_oven_recipes})\n",
    "\n",
    "# saving the dataframe \n",
    "df.to_csv('gimme_some_oven_recipe_links.csv') "
   ]
  },
  {
   "cell_type": "code",
   "execution_count": null,
   "id": "d7bd51ec-b480-47c9-bc7e-717f5a0dd664",
   "metadata": {},
   "outputs": [],
   "source": []
  },
  {
   "cell_type": "markdown",
   "id": "a17ca604-d246-42e1-a658-27db3b094151",
   "metadata": {},
   "source": [
    "# Next up is [Cooking Classy](https://www.cookingclassy.com/)"
   ]
  },
  {
   "cell_type": "code",
   "execution_count": 206,
   "id": "dc8ce8c2-a777-4f24-bf54-c68e4530f874",
   "metadata": {
    "collapsed": true,
    "jupyter": {
     "outputs_hidden": true
    },
    "tags": []
   },
   "outputs": [
    {
     "data": {
      "text/plain": [
       "['https://www.cookingclassy.com/recipes/appetizer/',\n",
       " 'https://www.cookingclassy.com/recipes/asian/',\n",
       " 'https://www.cookingclassy.com/recipes/meat/',\n",
       " 'https://www.cookingclassy.com/recipes/bread/',\n",
       " 'https://www.cookingclassy.com/recipes/breakfast/',\n",
       " 'https://www.cookingclassy.com/recipes/bars/',\n",
       " 'https://www.cookingclassy.com/recipes/cake/',\n",
       " 'https://www.cookingclassy.com/recipes/holidays/christmas/',\n",
       " 'https://www.cookingclassy.com/recipes/cookies/',\n",
       " 'https://www.cookingclassy.com/recipes/dessert/',\n",
       " 'https://www.cookingclassy.com/recipes/drinks/',\n",
       " 'https://www.cookingclassy.com/recipes/fall-faves/',\n",
       " 'https://www.cookingclassy.com/recipes/holidays/halloween/',\n",
       " 'https://www.cookingclassy.com/recipes/healthy/',\n",
       " 'https://www.cookingclassy.com/recipes/holidays/',\n",
       " 'https://www.cookingclassy.com/recipes/ice-cream/',\n",
       " 'https://www.cookingclassy.com/recipes/instant-pot/',\n",
       " 'https://www.cookingclassy.com/recipes/main-dish/',\n",
       " 'https://www.cookingclassy.com/recipes/mexican/',\n",
       " 'https://www.cookingclassy.com/recipes/muffins/',\n",
       " 'https://www.cookingclassy.com/recipes/italian/',\n",
       " 'https://www.cookingclassy.com/recipes/pie-cheesecake/',\n",
       " 'https://www.cookingclassy.com/recipes/poultry/',\n",
       " 'https://www.cookingclassy.com/recipes/sandwich/',\n",
       " 'https://www.cookingclassy.com/recipes/seafood/',\n",
       " 'https://www.cookingclassy.com/recipes/side/',\n",
       " 'https://www.cookingclassy.com/recipes/slow-cooker/',\n",
       " 'https://www.cookingclassy.com/recipes/soup/',\n",
       " 'https://www.cookingclassy.com/recipes/holidays/spring/',\n",
       " 'https://www.cookingclassy.com/recipes/tarts-and-pastries/',\n",
       " 'https://www.cookingclassy.com/recipes/holidays/thanksgiving/',\n",
       " 'https://www.cookingclassy.com/recipes/treats/',\n",
       " 'https://www.cookingclassy.com/recipes/holidays/valentines/']"
      ]
     },
     "execution_count": 206,
     "metadata": {},
     "output_type": "execute_result"
    }
   ],
   "source": [
    "headers = {'user-agent': 'Pindale UVA MSDS Project (mwp8zy@virginia.edu)'}\n",
    "url = 'https://www.cookingclassy.com/recipes/'\n",
    "r = requests.get(url, headers=headers)\n",
    "soup = BeautifulSoup(r.content, 'html.parser')\n",
    "\n",
    "\n",
    "#Getting the categories!\n",
    "cat_links = []\n",
    "trying = soup.find_all(class_='li-a')\n",
    "for EachPart in trying:\n",
    "    cat_links.append(EachPart.findNext().get('href'))\n",
    "    \n",
    "#cat_links.remove(cat_links[6]) #this one is just her cookbooks\n",
    "\n",
    "cat_links"
   ]
  },
  {
   "cell_type": "code",
   "execution_count": null,
   "id": "a1cc77b8-d6f2-4f9a-ab9c-456c7003b6fa",
   "metadata": {},
   "outputs": [],
   "source": []
  },
  {
   "cell_type": "code",
   "execution_count": null,
   "id": "2428b54f-d154-4ab3-a047-598a027d6278",
   "metadata": {},
   "outputs": [],
   "source": []
  },
  {
   "cell_type": "code",
   "execution_count": null,
   "id": "828b909c-f2d6-46be-a4f8-6f3a3dea12b5",
   "metadata": {},
   "outputs": [],
   "source": []
  },
  {
   "cell_type": "code",
   "execution_count": null,
   "id": "b0704878-59c2-4691-98fb-70ad1bf8ea42",
   "metadata": {},
   "outputs": [],
   "source": []
  },
  {
   "cell_type": "code",
   "execution_count": null,
   "id": "4a1ec574-cb62-46bf-8240-ffbf151a69be",
   "metadata": {},
   "outputs": [],
   "source": []
  },
  {
   "cell_type": "code",
   "execution_count": null,
   "id": "dbc43b5f-40cf-4748-93e5-f7ac3e25543e",
   "metadata": {},
   "outputs": [],
   "source": []
  },
  {
   "cell_type": "markdown",
   "id": "bd0de508-50b3-450c-9b56-ac0605bb2937",
   "metadata": {},
   "source": [
    "# [Sally's Baking Recipes](https://sallysbakingaddiction.com/)"
   ]
  },
  {
   "cell_type": "code",
   "execution_count": 202,
   "id": "781527be-a27d-4b1a-bbd8-a90c9092b795",
   "metadata": {},
   "outputs": [],
   "source": [
    "sallys_baking_recipes=[]\n",
    "headers = {'user-agent': 'Pindale UVA MSDS Project (mwp8zy@virginia.edu)'}\n",
    "easy_url = 'https://sallysbakingaddiction.com/recipe-index/'\n",
    "r = requests.get(easy_url, headers=headers)\n",
    "soup = BeautifulSoup(r.content, 'html.parser')\n",
    "tags = soup.find_all(class_='recipe-image')\n",
    "number_of_pages=59\n",
    "page_num = ['?fwp_paged='+str(i) for i in range(2,number_of_pages+1)]\n",
    "for tag in tags:\n",
    "    sallys_baking_recipes.append(tag.findNext().get('href'))\n",
    "for page_urls in page_num:\n",
    "    r = requests.get(easy_url+page_urls, headers=headers)\n",
    "    soup = BeautifulSoup(r.content, 'html.parser')\n",
    "    tags = soup.find_all(class_='recipe-image')\n",
    "    for tag in tags:\n",
    "        sallys_baking_recipes.append(tag.findNext().get('href'))"
   ]
  },
  {
   "cell_type": "code",
   "execution_count": 204,
   "id": "db442f60-04ce-4c38-84ff-9f25eaac0d9b",
   "metadata": {},
   "outputs": [
    {
     "name": "stdout",
     "output_type": "stream",
     "text": [
      "1167\n",
      "1167\n"
     ]
    }
   ],
   "source": [
    "print(len(sallys_baking_recipes))\n",
    "print(len(set(sallys_baking_recipes)))"
   ]
  },
  {
   "cell_type": "code",
   "execution_count": 205,
   "id": "91ec00b4-f7b0-492b-ae75-74e3ad3b9d65",
   "metadata": {},
   "outputs": [],
   "source": [
    "df = pd.DataFrame({'recipe_links':sallys_baking_recipes})\n",
    "\n",
    "# saving the dataframe \n",
    "df.to_csv('sallys_baking_recipe_links.csv') "
   ]
  },
  {
   "cell_type": "markdown",
   "id": "2fc9f22f-20d9-4b85-848b-7a042d575ca1",
   "metadata": {},
   "source": [
    "# [Natahsa's Kitchen](https://natashaskitchen.com/)"
   ]
  },
  {
   "cell_type": "code",
   "execution_count": null,
   "id": "b6cf9c65-d55a-431c-96ea-0afbed533514",
   "metadata": {},
   "outputs": [],
   "source": []
  },
  {
   "cell_type": "code",
   "execution_count": null,
   "id": "e0d22ae9-50cf-4651-b867-6448e739f9aa",
   "metadata": {},
   "outputs": [],
   "source": []
  },
  {
   "cell_type": "markdown",
   "id": "df9027f6-e265-48a1-9690-f7ae2e2ada24",
   "metadata": {},
   "source": [
    "# [Two Peas and Their Pod](https://www.twopeasandtheirpod.com/)"
   ]
  },
  {
   "cell_type": "code",
   "execution_count": null,
   "id": "f848db61-0e07-487c-968a-5f5027606eb1",
   "metadata": {},
   "outputs": [],
   "source": []
  },
  {
   "cell_type": "code",
   "execution_count": null,
   "id": "0d559ca1-4566-4d3b-bbaf-c25cbae3ad26",
   "metadata": {},
   "outputs": [],
   "source": []
  },
  {
   "cell_type": "markdown",
   "id": "583f06b5-20fc-489f-a4ef-10d9e403e9c1",
   "metadata": {},
   "source": [
    "# [Smitten Kitchen](https://smittenkitchen.com/)"
   ]
  },
  {
   "cell_type": "code",
   "execution_count": null,
   "id": "b135ceb5-81fc-43f4-95c9-799c66405233",
   "metadata": {},
   "outputs": [],
   "source": []
  },
  {
   "cell_type": "code",
   "execution_count": null,
   "id": "c126fc15-79a3-4bf4-878a-1c67aa42f98a",
   "metadata": {},
   "outputs": [],
   "source": []
  },
  {
   "cell_type": "code",
   "execution_count": null,
   "id": "cddeb7b2-a8b1-450a-85a0-ab16a5cdbae3",
   "metadata": {},
   "outputs": [],
   "source": []
  }
 ],
 "metadata": {
  "kernelspec": {
   "display_name": "Python 3",
   "language": "python",
   "name": "python3"
  },
  "language_info": {
   "codemirror_mode": {
    "name": "ipython",
    "version": 3
   },
   "file_extension": ".py",
   "mimetype": "text/x-python",
   "name": "python",
   "nbconvert_exporter": "python",
   "pygments_lexer": "ipython3",
   "version": "3.6.10"
  },
  "widgets": {
   "application/vnd.jupyter.widget-state+json": {
    "state": {},
    "version_major": 2,
    "version_minor": 0
   }
  }
 },
 "nbformat": 4,
 "nbformat_minor": 5
}
