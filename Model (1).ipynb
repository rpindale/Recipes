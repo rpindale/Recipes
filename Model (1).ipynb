{
 "cells": [
  {
   "cell_type": "code",
   "execution_count": 38,
   "metadata": {},
   "outputs": [
    {
     "name": "stdout",
     "output_type": "stream",
     "text": [
      "(1258, 4)\n"
     ]
    },
    {
     "data": {
      "text/html": [
       "<div>\n",
       "<style scoped>\n",
       "    .dataframe tbody tr th:only-of-type {\n",
       "        vertical-align: middle;\n",
       "    }\n",
       "\n",
       "    .dataframe tbody tr th {\n",
       "        vertical-align: top;\n",
       "    }\n",
       "\n",
       "    .dataframe thead th {\n",
       "        text-align: right;\n",
       "    }\n",
       "</style>\n",
       "<table border=\"1\" class=\"dataframe\">\n",
       "  <thead>\n",
       "    <tr style=\"text-align: right;\">\n",
       "      <th></th>\n",
       "      <th>cat</th>\n",
       "      <th>title</th>\n",
       "      <th>ingredients</th>\n",
       "      <th>instructions</th>\n",
       "    </tr>\n",
       "  </thead>\n",
       "  <tbody>\n",
       "    <tr>\n",
       "      <th>0</th>\n",
       "      <td>appetizer</td>\n",
       "      <td>Apple Cranberry Pecan Salad</td>\n",
       "      <td>6 cups baby spinach 1 Granny Smith apple, thi...</td>\n",
       "      <td>To make the vinaigrette, whisk together olive...</td>\n",
       "    </tr>\n",
       "    <tr>\n",
       "      <th>1</th>\n",
       "      <td>salad</td>\n",
       "      <td>Asian Pasta Salad</td>\n",
       "      <td>8 ounces elbows pasta 1 California Avocado, h...</td>\n",
       "      <td>To make the dressing, whisk together soy sauc...</td>\n",
       "    </tr>\n",
       "    <tr>\n",
       "      <th>2</th>\n",
       "      <td>quick-easy</td>\n",
       "      <td>Vegetable Kabobs</td>\n",
       "      <td>2 cups cremini mushrooms 1 cup cherry tomatoe...</td>\n",
       "      <td>Preheat oven to 400 degrees F. In a small bow...</td>\n",
       "    </tr>\n",
       "    <tr>\n",
       "      <th>3</th>\n",
       "      <td>salad</td>\n",
       "      <td>Harvest Cobb Salad</td>\n",
       "      <td>4 slices bacon, diced 2 large eggs 6 cups cho...</td>\n",
       "      <td>To make the poppy seed dressing, whisk togeth...</td>\n",
       "    </tr>\n",
       "    <tr>\n",
       "      <th>4</th>\n",
       "      <td>chicken-recipes</td>\n",
       "      <td>Quick Chicken and Broccoli Stir Fry</td>\n",
       "      <td>1 pound boneless, skinless chicken breasts, c...</td>\n",
       "      <td>In a small bowl, whisk together soy sauce, oy...</td>\n",
       "    </tr>\n",
       "  </tbody>\n",
       "</table>\n",
       "</div>"
      ],
      "text/plain": [
       "               cat                                title  \\\n",
       "0        appetizer          Apple Cranberry Pecan Salad   \n",
       "1            salad                    Asian Pasta Salad   \n",
       "2       quick-easy                     Vegetable Kabobs   \n",
       "3            salad                   Harvest Cobb Salad   \n",
       "4  chicken-recipes  Quick Chicken and Broccoli Stir Fry   \n",
       "\n",
       "                                         ingredients  \\\n",
       "0   6 cups baby spinach 1 Granny Smith apple, thi...   \n",
       "1   8 ounces elbows pasta 1 California Avocado, h...   \n",
       "2   2 cups cremini mushrooms 1 cup cherry tomatoe...   \n",
       "3   4 slices bacon, diced 2 large eggs 6 cups cho...   \n",
       "4   1 pound boneless, skinless chicken breasts, c...   \n",
       "\n",
       "                                        instructions  \n",
       "0   To make the vinaigrette, whisk together olive...  \n",
       "1   To make the dressing, whisk together soy sauc...  \n",
       "2   Preheat oven to 400 degrees F. In a small bow...  \n",
       "3   To make the poppy seed dressing, whisk togeth...  \n",
       "4   In a small bowl, whisk together soy sauce, oy...  "
      ]
     },
     "execution_count": 38,
     "metadata": {},
     "output_type": "execute_result"
    }
   ],
   "source": [
    "import pandas as pd\n",
    "import numpy as np\n",
    "colin = pd.read_csv('colin_webscrap.csv')\n",
    "colin.drop('Unnamed: 0', axis=1, inplace=True)\n",
    "print(colin.shape)\n",
    "colin.head()"
   ]
  },
  {
   "cell_type": "code",
   "execution_count": 45,
   "metadata": {},
   "outputs": [
    {
     "name": "stdout",
     "output_type": "stream",
     "text": [
      "(4479, 4)\n",
      "(1608, 4)\n"
     ]
    },
    {
     "data": {
      "text/html": [
       "<div>\n",
       "<style scoped>\n",
       "    .dataframe tbody tr th:only-of-type {\n",
       "        vertical-align: middle;\n",
       "    }\n",
       "\n",
       "    .dataframe tbody tr th {\n",
       "        vertical-align: top;\n",
       "    }\n",
       "\n",
       "    .dataframe thead th {\n",
       "        text-align: right;\n",
       "    }\n",
       "</style>\n",
       "<table border=\"1\" class=\"dataframe\">\n",
       "  <thead>\n",
       "    <tr style=\"text-align: right;\">\n",
       "      <th></th>\n",
       "      <th>category</th>\n",
       "      <th>title</th>\n",
       "      <th>ingredients</th>\n",
       "      <th>instructions</th>\n",
       "    </tr>\n",
       "  </thead>\n",
       "  <tbody>\n",
       "    <tr>\n",
       "      <th>132</th>\n",
       "      <td>appetizer</td>\n",
       "      <td>Sun Dried Tomato Basil Hummus</td>\n",
       "      <td>1  (15 oz) can chick peas, drained and liquid ...</td>\n",
       "      <td>Add chick peas to a food processor along with ...</td>\n",
       "    </tr>\n",
       "    <tr>\n",
       "      <th>2807</th>\n",
       "      <td>main-dish</td>\n",
       "      <td>Red Beans and Rice Recipe</td>\n",
       "      <td>1 lb. dried red kidney beans, (picked over) 1 ...</td>\n",
       "      <td>Add beans to a large bowl, pour in enough wate...</td>\n",
       "    </tr>\n",
       "    <tr>\n",
       "      <th>3281</th>\n",
       "      <td>mexican</td>\n",
       "      <td>Homemade Taco Seasoning</td>\n",
       "      <td>2 Tbsp chili powder 1 Tbsp ground cumin 1 tsp ...</td>\n",
       "      <td>Add all ingredients to a mixing bowl and whisk...</td>\n",
       "    </tr>\n",
       "    <tr>\n",
       "      <th>862</th>\n",
       "      <td>holidays/christmas</td>\n",
       "      <td>Lofthouse Style Snowman Sugar Cookies</td>\n",
       "      <td>2 1/3 cups (330g) all-purpose flour* 2 1/2  Tb...</td>\n",
       "      <td>In a large mixing bowl whisk together flour, c...</td>\n",
       "    </tr>\n",
       "    <tr>\n",
       "      <th>3399</th>\n",
       "      <td>italian</td>\n",
       "      <td>Instant Pot Mac and Cheese</td>\n",
       "      <td>2 1/4 cups water 1 (14.5 oz) can low-sodium ch...</td>\n",
       "      <td>Pour water and chicken broth into Instant Pot....</td>\n",
       "    </tr>\n",
       "  </tbody>\n",
       "</table>\n",
       "</div>"
      ],
      "text/plain": [
       "                category                                  title  \\\n",
       "132            appetizer          Sun Dried Tomato Basil Hummus   \n",
       "2807           main-dish              Red Beans and Rice Recipe   \n",
       "3281             mexican                Homemade Taco Seasoning   \n",
       "862   holidays/christmas  Lofthouse Style Snowman Sugar Cookies   \n",
       "3399             italian             Instant Pot Mac and Cheese   \n",
       "\n",
       "                                            ingredients  \\\n",
       "132   1  (15 oz) can chick peas, drained and liquid ...   \n",
       "2807  1 lb. dried red kidney beans, (picked over) 1 ...   \n",
       "3281  2 Tbsp chili powder 1 Tbsp ground cumin 1 tsp ...   \n",
       "862   2 1/3 cups (330g) all-purpose flour* 2 1/2  Tb...   \n",
       "3399  2 1/4 cups water 1 (14.5 oz) can low-sodium ch...   \n",
       "\n",
       "                                           instructions  \n",
       "132   Add chick peas to a food processor along with ...  \n",
       "2807  Add beans to a large bowl, pour in enough wate...  \n",
       "3281  Add all ingredients to a mixing bowl and whisk...  \n",
       "862   In a large mixing bowl whisk together flour, c...  \n",
       "3399  Pour water and chicken broth into Instant Pot....  "
      ]
     },
     "execution_count": 45,
     "metadata": {},
     "output_type": "execute_result"
    }
   ],
   "source": [
    "ryan = pd.read_csv('cooking_classy_text_data.csv')\n",
    "ryan.drop('Unnamed: 0', axis=1, inplace=True)\n",
    "print(ryan.shape)\n",
    "ryan.isna().sum()\n",
    "ryan = ryan.sample(frac=1)\n",
    "#ryan.head()\n",
    "print(ryan.drop_duplicates('title').shape)\n",
    "ryan = ryan.drop_duplicates('title')\n",
    "ryan.head()"
   ]
  },
  {
   "cell_type": "code",
   "execution_count": 46,
   "metadata": {},
   "outputs": [],
   "source": [
    "ryan = ryan.dropna()"
   ]
  },
  {
   "cell_type": "code",
   "execution_count": 47,
   "metadata": {},
   "outputs": [
    {
     "data": {
      "text/plain": [
       "(1258, 4)"
      ]
     },
     "execution_count": 47,
     "metadata": {},
     "output_type": "execute_result"
    }
   ],
   "source": [
    "# no duplicates\n",
    "colin.drop_duplicates('title').shape"
   ]
  },
  {
   "cell_type": "code",
   "execution_count": 48,
   "metadata": {},
   "outputs": [
    {
     "name": "stdout",
     "output_type": "stream",
     "text": [
      "(1505, 4)\n"
     ]
    },
    {
     "data": {
      "text/html": [
       "<div>\n",
       "<style scoped>\n",
       "    .dataframe tbody tr th:only-of-type {\n",
       "        vertical-align: middle;\n",
       "    }\n",
       "\n",
       "    .dataframe tbody tr th {\n",
       "        vertical-align: top;\n",
       "    }\n",
       "\n",
       "    .dataframe thead th {\n",
       "        text-align: right;\n",
       "    }\n",
       "</style>\n",
       "<table border=\"1\" class=\"dataframe\">\n",
       "  <thead>\n",
       "    <tr style=\"text-align: right;\">\n",
       "      <th></th>\n",
       "      <th>cat</th>\n",
       "      <th>Title</th>\n",
       "      <th>instructions</th>\n",
       "      <th>ingredients</th>\n",
       "    </tr>\n",
       "  </thead>\n",
       "  <tbody>\n",
       "    <tr>\n",
       "      <th>0</th>\n",
       "      <td>main-course</td>\n",
       "      <td>Gnocchi, Mushroom and Kale Soup</td>\n",
       "      <td>Sauté the veggies. Heat oil in a large stockpo...</td>\n",
       "      <td>2 tablespoons olive oil 1 medium white onion, ...</td>\n",
       "    </tr>\n",
       "    <tr>\n",
       "      <th>1</th>\n",
       "      <td>main-course</td>\n",
       "      <td>Greek Salmon Salad Bowls</td>\n",
       "      <td>Cook the salmon. Season the salmon with a few ...</td>\n",
       "      <td>1 pound salmon filets fine sea salt and freshl...</td>\n",
       "    </tr>\n",
       "    <tr>\n",
       "      <th>2</th>\n",
       "      <td>main-course</td>\n",
       "      <td>Pasta alla Boscaiola</td>\n",
       "      <td>Soften the mushrooms. In a medium saucepan, st...</td>\n",
       "      <td>3 cups vegetable broth 1 ounce dried porcini m...</td>\n",
       "    </tr>\n",
       "    <tr>\n",
       "      <th>3</th>\n",
       "      <td>main-course</td>\n",
       "      <td>Lemony Lentil Soup</td>\n",
       "      <td>Stovetop Instructions:  Sauté the veggies. Hea...</td>\n",
       "      <td>1 tablespoon olive oil 1 medium white onion, p...</td>\n",
       "    </tr>\n",
       "    <tr>\n",
       "      <th>4</th>\n",
       "      <td>main-course</td>\n",
       "      <td>Guinness Beef Stew</td>\n",
       "      <td>Sear the beef. Generously season the beef with...</td>\n",
       "      <td>3 tablespoons olive oil, divided 3 pounds beef...</td>\n",
       "    </tr>\n",
       "  </tbody>\n",
       "</table>\n",
       "</div>"
      ],
      "text/plain": [
       "           cat                            Title  \\\n",
       "0  main-course  Gnocchi, Mushroom and Kale Soup   \n",
       "1  main-course         Greek Salmon Salad Bowls   \n",
       "2  main-course             Pasta alla Boscaiola   \n",
       "3  main-course               Lemony Lentil Soup   \n",
       "4  main-course               Guinness Beef Stew   \n",
       "\n",
       "                                        instructions  \\\n",
       "0  Sauté the veggies. Heat oil in a large stockpo...   \n",
       "1  Cook the salmon. Season the salmon with a few ...   \n",
       "2  Soften the mushrooms. In a medium saucepan, st...   \n",
       "3  Stovetop Instructions:  Sauté the veggies. Hea...   \n",
       "4  Sear the beef. Generously season the beef with...   \n",
       "\n",
       "                                         ingredients  \n",
       "0  2 tablespoons olive oil 1 medium white onion, ...  \n",
       "1  1 pound salmon filets fine sea salt and freshl...  \n",
       "2  3 cups vegetable broth 1 ounce dried porcini m...  \n",
       "3  1 tablespoon olive oil 1 medium white onion, p...  \n",
       "4  3 tablespoons olive oil, divided 3 pounds beef...  "
      ]
     },
     "execution_count": 48,
     "metadata": {},
     "output_type": "execute_result"
    }
   ],
   "source": [
    "ed = pd.read_csv('GSOScrapped.csv')\n",
    "print(ed.shape)\n",
    "ed.head()"
   ]
  },
  {
   "cell_type": "code",
   "execution_count": 49,
   "metadata": {},
   "outputs": [],
   "source": [
    "ed.drop_duplicates('Title').shape\n",
    "ed = ed.drop_duplicates('Title')\n",
    "ed = ed.dropna()"
   ]
  },
  {
   "cell_type": "code",
   "execution_count": 50,
   "metadata": {},
   "outputs": [
    {
     "data": {
      "text/plain": [
       "(1362, 4)"
      ]
     },
     "execution_count": 50,
     "metadata": {},
     "output_type": "execute_result"
    }
   ],
   "source": [
    "ed.shape"
   ]
  },
  {
   "cell_type": "code",
   "execution_count": 51,
   "metadata": {},
   "outputs": [
    {
     "data": {
      "text/plain": [
       "Index(['cat', 'title', 'ingredients', 'instructions'], dtype='object')"
      ]
     },
     "execution_count": 51,
     "metadata": {},
     "output_type": "execute_result"
    }
   ],
   "source": [
    "colin.columns"
   ]
  },
  {
   "cell_type": "code",
   "execution_count": 52,
   "metadata": {},
   "outputs": [
    {
     "data": {
      "text/plain": [
       "Index(['cat', 'Title', 'instructions', 'ingredients'], dtype='object')"
      ]
     },
     "execution_count": 52,
     "metadata": {},
     "output_type": "execute_result"
    }
   ],
   "source": [
    "ed.columns"
   ]
  },
  {
   "cell_type": "code",
   "execution_count": 53,
   "metadata": {},
   "outputs": [
    {
     "data": {
      "text/plain": [
       "Index(['category', 'title', 'ingredients', 'instructions'], dtype='object')"
      ]
     },
     "execution_count": 53,
     "metadata": {},
     "output_type": "execute_result"
    }
   ],
   "source": [
    "ryan.columns"
   ]
  },
  {
   "cell_type": "code",
   "execution_count": 54,
   "metadata": {},
   "outputs": [
    {
     "name": "stdout",
     "output_type": "stream",
     "text": [
      "Index(['cat', 'title', 'ingredients', 'instructions'], dtype='object')\n"
     ]
    },
    {
     "data": {
      "text/plain": [
       "Index(['cat', 'title', 'instructions', 'ingredients'], dtype='object')"
      ]
     },
     "execution_count": 54,
     "metadata": {},
     "output_type": "execute_result"
    }
   ],
   "source": [
    "ed = ed.rename(columns={'Title':'title'})\n",
    "ryan = ryan.rename(columns={'category':'cat'})\n",
    "print(ryan.columns)\n",
    "ed.columns"
   ]
  },
  {
   "cell_type": "code",
   "execution_count": 55,
   "metadata": {},
   "outputs": [
    {
     "data": {
      "text/plain": [
       "(4052, 4)"
      ]
     },
     "execution_count": 55,
     "metadata": {},
     "output_type": "execute_result"
    }
   ],
   "source": [
    "merged = colin.append(ed).reset_index().drop('index',axis=1)\n",
    "merged = merged.append(ryan).reset_index().drop('index', axis=1)\n",
    "merged.shape"
   ]
  },
  {
   "cell_type": "code",
   "execution_count": 56,
   "metadata": {},
   "outputs": [
    {
     "data": {
      "text/html": [
       "<div>\n",
       "<style scoped>\n",
       "    .dataframe tbody tr th:only-of-type {\n",
       "        vertical-align: middle;\n",
       "    }\n",
       "\n",
       "    .dataframe tbody tr th {\n",
       "        vertical-align: top;\n",
       "    }\n",
       "\n",
       "    .dataframe thead th {\n",
       "        text-align: right;\n",
       "    }\n",
       "</style>\n",
       "<table border=\"1\" class=\"dataframe\">\n",
       "  <thead>\n",
       "    <tr style=\"text-align: right;\">\n",
       "      <th></th>\n",
       "      <th>cat</th>\n",
       "      <th>title</th>\n",
       "      <th>ingredients</th>\n",
       "      <th>instructions</th>\n",
       "    </tr>\n",
       "  </thead>\n",
       "  <tbody>\n",
       "    <tr>\n",
       "      <th>4047</th>\n",
       "      <td>drinks</td>\n",
       "      <td>Sparkling Limeade with Honey Recipe</td>\n",
       "      <td>1 liter club soda or sparkling water (, chille...</td>\n",
       "      <td>In a pitcher whisk together 1/2 cup water and ...</td>\n",
       "    </tr>\n",
       "    <tr>\n",
       "      <th>4048</th>\n",
       "      <td>poultry</td>\n",
       "      <td>Chicken Cordon Bleu (with Creamy Dijon Sauce)</td>\n",
       "      <td>3/4 cup low-sodium chicken broth 2 tsp cornsta...</td>\n",
       "      <td>Whisk together chicken broth and cornstarch un...</td>\n",
       "    </tr>\n",
       "    <tr>\n",
       "      <th>4049</th>\n",
       "      <td>breakfast</td>\n",
       "      <td>Raspberry Cheesecake Stuffed French Toast</td>\n",
       "      <td>2/3 cup Neufchatel Cheese or 1/3 less fat Crea...</td>\n",
       "      <td>Preheat a nonstick griddle over medium heat or...</td>\n",
       "    </tr>\n",
       "    <tr>\n",
       "      <th>4050</th>\n",
       "      <td>poultry</td>\n",
       "      <td>Creamy Lemon Romano Chicken</td>\n",
       "      <td>2 (11 - 12 oz) boneless skinless chicken breas...</td>\n",
       "      <td>Pound thicker parts of chicken breasts out eve...</td>\n",
       "    </tr>\n",
       "    <tr>\n",
       "      <th>4051</th>\n",
       "      <td>drinks</td>\n",
       "      <td>Sugar-Free Strawberry Lemonade (Made with Stev...</td>\n",
       "      <td>1 1/2 lbs chilled strawberries (, hulled) 8 cu...</td>\n",
       "      <td>Add strawberries to a food processor and pulse...</td>\n",
       "    </tr>\n",
       "  </tbody>\n",
       "</table>\n",
       "</div>"
      ],
      "text/plain": [
       "            cat                                              title  \\\n",
       "4047     drinks                Sparkling Limeade with Honey Recipe   \n",
       "4048    poultry      Chicken Cordon Bleu (with Creamy Dijon Sauce)   \n",
       "4049  breakfast          Raspberry Cheesecake Stuffed French Toast   \n",
       "4050    poultry                        Creamy Lemon Romano Chicken   \n",
       "4051     drinks  Sugar-Free Strawberry Lemonade (Made with Stev...   \n",
       "\n",
       "                                            ingredients  \\\n",
       "4047  1 liter club soda or sparkling water (, chille...   \n",
       "4048  3/4 cup low-sodium chicken broth 2 tsp cornsta...   \n",
       "4049  2/3 cup Neufchatel Cheese or 1/3 less fat Crea...   \n",
       "4050  2 (11 - 12 oz) boneless skinless chicken breas...   \n",
       "4051  1 1/2 lbs chilled strawberries (, hulled) 8 cu...   \n",
       "\n",
       "                                           instructions  \n",
       "4047  In a pitcher whisk together 1/2 cup water and ...  \n",
       "4048  Whisk together chicken broth and cornstarch un...  \n",
       "4049  Preheat a nonstick griddle over medium heat or...  \n",
       "4050  Pound thicker parts of chicken breasts out eve...  \n",
       "4051  Add strawberries to a food processor and pulse...  "
      ]
     },
     "execution_count": 56,
     "metadata": {},
     "output_type": "execute_result"
    }
   ],
   "source": [
    "merged.tail()"
   ]
  },
  {
   "cell_type": "code",
   "execution_count": 57,
   "metadata": {},
   "outputs": [
    {
     "data": {
      "text/plain": [
       "main-course           618\n",
       "dessert               513\n",
       "breakfast             255\n",
       "appetizer             201\n",
       "main-dish             192\n",
       "                     ... \n",
       "pizzas                  8\n",
       "spreads                 6\n",
       "holidays/spring         6\n",
       "tarts-and-pastries      6\n",
       "instant-pot             1\n",
       "Name: cat, Length: 62, dtype: int64"
      ]
     },
     "execution_count": 57,
     "metadata": {},
     "output_type": "execute_result"
    }
   ],
   "source": [
    "merged.cat.value_counts()"
   ]
  },
  {
   "cell_type": "code",
   "execution_count": 62,
   "metadata": {},
   "outputs": [
    {
     "data": {
      "text/plain": [
       "main-course        887\n",
       "dessert            720\n",
       "appetizers         370\n",
       "breakfast          255\n",
       "quick-easy         209\n",
       "holidays           195\n",
       "chicken-recipes    178\n",
       "healthy            169\n",
       "drinks             149\n",
       "pasta              133\n",
       "vegetarian         124\n",
       "asian              110\n",
       "soup               107\n",
       "seasonal            89\n",
       "slow-cooker         76\n",
       "baked-goods         55\n",
       "one-pot             39\n",
       "sauces              37\n",
       "game-day            35\n",
       "seafood             23\n",
       "Name: cat, dtype: int64"
      ]
     },
     "execution_count": 62,
     "metadata": {},
     "output_type": "execute_result"
    }
   ],
   "source": [
    "merged.loc[merged.cat == 'ice-cream', 'cat'] = 'dessert'\n",
    "merged.loc[merged.cat == 'poultry', 'cat'] = 'chicken-recipes'\n",
    "merged.loc[merged.cat == 'instant-pot', 'cat'] = 'slow-cooker'\n",
    "merged.loc[merged.cat == 'italian', 'cat'] = 'pasta'\n",
    "merged.loc[merged.cat == 'treats', 'cat'] = 'dessert'\n",
    "merged.loc[merged.cat == 'bars', 'cat'] = 'dessert'\n",
    "merged = merged.drop(merged[merged.cat == 'mexican'].index)\n",
    "merged = merged.drop(merged[merged.cat == 'side'].index)\n",
    "merged.loc[merged.cat == 'appetizer', 'cat'] = 'appetizers'\n",
    "merged.loc[merged.cat == 'pastas', 'cat'] = 'pasta'\n",
    "merged.loc[merged.cat == 'bread', 'cat'] = 'baked-goods'\n",
    "merged.loc[merged.cat == 'snacks', 'cat'] = 'appetizers'\n",
    "merged.loc[merged.cat == 'beverages', 'cat'] = 'drinks'\n",
    "merged.loc[merged.cat == 'entree','cat'] = 'main-course'\n",
    "merged.loc[merged.cat == 'drink', 'cat'] = 'drinks'\n",
    "merged.loc[merged.cat == 'smoothies', 'cat'] = 'drinks'\n",
    "merged.loc[merged.cat == 'spreads', 'cat'] = 'sauces'\n",
    "merged.loc[merged.cat == 'salsas-sauces', 'cat'] = 'sauces'\n",
    "merged.loc[merged.cat == 'dip', 'cat'] = 'sauces'\n",
    "merged.loc[merged.cat == 'pizzas', 'cat'] = 'main-course'\n",
    "merged.loc[merged.cat == 'sandwiches', 'cat'] = 'quick-easy'\n",
    "merged.loc[merged.cat == 'sandwich', 'cat'] = 'quick-easy'\n",
    "merged.loc[merged.cat == 'fall', 'cat'] = 'seasonal'\n",
    "merged.loc[merged.cat == 'summer', 'cat'] = 'seasonal'\n",
    "merged.loc[merged.cat == 'side-dish', 'cat'] = 'appetizers'\n",
    "merged.loc[merged.cat == 'salad', 'cat'] = 'vegetarian'\n",
    "merged.loc[merged.cat == 'meal-prep', 'cat'] = 'quick-easy'\n",
    "merged.loc[merged.cat == 'thanksgiving', 'cat'] = 'holidays'\n",
    "merged.loc[merged.cat == 'christmas', 'cat'] = 'holidays'\n",
    "merged.loc[merged.cat == 'instant-pot-recipes', 'cat'] = 'slow-cooker'\n",
    "merged.loc[merged.cat == 'fall-faves', 'cat'] = 'seasonal'\n",
    "merged.loc[merged.cat == 'cookies', 'cat'] = 'dessert'\n",
    "merged.loc[merged.cat == 'holidays/christmas', 'cat'] = 'holidays'\n",
    "merged.loc[merged.cat == 'cake', 'cat'] = 'dessert'\n",
    "merged.loc[merged.cat == 'meat', 'cat'] = 'main-course'\n",
    "merged.loc[merged.cat == 'asian-inspired', 'cat'] = 'asian'\n",
    "merged.loc[merged.cat == 'main-dish', 'cat'] = 'main-course'\n",
    "merged.loc[merged.cat == 'tarts-and-pastries'] = 'dessert'\n",
    "merged.loc[merged.cat == 'holidays/spring'] ='holidays'\n",
    "merged.loc[merged.cat == 'holidays/valentines'] ='holidays'\n",
    "merged.loc[merged.cat == 'holidays/halloween'] ='holidays'\n",
    "merged.loc[merged.cat == 'muffins'] ='baked-goods'\n",
    "merged.loc[merged.cat == 'pie-cheesecake'] ='dessert'\n",
    "merged.loc[merged.cat == 'holidays/thanksgiving'] ='holidays'\n",
    "\n",
    "\n",
    "merged.cat.value_counts()"
   ]
  },
  {
   "cell_type": "code",
   "execution_count": 63,
   "metadata": {},
   "outputs": [
    {
     "data": {
      "text/plain": [
       "main-course        0.223990\n",
       "dessert            0.181818\n",
       "appetizers         0.093434\n",
       "breakfast          0.064394\n",
       "quick-easy         0.052778\n",
       "holidays           0.049242\n",
       "chicken-recipes    0.044949\n",
       "healthy            0.042677\n",
       "drinks             0.037626\n",
       "pasta              0.033586\n",
       "vegetarian         0.031313\n",
       "asian              0.027778\n",
       "soup               0.027020\n",
       "seasonal           0.022475\n",
       "slow-cooker        0.019192\n",
       "baked-goods        0.013889\n",
       "one-pot            0.009848\n",
       "sauces             0.009343\n",
       "game-day           0.008838\n",
       "seafood            0.005808\n",
       "Name: cat, dtype: float64"
      ]
     },
     "execution_count": 63,
     "metadata": {},
     "output_type": "execute_result"
    }
   ],
   "source": [
    "merged.cat.value_counts()/len(merged.cat)"
   ]
  },
  {
   "cell_type": "code",
   "execution_count": 65,
   "metadata": {},
   "outputs": [
    {
     "data": {
      "text/plain": [
       "20"
      ]
     },
     "execution_count": 65,
     "metadata": {},
     "output_type": "execute_result"
    }
   ],
   "source": [
    "len(merged.cat.value_counts())"
   ]
  },
  {
   "cell_type": "code",
   "execution_count": 66,
   "metadata": {},
   "outputs": [],
   "source": [
    "merged.cat = pd.Categorical(merged.cat)\n",
    "merged['y'] = merged.cat.cat.codes\n",
    "merged.y = [np.int64(x) for x in merged.y]\n",
    "merged.y = pd.Series(merged.y)"
   ]
  },
  {
   "cell_type": "code",
   "execution_count": 67,
   "metadata": {},
   "outputs": [],
   "source": [
    "y =merged.y"
   ]
  },
  {
   "cell_type": "code",
   "execution_count": 68,
   "metadata": {},
   "outputs": [
    {
     "data": {
      "text/plain": [
       "(3960,)"
      ]
     },
     "execution_count": 68,
     "metadata": {},
     "output_type": "execute_result"
    }
   ],
   "source": [
    "import numpy as np\n",
    "x = np.hstack(merged['title'] + merged['ingredients']+ merged['instructions'])\n",
    "x.shape"
   ]
  },
  {
   "cell_type": "code",
   "execution_count": 69,
   "metadata": {},
   "outputs": [
    {
     "data": {
      "text/plain": [
       "(2772, 7049)"
      ]
     },
     "execution_count": 69,
     "metadata": {},
     "output_type": "execute_result"
    }
   ],
   "source": [
    "from sklearn.feature_extraction.text import CountVectorizer\n",
    "from sklearn.naive_bayes import MultinomialNB\n",
    "from sklearn.pipeline import Pipeline\n",
    "from sklearn.linear_model import SGDClassifier\n",
    "from sklearn.svm import LinearSVC, SVC\n",
    "from sklearn.tree import DecisionTreeClassifier\n",
    "from sklearn.feature_extraction.text import TfidfTransformer\n",
    "from sklearn.ensemble import RandomForestClassifier\n",
    "from sklearn import metrics\n",
    "from sklearn.ensemble import BaggingClassifier\n",
    "from collections import Counter\n",
    "from sklearn.feature_extraction.text import TfidfVectorizer\n",
    "from keras.preprocessing.text import one_hot , Tokenizer\n",
    "from keras.preprocessing.sequence import pad_sequences\n",
    "from keras.models import Sequential\n",
    "from keras.layers import Dropout, Dense\n",
    "from keras.layers import Flatten\n",
    "from keras.layers.embeddings import Embedding\n",
    "from keras.callbacks import ModelCheckpoint, EarlyStopping, LearningRateScheduler\n",
    "from sklearn.model_selection import train_test_split\n",
    "\n",
    "\n",
    "xtrain, xtest, ytrain, ytest = train_test_split(x, y, test_size=0.3, random_state=42)\n",
    "ttrain, ttest, ingtrain, ingtest, insttrain, insttest, y1train, y1test = train_test_split(merged.title, merged.ingredients, \n",
    "                                                                                        merged.instructions, merged.cat, test_size=.3, \n",
    "                                                                                        random_state = 420)\n",
    "count = CountVectorizer()\n",
    "xtraincounts = count.fit_transform(xtrain)\n",
    "xtraincounts.shape"
   ]
  },
  {
   "cell_type": "markdown",
   "metadata": {},
   "source": [
    "Naive Bayes"
   ]
  },
  {
   "cell_type": "code",
   "execution_count": 70,
   "metadata": {},
   "outputs": [],
   "source": [
    "clf = MultinomialNB().fit(xtraincounts, ytrain)"
   ]
  },
  {
   "cell_type": "code",
   "execution_count": 71,
   "metadata": {},
   "outputs": [
    {
     "data": {
      "text/plain": [
       "0.39532149452898735"
      ]
     },
     "execution_count": 71,
     "metadata": {},
     "output_type": "execute_result"
    }
   ],
   "source": [
    "testvector = count.transform(xtest)\n",
    "predict = clf.predict(testvector)\n",
    "metrics.f1_score(ytest, predict, average='macro')"
   ]
  },
  {
   "cell_type": "code",
   "execution_count": 72,
   "metadata": {},
   "outputs": [
    {
     "data": {
      "text/plain": [
       "0.02984616125467019"
      ]
     },
     "execution_count": 72,
     "metadata": {},
     "output_type": "execute_result"
    }
   ],
   "source": [
    "xtraincounts = count.fit_transform(ttrain)\n",
    "clf = MultinomialNB().fit(xtraincounts, ytrain)\n",
    "testvector = count.transform(ttest)\n",
    "predict = clf.predict(testvector)\n",
    "metrics.f1_score(ytest, predict, average='macro')"
   ]
  },
  {
   "cell_type": "code",
   "execution_count": 73,
   "metadata": {},
   "outputs": [
    {
     "data": {
      "text/plain": [
       "0.04092013503195958"
      ]
     },
     "execution_count": 73,
     "metadata": {},
     "output_type": "execute_result"
    }
   ],
   "source": [
    "xtraincounts = count.fit_transform(ingtrain)\n",
    "clf = MultinomialNB().fit(xtraincounts, ytrain)\n",
    "testvector = count.transform(ingtest)\n",
    "predict = clf.predict(testvector)\n",
    "metrics.f1_score(ytest, predict, average='macro')"
   ]
  },
  {
   "cell_type": "code",
   "execution_count": 74,
   "metadata": {},
   "outputs": [
    {
     "data": {
      "text/plain": [
       "0.039917413775848586"
      ]
     },
     "execution_count": 74,
     "metadata": {},
     "output_type": "execute_result"
    }
   ],
   "source": [
    "xtraincounts = count.fit_transform(insttrain)\n",
    "clf = MultinomialNB().fit(xtraincounts, ytrain)\n",
    "testvector = count.transform(insttest)\n",
    "predict = clf.predict(testvector)\n",
    "metrics.f1_score(ytest, predict, average='macro')"
   ]
  },
  {
   "cell_type": "markdown",
   "metadata": {},
   "source": [
    "Random Forest"
   ]
  },
  {
   "cell_type": "code",
   "execution_count": 75,
   "metadata": {},
   "outputs": [],
   "source": [
    "pipeitup = Pipeline([\n",
    "    ('vect', CountVectorizer()),\n",
    "    ('tfidf', TfidfTransformer()),\n",
    "    ('clf', RandomForestClassifier(n_estimators=1000))\n",
    "])"
   ]
  },
  {
   "cell_type": "code",
   "execution_count": 76,
   "metadata": {},
   "outputs": [
    {
     "data": {
      "text/plain": [
       "0.35133545423122514"
      ]
     },
     "execution_count": 76,
     "metadata": {},
     "output_type": "execute_result"
    }
   ],
   "source": [
    "pipeitup.fit(xtrain, ytrain)\n",
    "predicted=pipeitup.predict(xtest)\n",
    "metrics.f1_score(ytest, predicted, average='macro')"
   ]
  },
  {
   "cell_type": "code",
   "execution_count": 59,
   "metadata": {
    "collapsed": true,
    "jupyter": {
     "outputs_hidden": true,
     "source_hidden": true
    }
   },
   "outputs": [
    {
     "ename": "AttributeError",
     "evalue": "'GridSearchCV' object has no attribute 'best_params'",
     "output_type": "error",
     "traceback": [
      "\u001b[0;31m---------------------------------------------------------------------------\u001b[0m",
      "\u001b[0;31mAttributeError\u001b[0m                            Traceback (most recent call last)",
      "\u001b[0;32m<ipython-input-59-83678ac2caf4>\u001b[0m in \u001b[0;36m<module>\u001b[0;34m\u001b[0m\n\u001b[1;32m      6\u001b[0m \u001b[0mgs\u001b[0m \u001b[0;34m=\u001b[0m \u001b[0mGridSearchCV\u001b[0m\u001b[0;34m(\u001b[0m\u001b[0mpipeitup\u001b[0m\u001b[0;34m,\u001b[0m \u001b[0mparam_grid\u001b[0m\u001b[0;34m,\u001b[0m \u001b[0mcv\u001b[0m\u001b[0;34m=\u001b[0m\u001b[0;36m5\u001b[0m\u001b[0;34m)\u001b[0m\u001b[0;34m\u001b[0m\u001b[0;34m\u001b[0m\u001b[0m\n\u001b[1;32m      7\u001b[0m \u001b[0mgs\u001b[0m \u001b[0;34m=\u001b[0m \u001b[0mgs\u001b[0m\u001b[0;34m.\u001b[0m\u001b[0mfit\u001b[0m\u001b[0;34m(\u001b[0m\u001b[0mxtrain\u001b[0m\u001b[0;34m,\u001b[0m \u001b[0mytrain\u001b[0m\u001b[0;34m)\u001b[0m\u001b[0;34m\u001b[0m\u001b[0;34m\u001b[0m\u001b[0m\n\u001b[0;32m----> 8\u001b[0;31m \u001b[0mgs\u001b[0m\u001b[0;34m.\u001b[0m\u001b[0mbest_params\u001b[0m\u001b[0;34m\u001b[0m\u001b[0;34m\u001b[0m\u001b[0m\n\u001b[0m",
      "\u001b[0;31mAttributeError\u001b[0m: 'GridSearchCV' object has no attribute 'best_params'"
     ]
    }
   ],
   "source": [
    "param_grid ={'clf__n_estimators' :[100,200,600,800,1000],\n",
    "             'clf__min_samples_split' : [2,4,6,8],\n",
    "            'tfidf__use_idf': (True, False),\n",
    "            }\n",
    "from sklearn.model_selection import GridSearchCV\n",
    "gs = GridSearchCV(pipeitup, param_grid, cv=5)\n",
    "gs = gs.fit(xtrain, ytrain)\n"
   ]
  },
  {
   "cell_type": "code",
   "execution_count": 60,
   "metadata": {},
   "outputs": [
    {
     "data": {
      "text/plain": [
       "{'clf__min_samples_split': 2,\n",
       " 'clf__n_estimators': 1000,\n",
       " 'tfidf__use_idf': True}"
      ]
     },
     "execution_count": 60,
     "metadata": {},
     "output_type": "execute_result"
    }
   ],
   "source": [
    "gs.best_params_"
   ]
  },
  {
   "cell_type": "code",
   "execution_count": 61,
   "metadata": {},
   "outputs": [
    {
     "data": {
      "text/plain": [
       "0.37581515764068074"
      ]
     },
     "execution_count": 61,
     "metadata": {},
     "output_type": "execute_result"
    }
   ],
   "source": [
    "predicted = gs.predict(xtest)\n",
    "metrics.f1_score(ytest, predicted, average='macro')"
   ]
  },
  {
   "cell_type": "markdown",
   "metadata": {},
   "source": [
    "SGD"
   ]
  },
  {
   "cell_type": "code",
   "execution_count": 78,
   "metadata": {},
   "outputs": [],
   "source": [
    "textclf = Pipeline([\n",
    "    ('vect', CountVectorizer()),\n",
    "    ('tfidf', TfidfTransformer()),\n",
    "    ('clf', SGDClassifier(loss='hinge', penalty='l1',\n",
    "                         alpha=1e-3, random_state=420,\n",
    "                         wmax_iter=5, tol=None))\n",
    "])"
   ]
  },
  {
   "cell_type": "code",
   "execution_count": 79,
   "metadata": {},
   "outputs": [
    {
     "data": {
      "text/plain": [
       "0.35133545423122514"
      ]
     },
     "execution_count": 79,
     "metadata": {},
     "output_type": "execute_result"
    }
   ],
   "source": [
    "textclf.fit(xtrain, ytrain)\n",
    "predict = textclf.predict(xtest)\n",
    "metrics.f1_score(ytest, predicted, average='macro')"
   ]
  },
  {
   "cell_type": "markdown",
   "metadata": {},
   "source": [
    "SVC"
   ]
  },
  {
   "cell_type": "code",
   "execution_count": 80,
   "metadata": {},
   "outputs": [
    {
     "data": {
      "text/plain": [
       "0.4494329402105873"
      ]
     },
     "execution_count": 80,
     "metadata": {},
     "output_type": "execute_result"
    }
   ],
   "source": [
    "pipeitupagain = Pipeline([\n",
    "    ('vect', CountVectorizer()),\n",
    "    ('tfidf', TfidfTransformer()),\n",
    "    ('clf', SVC(C=4, random_state=420))\n",
    "])\n",
    "\n",
    "pipeitupagain.fit(xtrain,ytrain)\n",
    "predict = pipeitupagain.predict(xtest)\n",
    "metrics.f1_score(ytest, predict, average='macro')"
   ]
  },
  {
   "cell_type": "markdown",
   "metadata": {},
   "source": [
    "Linear SVC"
   ]
  },
  {
   "cell_type": "code",
   "execution_count": 81,
   "metadata": {},
   "outputs": [
    {
     "data": {
      "text/plain": [
       "0.45689323483424815"
      ]
     },
     "execution_count": 81,
     "metadata": {},
     "output_type": "execute_result"
    }
   ],
   "source": [
    "pipeitupagain = Pipeline([\n",
    "    ('vect', CountVectorizer()),\n",
    "    ('tfidf', TfidfTransformer()),\n",
    "    ('clf', LinearSVC(random_state=420, tol=1e-5))\n",
    "])\n",
    "\n",
    "pipeitupagain.fit(xtrain,ytrain)\n",
    "predict = pipeitupagain.predict(xtest)\n",
    "metrics.f1_score(ytest, predict, average='macro')"
   ]
  },
  {
   "cell_type": "markdown",
   "metadata": {},
   "source": [
    "Voting LInear SVC and SVC"
   ]
  },
  {
   "cell_type": "code",
   "execution_count": 82,
   "metadata": {
    "jupyter": {
     "source_hidden": true
    }
   },
   "outputs": [
    {
     "data": {
      "text/plain": [
       "0.43925286558946414"
      ]
     },
     "execution_count": 82,
     "metadata": {},
     "output_type": "execute_result"
    }
   ],
   "source": [
    "from sklearn.ensemble import VotingClassifier\n",
    "c1 = LinearSVC(random_state=420, tol=1e-5)\n",
    "c2 = SVC(C=4, random_state=420)\n",
    "vote = VotingClassifier(estimators=[('1',c1), ('2',c2)],\n",
    "                       voting = 'hard')\n",
    "pipeitupagain = Pipeline([\n",
    "    ('vect', CountVectorizer()),\n",
    "    ('tfidf', TfidfTransformer()),\n",
    "    ('clf', vote)\n",
    "])\n",
    "\n",
    "pipeitupagain.fit(xtrain,ytrain)\n",
    "predict = pipeitupagain.predict(xtest)\n",
    "metrics.f1_score(ytest, predict, average='macro')"
   ]
  },
  {
   "cell_type": "markdown",
   "metadata": {},
   "source": [
    "Bagging"
   ]
  },
  {
   "cell_type": "code",
   "execution_count": 83,
   "metadata": {},
   "outputs": [
    {
     "data": {
      "text/plain": [
       "0.469660071396207"
      ]
     },
     "execution_count": 83,
     "metadata": {},
     "output_type": "execute_result"
    }
   ],
   "source": [
    "bag = BaggingClassifier(base_estimator=LinearSVC(random_state=420, tol=1e-5),\n",
    "                       n_estimators=100, random_state=420)\n",
    "pipe = Pipeline([\n",
    "    ('vect', CountVectorizer()),\n",
    "    ('tfidf', TfidfTransformer()),\n",
    "    ('clf', bag)\n",
    "])\n",
    "pipe.fit(xtrain, ytrain)\n",
    "predict = pipe.predict(xtest)\n",
    "metrics.f1_score(ytest, predict, average='macro')"
   ]
  },
  {
   "cell_type": "markdown",
   "metadata": {},
   "source": [
    "XGBoost"
   ]
  },
  {
   "cell_type": "code",
   "execution_count": 84,
   "metadata": {},
   "outputs": [
    {
     "data": {
      "text/plain": [
       "0.4355896516097518"
      ]
     },
     "execution_count": 84,
     "metadata": {},
     "output_type": "execute_result"
    }
   ],
   "source": [
    "import xgboost\n",
    "pipe = Pipeline([\n",
    "    ('vect', CountVectorizer()),\n",
    "    ('tfidf', TfidfTransformer()),\n",
    "    ('clf', xgboost.XGBClassifier(objective='multi:softprob',\n",
    "                                max_depth=3, n_estimators=700))\n",
    "])\n",
    "pipe.fit(xtrain, ytrain)\n",
    "predict = pipe.predict(xtest)\n",
    "metrics.f1_score(ytest, predict, average='macro')"
   ]
  },
  {
   "cell_type": "code",
   "execution_count": 85,
   "metadata": {},
   "outputs": [
    {
     "name": "stdout",
     "output_type": "stream",
     "text": [
      "[390, 45, 41, 186, 2244, 1560, 70, 101, 45, 41, 267, 14, 28, 72, 33, 2, 28, 1106, 1421, 12, 170, 2, 4, 10, 702, 390, 2, 24, 390, 383, 665, 2, 24, 166, 2, 24, 74, 2156, 6, 86, 27, 365, 267, 45, 41, 33, 1, 345, 9, 507, 443, 390, 1443, 1, 74, 1, 365, 9, 192, 640, 83, 12, 343]\n",
      "880\n"
     ]
    }
   ],
   "source": [
    "## To DO: tokenize using keras tokenizer\n",
    "t = Tokenizer()\n",
    "t.fit_on_texts(xtrain)\n",
    "vocabsize = len(t.word_index) + 1\n",
    "encoded = t.texts_to_sequences(xtrain)\n",
    "tencoded = t.texts_to_sequences(ttrain)\n",
    "ingencoded = t.texts_to_sequences(str(ingtrain))\n",
    "instencoded = t.texts_to_sequences([str(x) for x in insttrain])\n",
    "encodedtest = t.texts_to_sequences(xtest)\n",
    "print(encoded[1])\n",
    "\n",
    "maxlength = max([len(x) for x in encoded])\n",
    "print(maxlength)"
   ]
  },
  {
   "cell_type": "code",
   "execution_count": 86,
   "metadata": {},
   "outputs": [],
   "source": [
    "import numpy as np\n",
    "def load_glove():\n",
    "    embeddings_index = dict()\n",
    "    f = open('./glove.6B.100d.txt') # replace this with the path to your downloaded txt file\n",
    "    for line in f:\n",
    "        values = line.split()\n",
    "        word = values[0]\n",
    "        coefs = np.asarray(values[1:], dtype='float32')\n",
    "        embeddings_index[word] = coefs\n",
    "    f.close()\n",
    "    print('Loaded %s word vectors.' % len(embeddings_index))\n",
    "    # create a weight matrix for words in training docs\n",
    "    \n",
    "    return embeddings_index"
   ]
  },
  {
   "cell_type": "code",
   "execution_count": 87,
   "metadata": {},
   "outputs": [
    {
     "name": "stdout",
     "output_type": "stream",
     "text": [
      "Loaded 400000 word vectors.\n",
      "[ 507  762  231 5145   28   30   63   22    2   28  195    2   29  320\n",
      "   69   47    2    2    4   36    2   29   96  292   21   47    2   10\n",
      "   11  111   38   98    2    2    4   28   60   28   91  185   52   14\n",
      "   36  339   85   14   36  114  389   25  171    2  353   60  101  121\n",
      " 1011  398   63  152    2  353   11  101  301  375 1215  231  799  299\n",
      "  155    1  320  282   14   36    2  364  101  121 1105  139 1529    2\n",
      "    2    4   24   50  264    2    2    4   24 1176  281   67   17    1\n",
      "   61   50   64   21    2  353   60  101  121   64  265  309    1  471\n",
      "    4    2    4   36  122  154 1253   25    2    2    4   36  154  410\n",
      "   12 1086  733   41   12    6  282   13  433    2   14   10   47  181\n",
      "    2  284   63  289   30    7    6   26  194   39   29   20   18  178\n",
      "    1  292   21    1  193    9  267   19  115   15   76   18   38  193\n",
      "    2  165  276   18    7   52    1  193    2  165   97   76  223  448\n",
      "  107    7   85    1   25  171   40    7  152  231  139 1529  264  281\n",
      "   67    1   80    8   17    1   21    5   46  236   32    5    6  237\n",
      "  184   90  405   40    7   64  265    1  137  133   76   79   66   20\n",
      "   40    7   25   41    1  181   44  137    8  284  272  510  159  686\n",
      "    0    0    0    0    0    0    0    0    0    0    0    0    0    0\n",
      "    0    0    0    0    0    0    0    0    0    0    0    0    0    0\n",
      "    0    0    0    0    0    0    0    0    0    0    0    0    0    0\n",
      "    0    0    0    0    0    0    0    0    0    0    0    0    0    0\n",
      "    0    0    0    0    0    0    0    0    0    0    0    0    0    0\n",
      "    0    0    0    0    0    0    0    0    0    0    0    0    0    0\n",
      "    0    0    0    0    0    0    0    0    0    0    0    0    0    0\n",
      "    0    0    0    0    0    0    0    0    0    0    0    0    0    0\n",
      "    0    0    0    0    0    0    0    0    0    0    0    0    0    0\n",
      "    0    0    0    0    0    0    0    0    0    0    0    0    0    0\n",
      "    0    0    0    0    0    0    0    0    0    0    0    0    0    0\n",
      "    0    0    0    0    0    0    0    0    0    0    0    0    0    0\n",
      "    0    0    0    0    0    0    0    0    0    0    0    0    0    0\n",
      "    0    0    0    0    0    0    0    0    0    0    0    0    0    0\n",
      "    0    0    0    0    0    0    0    0    0    0    0    0    0    0\n",
      "    0    0    0    0    0    0    0    0    0    0    0    0    0    0\n",
      "    0    0    0    0    0    0    0    0    0    0    0    0    0    0\n",
      "    0    0    0    0    0    0    0    0    0    0    0    0    0    0\n",
      "    0    0    0    0    0    0    0    0    0    0    0    0    0    0\n",
      "    0    0    0    0    0    0    0    0    0    0    0    0    0    0\n",
      "    0    0    0    0    0    0    0    0    0    0    0    0    0    0\n",
      "    0    0    0    0    0    0    0    0    0    0    0    0    0    0\n",
      "    0    0    0    0    0    0    0    0    0    0    0    0    0    0\n",
      "    0    0    0    0    0    0    0    0    0    0    0    0    0    0\n",
      "    0    0    0    0    0    0    0    0    0    0    0    0    0    0\n",
      "    0    0    0    0    0    0    0    0    0    0    0    0    0    0\n",
      "    0    0    0    0    0    0    0    0    0    0    0    0    0    0\n",
      "    0    0    0    0    0    0    0    0    0    0    0    0    0    0\n",
      "    0    0    0    0    0    0    0    0    0    0    0    0    0    0\n",
      "    0    0    0    0    0    0    0    0    0    0    0    0    0    0\n",
      "    0    0    0    0    0    0    0    0    0    0    0    0    0    0\n",
      "    0    0    0    0    0    0    0    0    0    0    0    0    0    0\n",
      "    0    0    0    0    0    0    0    0    0    0    0    0    0    0\n",
      "    0    0    0    0    0    0    0    0    0    0    0    0    0    0\n",
      "    0    0    0    0    0    0    0    0    0    0    0    0    0    0\n",
      "    0    0    0    0    0    0    0    0    0    0    0    0    0    0\n",
      "    0    0    0    0    0    0    0    0    0    0    0    0    0    0\n",
      "    0    0    0    0    0    0    0    0    0    0    0    0    0    0\n",
      "    0    0    0    0    0    0    0    0    0    0    0    0    0    0\n",
      "    0    0    0    0    0    0    0    0    0    0    0    0    0    0\n",
      "    0    0    0    0    0    0    0    0    0    0    0    0    0    0\n",
      "    0    0    0    0    0    0    0    0    0    0    0    0    0    0\n",
      "    0    0    0    0    0    0    0    0    0    0    0    0    0    0\n",
      "    0    0    0    0    0    0    0    0    0    0    0    0    0    0\n",
      "    0    0    0    0    0    0    0    0    0    0    0    0    0    0\n",
      "    0    0    0    0    0    0    0    0    0    0    0    0]\n"
     ]
    }
   ],
   "source": [
    "from keras import Input\n",
    "from keras.layers import Dropout, Dense,Input,Embedding,Flatten, MaxPooling1D, Conv1D, Concatenate, BatchNormalization\n",
    "from keras.models import Sequential,Model\n",
    "from keras.initializers import Constant\n",
    "import math\n",
    "# to Do: add constants that you might need here\n",
    "n_classes=19\n",
    "embeddingdim = 100\n",
    "\n",
    "word_index=t.word_index\n",
    "\n",
    "embeddings_index = load_glove()\n",
    "embedding_matrix = np.random.random((len(word_index)+1, embeddingdim))\n",
    "for word, i in word_index.items():\n",
    "    embeddingvector = embeddings_index.get(word)\n",
    "    if embeddingvector is not None:\n",
    "        if len(embedding_matrix[i]) != len(embeddingvector):\n",
    "            print('could not be broadcast input array from shape ', str(len(embedding_matrix[i])),\n",
    "                 ' into shape ', str(len(embeddingvector)), ' Please make sure your embedding dim is equal to embedding vector file Glove')\n",
    "            exit(1)\n",
    "        \n",
    "        embedding_matrix[i] = embeddingvector\n",
    "        \n",
    "\n",
    "###To Do:  pad the train and test data \n",
    "padded = pad_sequences(encoded, maxlen=maxlength, padding='post')\n",
    "tpadded = pad_sequences(tencoded, maxlen=maxlength, padding='post')\n",
    "ingpadded = pad_sequences(ingencoded, maxlen=maxlength, padding='post')\n",
    "instpadded = pad_sequences(instencoded, maxlen=maxlength, padding='post')\n",
    "paddedtest = pad_sequences(encodedtest, maxlen=maxlength, padding='post')\n",
    "print(padded[0])"
   ]
  },
  {
   "cell_type": "code",
   "execution_count": 51,
   "metadata": {
    "collapsed": true,
    "jupyter": {
     "outputs_hidden": true
    }
   },
   "outputs": [
    {
     "name": "stdout",
     "output_type": "stream",
     "text": [
      "Model: \"model_4\"\n",
      "__________________________________________________________________________________________________\n",
      " Layer (type)                   Output Shape         Param #     Connected to                     \n",
      "==================================================================================================\n",
      " input_6 (InputLayer)           [(None, 880)]        0           []                               \n",
      "                                                                                                  \n",
      " embedding_5 (Embedding)        (None, 880, 100)     733700      ['input_6[0][0]']                \n",
      "                                                                                                  \n",
      " dropout_32 (Dropout)           (None, 880, 100)     0           ['embedding_5[0][0]']            \n",
      "                                                                                                  \n",
      " conv1d_41 (Conv1D)             (None, 880, 64)      19264       ['dropout_32[0][0]']             \n",
      "                                                                                                  \n",
      " conv1d_43 (Conv1D)             (None, 880, 32)      9632        ['dropout_32[0][0]']             \n",
      "                                                                                                  \n",
      " conv1d_45 (Conv1D)             (None, 880, 16)      4816        ['dropout_32[0][0]']             \n",
      "                                                                                                  \n",
      " max_pooling1d_40 (MaxPooling1D  (None, 176, 64)     0           ['conv1d_41[0][0]']              \n",
      " )                                                                                                \n",
      "                                                                                                  \n",
      " max_pooling1d_42 (MaxPooling1D  (None, 176, 32)     0           ['conv1d_43[0][0]']              \n",
      " )                                                                                                \n",
      "                                                                                                  \n",
      " max_pooling1d_44 (MaxPooling1D  (None, 176, 16)     0           ['conv1d_45[0][0]']              \n",
      " )                                                                                                \n",
      "                                                                                                  \n",
      " dropout_33 (Dropout)           (None, 176, 64)      0           ['max_pooling1d_40[0][0]']       \n",
      "                                                                                                  \n",
      " dropout_34 (Dropout)           (None, 176, 32)      0           ['max_pooling1d_42[0][0]']       \n",
      "                                                                                                  \n",
      " dropout_35 (Dropout)           (None, 176, 16)      0           ['max_pooling1d_44[0][0]']       \n",
      "                                                                                                  \n",
      " conv1d_42 (Conv1D)             (None, 174, 128)     24704       ['dropout_33[0][0]']             \n",
      "                                                                                                  \n",
      " conv1d_44 (Conv1D)             (None, 174, 128)     12416       ['dropout_34[0][0]']             \n",
      "                                                                                                  \n",
      " conv1d_46 (Conv1D)             (None, 174, 128)     6272        ['dropout_35[0][0]']             \n",
      "                                                                                                  \n",
      " max_pooling1d_41 (MaxPooling1D  (None, 58, 128)     0           ['conv1d_42[0][0]']              \n",
      " )                                                                                                \n",
      "                                                                                                  \n",
      " max_pooling1d_43 (MaxPooling1D  (None, 58, 128)     0           ['conv1d_44[0][0]']              \n",
      " )                                                                                                \n",
      "                                                                                                  \n",
      " max_pooling1d_45 (MaxPooling1D  (None, 58, 128)     0           ['conv1d_46[0][0]']              \n",
      " )                                                                                                \n",
      "                                                                                                  \n",
      " concatenate_5 (Concatenate)    (None, 58, 384)      0           ['max_pooling1d_41[0][0]',       \n",
      "                                                                  'max_pooling1d_43[0][0]',       \n",
      "                                                                  'max_pooling1d_45[0][0]']       \n",
      "                                                                                                  \n",
      " flatten_4 (Flatten)            (None, 22272)        0           ['concatenate_5[0][0]']          \n",
      "                                                                                                  \n",
      " dense_16 (Dense)               (None, 128)          2850944     ['flatten_4[0][0]']              \n",
      "                                                                                                  \n",
      " dropout_36 (Dropout)           (None, 128)          0           ['dense_16[0][0]']               \n",
      "                                                                                                  \n",
      " dense_17 (Dense)               (None, 64)           8256        ['dropout_36[0][0]']             \n",
      "                                                                                                  \n",
      " dropout_37 (Dropout)           (None, 64)           0           ['dense_17[0][0]']               \n",
      "                                                                                                  \n",
      " dense_18 (Dense)               (None, 32)           2080        ['dropout_37[0][0]']             \n",
      "                                                                                                  \n",
      " dropout_38 (Dropout)           (None, 32)           0           ['dense_18[0][0]']               \n",
      "                                                                                                  \n",
      " dense_19 (Dense)               (None, 19)           627         ['dropout_38[0][0]']             \n",
      "                                                                                                  \n",
      "==================================================================================================\n",
      "Total params: 3,672,711\n",
      "Trainable params: 3,672,711\n",
      "Non-trainable params: 0\n",
      "__________________________________________________________________________________________________\n"
     ]
    }
   ],
   "source": [
    "embedding_layer = Embedding(len(word_index) + 1, embeddingdim, embeddings_initializer = Constant(embedding_matrix),\n",
    "                          input_length=maxlength, trainable=True)\n",
    "sequence_input = Input(shape=(maxlength,),dtype='int32')\n",
    "embeddedsequences = embedding_layer(sequence_input)\n",
    "x = Dropout(.2)(embeddedsequences)\n",
    "x1 = Conv1D(64, kernel_size=3, padding='same', activation = 'relu')(x)\n",
    "x1 = MaxPooling1D(5)(x1)\n",
    "x1 = Dropout(.2)(x1)\n",
    "x1 = Conv1D(128, 3, activation='softplus')(x1)\n",
    "x1 = MaxPooling1D(3)(x1)\n",
    "#x1 = Conv1D(256, 5, activation = 'softplus')(x1)\n",
    "#x1 = MaxPooling1D(10)(x1)\n",
    "\n",
    "x2 = Conv1D(32, kernel_size=3, padding='same', activation = 'relu')(x)\n",
    "x2 = MaxPooling1D(5)(x2)\n",
    "x2 = Dropout(.2)(x2)\n",
    "x2 = Conv1D(128, 3, activation='softplus')(x2)\n",
    "x2 = MaxPooling1D(3)(x2)\n",
    "#x2 = Conv1D(256, 5, activation = 'softplus')(x2)\n",
    "#x2 = MaxPooling1D(10)(x2)\n",
    "\n",
    "x3 = Conv1D(16, kernel_size=3, padding='same', activation = 'relu')(x)\n",
    "x3 = MaxPooling1D(5)(x3)\n",
    "x3 = Dropout(.2)(x3)\n",
    "x3 = Conv1D(128, 3, activation='softplus')(x3)\n",
    "x3 = MaxPooling1D(3)(x3)\n",
    "#x3 = Conv1D(256, 5, activation = 'softplus')(x3)\n",
    "#x3 = MaxPooling1D(10)(x3)\n",
    "\n",
    "x = Concatenate()([x1,x2,x3])\n",
    "x = Flatten()(x)\n",
    "x = Dense(128, activation='softplus')(x)\n",
    "x = Dropout(0.3)(x)\n",
    "x = Dense(64, activation = 'softplus')(x)\n",
    "x = Dropout(.25)(x)\n",
    "x = Dense(32, activation = 'softplus')(x)\n",
    "x = Dropout(.4)(x)\n",
    "preds = Dense(n_classes, activation = 'softmax')(x)\n",
    "\n",
    "from tensorflow import keras\n",
    "optimizer = keras.optimizers.RMSprop(learning_rate=.003, decay=.0008)\n",
    "\n",
    "model = Model(sequence_input, preds)\n",
    "model.compile(loss='sparse_categorical_crossentropy', optimizer=optimizer, metrics = ['accuracy'])\n",
    "\n",
    "model.summary()"
   ]
  },
  {
   "cell_type": "code",
   "execution_count": 92,
   "metadata": {
    "collapsed": true,
    "jupyter": {
     "outputs_hidden": true
    }
   },
   "outputs": [
    {
     "name": "stdout",
     "output_type": "stream",
     "text": [
      "Model: \"model_2\"\n",
      "__________________________________________________________________________________________________\n",
      " Layer (type)                   Output Shape         Param #     Connected to                     \n",
      "==================================================================================================\n",
      " input_3 (InputLayer)           [(None, 880)]        0           []                               \n",
      "                                                                                                  \n",
      " embedding_2 (Embedding)        (None, 880, 100)     915400      ['input_3[0][0]']                \n",
      "                                                                                                  \n",
      " dropout_50 (Dropout)           (None, 880, 100)     0           ['embedding_2[0][0]']            \n",
      "                                                                                                  \n",
      " conv1d_10 (Conv1D)             (None, 880, 32)      9632        ['dropout_50[0][0]']             \n",
      "                                                                                                  \n",
      " conv1d_11 (Conv1D)             (None, 880, 24)      9624        ['dropout_50[0][0]']             \n",
      "                                                                                                  \n",
      " conv1d_12 (Conv1D)             (None, 880, 64)      32064       ['dropout_50[0][0]']             \n",
      "                                                                                                  \n",
      " concatenate_2 (Concatenate)    (None, 880, 120)     0           ['conv1d_10[0][0]',              \n",
      "                                                                  'conv1d_11[0][0]',              \n",
      "                                                                  'conv1d_12[0][0]']              \n",
      "                                                                                                  \n",
      " max_pooling1d_6 (MaxPooling1D)  (None, 176, 120)    0           ['concatenate_2[0][0]']          \n",
      "                                                                                                  \n",
      " dropout_51 (Dropout)           (None, 176, 120)     0           ['max_pooling1d_6[0][0]']        \n",
      "                                                                                                  \n",
      " conv1d_13 (Conv1D)             (None, 174, 128)     46208       ['dropout_51[0][0]']             \n",
      "                                                                                                  \n",
      " max_pooling1d_7 (MaxPooling1D)  (None, 21, 128)     0           ['conv1d_13[0][0]']              \n",
      "                                                                                                  \n",
      " conv1d_14 (Conv1D)             (None, 17, 256)      164096      ['max_pooling1d_7[0][0]']        \n",
      "                                                                                                  \n",
      " max_pooling1d_8 (MaxPooling1D)  (None, 1, 256)      0           ['conv1d_14[0][0]']              \n",
      "                                                                                                  \n",
      " flatten_2 (Flatten)            (None, 256)          0           ['max_pooling1d_8[0][0]']        \n",
      "                                                                                                  \n",
      " dense_8 (Dense)                (None, 128)          32896       ['flatten_2[0][0]']              \n",
      "                                                                                                  \n",
      " dropout_52 (Dropout)           (None, 128)          0           ['dense_8[0][0]']                \n",
      "                                                                                                  \n",
      " dense_9 (Dense)                (None, 64)           8256        ['dropout_52[0][0]']             \n",
      "                                                                                                  \n",
      " dropout_53 (Dropout)           (None, 64)           0           ['dense_9[0][0]']                \n",
      "                                                                                                  \n",
      " dense_10 (Dense)               (None, 20)           1300        ['dropout_53[0][0]']             \n",
      "                                                                                                  \n",
      "==================================================================================================\n",
      "Total params: 1,219,476\n",
      "Trainable params: 1,219,476\n",
      "Non-trainable params: 0\n",
      "__________________________________________________________________________________________________\n"
     ]
    }
   ],
   "source": [
    "# To Do: build model use the embedding_index from glove\n",
    "embedding_layer = Embedding(len(word_index) + 1, embeddingdim, embeddings_initializer = Constant(embedding_matrix),\n",
    "                           input_length=maxlength, trainable = True)\n",
    "sequence_input = Input(shape=(maxlength,), dtype='int32')\n",
    "embeddedsequences = embedding_layer(sequence_input)\n",
    "y = Dropout(0.3)(embeddedsequences)\n",
    "x = Conv1D(32, kernel_size=3, padding='same', activation = 'relu')(y)\n",
    "x1 = Conv1D(24, kernel_size=4, padding = 'same',activation = 'relu')(y)\n",
    "x2 = Conv1D(64, kernel_size=5, padding = 'same',activation = 'relu')(y)\n",
    "x = Concatenate()([x,x1,x2]) \n",
    "x = MaxPooling1D(5)(x)\n",
    "x = Dropout(.2)(x)\n",
    "x = Conv1D(128, 3, activation = 'softplus')(x)\n",
    "x = MaxPooling1D(8)(x)\n",
    "x = Conv1D(256, 5, activation = 'softplus')(x)\n",
    "x = MaxPooling1D(10)(x)\n",
    "x = Flatten()(x)\n",
    "x = Dense(128, activation='softplus')(x)\n",
    "x = Dropout(0.3)(x)\n",
    "x = Dense(64, activation = 'softplus')(x)\n",
    "x = Dropout(.25)(x)\n",
    "#x = Dense(32, activation = 'softplus')(x)\n",
    "#x = Dropout(.2)(x)\n",
    "preds = Dense(20, activation = 'softmax')(x)\n",
    "\n",
    "from tensorflow import keras\n",
    "optimizer = keras.optimizers.Nadam(learning_rate=.0003, decay=.00008)\n",
    "\n",
    "model = Model(sequence_input, preds)\n",
    "model.compile(loss='sparse_categorical_crossentropy', optimizer=optimizer, metrics = ['accuracy'])\n",
    "\n",
    "model.summary()"
   ]
  },
  {
   "cell_type": "code",
   "execution_count": 93,
   "metadata": {
    "collapsed": true,
    "jupyter": {
     "outputs_hidden": true
    }
   },
   "outputs": [
    {
     "name": "stdout",
     "output_type": "stream",
     "text": [
      "Epoch 1/100\n",
      "44/44 [==============================] - 4s 61ms/step - loss: 3.0657 - accuracy: 0.1461 - val_loss: 2.6536 - val_accuracy: 0.1692\n",
      "Epoch 2/100\n",
      "44/44 [==============================] - 2s 56ms/step - loss: 2.7254 - accuracy: 0.2013 - val_loss: 2.5932 - val_accuracy: 0.1692\n",
      "Epoch 3/100\n",
      "44/44 [==============================] - 3s 57ms/step - loss: 2.6618 - accuracy: 0.2082 - val_loss: 2.5474 - val_accuracy: 0.1692\n",
      "Epoch 4/100\n",
      "44/44 [==============================] - 3s 59ms/step - loss: 2.5993 - accuracy: 0.2125 - val_loss: 2.4916 - val_accuracy: 0.2593\n",
      "Epoch 5/100\n",
      "44/44 [==============================] - 3s 57ms/step - loss: 2.5095 - accuracy: 0.2666 - val_loss: 2.4148 - val_accuracy: 0.3763\n",
      "Epoch 6/100\n",
      "44/44 [==============================] - 2s 56ms/step - loss: 2.3597 - accuracy: 0.3290 - val_loss: 2.2407 - val_accuracy: 0.3493\n",
      "Epoch 7/100\n",
      "44/44 [==============================] - 2s 56ms/step - loss: 2.2391 - accuracy: 0.3741 - val_loss: 2.1836 - val_accuracy: 0.3788\n",
      "Epoch 8/100\n",
      "44/44 [==============================] - 3s 57ms/step - loss: 2.1741 - accuracy: 0.3914 - val_loss: 2.0920 - val_accuracy: 0.4091\n",
      "Epoch 9/100\n",
      "44/44 [==============================] - 2s 57ms/step - loss: 2.1237 - accuracy: 0.3997 - val_loss: 2.0397 - val_accuracy: 0.4091\n",
      "Epoch 10/100\n",
      "44/44 [==============================] - 2s 56ms/step - loss: 2.0918 - accuracy: 0.4076 - val_loss: 2.0134 - val_accuracy: 0.4141\n",
      "Epoch 11/100\n",
      "44/44 [==============================] - 2s 56ms/step - loss: 2.0538 - accuracy: 0.4156 - val_loss: 1.9823 - val_accuracy: 0.4251\n",
      "Epoch 12/100\n",
      "44/44 [==============================] - 2s 56ms/step - loss: 2.0093 - accuracy: 0.4131 - val_loss: 1.9539 - val_accuracy: 0.4251\n",
      "Epoch 13/100\n",
      "44/44 [==============================] - 2s 57ms/step - loss: 1.9975 - accuracy: 0.4221 - val_loss: 1.9634 - val_accuracy: 0.4327\n",
      "Epoch 14/100\n",
      "44/44 [==============================] - 2s 56ms/step - loss: 1.9562 - accuracy: 0.4257 - val_loss: 1.9552 - val_accuracy: 0.4276\n",
      "Epoch 15/100\n",
      "44/44 [==============================] - 2s 57ms/step - loss: 1.9354 - accuracy: 0.4340 - val_loss: 1.9523 - val_accuracy: 0.4428\n",
      "Epoch 16/100\n",
      "44/44 [==============================] - 3s 58ms/step - loss: 1.8992 - accuracy: 0.4380 - val_loss: 1.8456 - val_accuracy: 0.4579\n",
      "Epoch 17/100\n",
      "44/44 [==============================] - 3s 58ms/step - loss: 1.8783 - accuracy: 0.4419 - val_loss: 1.8659 - val_accuracy: 0.4487\n",
      "Epoch 18/100\n",
      "44/44 [==============================] - 3s 57ms/step - loss: 1.8814 - accuracy: 0.4347 - val_loss: 1.8584 - val_accuracy: 0.4604\n",
      "Epoch 19/100\n",
      "44/44 [==============================] - 3s 57ms/step - loss: 1.8452 - accuracy: 0.4556 - val_loss: 1.7951 - val_accuracy: 0.4579\n",
      "Epoch 20/100\n",
      "44/44 [==============================] - 2s 56ms/step - loss: 1.8115 - accuracy: 0.4578 - val_loss: 1.8040 - val_accuracy: 0.4562\n",
      "Epoch 21/100\n",
      "44/44 [==============================] - 2s 56ms/step - loss: 1.8093 - accuracy: 0.4585 - val_loss: 1.7624 - val_accuracy: 0.4781\n",
      "Epoch 22/100\n",
      "44/44 [==============================] - 2s 57ms/step - loss: 1.7639 - accuracy: 0.4621 - val_loss: 1.7517 - val_accuracy: 0.4747\n",
      "Epoch 23/100\n",
      "44/44 [==============================] - 3s 58ms/step - loss: 1.7634 - accuracy: 0.4665 - val_loss: 1.7537 - val_accuracy: 0.4815\n",
      "Epoch 24/100\n",
      "44/44 [==============================] - 3s 57ms/step - loss: 1.7544 - accuracy: 0.4639 - val_loss: 1.7363 - val_accuracy: 0.4790\n",
      "Epoch 25/100\n",
      "44/44 [==============================] - 2s 56ms/step - loss: 1.7259 - accuracy: 0.4744 - val_loss: 1.7400 - val_accuracy: 0.4756\n",
      "Epoch 26/100\n",
      "44/44 [==============================] - 2s 56ms/step - loss: 1.7092 - accuracy: 0.4780 - val_loss: 1.7757 - val_accuracy: 0.4832\n",
      "Epoch 27/100\n",
      "44/44 [==============================] - 3s 57ms/step - loss: 1.6940 - accuracy: 0.4881 - val_loss: 1.7613 - val_accuracy: 0.4790\n",
      "Epoch 28/100\n",
      "44/44 [==============================] - 2s 56ms/step - loss: 1.6645 - accuracy: 0.4953 - val_loss: 1.7111 - val_accuracy: 0.4857\n",
      "Epoch 29/100\n",
      "44/44 [==============================] - 2s 57ms/step - loss: 1.6506 - accuracy: 0.4957 - val_loss: 1.6940 - val_accuracy: 0.4865\n",
      "Epoch 30/100\n",
      "44/44 [==============================] - 3s 58ms/step - loss: 1.6357 - accuracy: 0.4931 - val_loss: 1.7444 - val_accuracy: 0.4823\n",
      "Epoch 31/100\n",
      "44/44 [==============================] - 3s 57ms/step - loss: 1.6367 - accuracy: 0.4946 - val_loss: 1.6720 - val_accuracy: 0.5101\n",
      "Epoch 32/100\n",
      "44/44 [==============================] - 3s 57ms/step - loss: 1.6096 - accuracy: 0.5079 - val_loss: 1.6667 - val_accuracy: 0.5084\n",
      "Epoch 33/100\n",
      "44/44 [==============================] - 3s 58ms/step - loss: 1.6218 - accuracy: 0.5025 - val_loss: 1.6753 - val_accuracy: 0.5076\n",
      "Epoch 34/100\n",
      "44/44 [==============================] - 2s 57ms/step - loss: 1.6083 - accuracy: 0.5069 - val_loss: 1.7170 - val_accuracy: 0.4798\n",
      "Epoch 35/100\n",
      "44/44 [==============================] - 2s 57ms/step - loss: 1.5692 - accuracy: 0.5133 - val_loss: 1.6995 - val_accuracy: 0.5067\n",
      "Epoch 36/100\n",
      "44/44 [==============================] - 2s 56ms/step - loss: 1.5428 - accuracy: 0.5043 - val_loss: 1.8350 - val_accuracy: 0.4520\n",
      "Epoch 37/100\n",
      "44/44 [==============================] - 2s 57ms/step - loss: 1.5592 - accuracy: 0.5014 - val_loss: 1.7255 - val_accuracy: 0.4933\n",
      "Epoch 38/100\n",
      "44/44 [==============================] - 3s 59ms/step - loss: 1.5406 - accuracy: 0.5173 - val_loss: 1.6264 - val_accuracy: 0.5295\n",
      "Epoch 39/100\n",
      "44/44 [==============================] - 2s 56ms/step - loss: 1.5403 - accuracy: 0.5155 - val_loss: 1.6592 - val_accuracy: 0.5084\n",
      "Epoch 40/100\n",
      "44/44 [==============================] - 2s 57ms/step - loss: 1.5127 - accuracy: 0.5231 - val_loss: 1.6451 - val_accuracy: 0.4992\n",
      "Epoch 41/100\n",
      "44/44 [==============================] - 2s 56ms/step - loss: 1.4747 - accuracy: 0.5354 - val_loss: 1.7020 - val_accuracy: 0.5034\n",
      "Epoch 42/100\n",
      "44/44 [==============================] - 2s 57ms/step - loss: 1.4739 - accuracy: 0.5292 - val_loss: 1.6505 - val_accuracy: 0.5067\n",
      "Epoch 43/100\n",
      "44/44 [==============================] - 2s 56ms/step - loss: 1.4497 - accuracy: 0.5368 - val_loss: 1.6027 - val_accuracy: 0.5227\n",
      "Epoch 44/100\n",
      "44/44 [==============================] - 2s 57ms/step - loss: 1.4469 - accuracy: 0.5393 - val_loss: 1.6391 - val_accuracy: 0.5135\n",
      "Epoch 45/100\n",
      "44/44 [==============================] - 2s 56ms/step - loss: 1.4248 - accuracy: 0.5476 - val_loss: 1.6057 - val_accuracy: 0.5286\n",
      "Epoch 46/100\n",
      "44/44 [==============================] - 2s 57ms/step - loss: 1.4059 - accuracy: 0.5469 - val_loss: 1.6435 - val_accuracy: 0.5210\n",
      "Epoch 47/100\n",
      "44/44 [==============================] - 2s 56ms/step - loss: 1.4267 - accuracy: 0.5379 - val_loss: 1.5841 - val_accuracy: 0.5320\n",
      "Epoch 48/100\n",
      "44/44 [==============================] - 2s 56ms/step - loss: 1.3813 - accuracy: 0.5577 - val_loss: 1.6577 - val_accuracy: 0.5109\n",
      "Epoch 49/100\n",
      "44/44 [==============================] - 2s 56ms/step - loss: 1.3733 - accuracy: 0.5509 - val_loss: 1.5872 - val_accuracy: 0.5328\n",
      "Epoch 50/100\n",
      "44/44 [==============================] - 2s 57ms/step - loss: 1.3626 - accuracy: 0.5617 - val_loss: 1.5660 - val_accuracy: 0.5480\n",
      "Epoch 51/100\n",
      "44/44 [==============================] - 2s 56ms/step - loss: 1.3474 - accuracy: 0.5602 - val_loss: 1.6323 - val_accuracy: 0.5160\n",
      "Epoch 52/100\n",
      "44/44 [==============================] - 2s 56ms/step - loss: 1.3338 - accuracy: 0.5671 - val_loss: 1.5952 - val_accuracy: 0.5320\n",
      "Epoch 53/100\n",
      "44/44 [==============================] - 2s 57ms/step - loss: 1.3301 - accuracy: 0.5649 - val_loss: 1.6471 - val_accuracy: 0.5278\n",
      "Epoch 54/100\n",
      "44/44 [==============================] - 2s 56ms/step - loss: 1.3009 - accuracy: 0.5722 - val_loss: 1.7087 - val_accuracy: 0.4983\n",
      "Epoch 55/100\n",
      "44/44 [==============================] - 2s 56ms/step - loss: 1.3050 - accuracy: 0.5689 - val_loss: 1.9490 - val_accuracy: 0.4470\n",
      "Epoch 56/100\n",
      "44/44 [==============================] - 2s 56ms/step - loss: 1.2859 - accuracy: 0.5761 - val_loss: 1.6397 - val_accuracy: 0.5143\n",
      "Epoch 57/100\n",
      "44/44 [==============================] - 2s 56ms/step - loss: 1.2622 - accuracy: 0.5797 - val_loss: 1.6010 - val_accuracy: 0.5118\n",
      "Epoch 58/100\n",
      "44/44 [==============================] - 2s 57ms/step - loss: 1.2447 - accuracy: 0.5848 - val_loss: 1.5671 - val_accuracy: 0.5455\n",
      "Epoch 59/100\n",
      "44/44 [==============================] - 2s 56ms/step - loss: 1.2297 - accuracy: 0.5927 - val_loss: 1.6896 - val_accuracy: 0.5008\n",
      "Epoch 60/100\n",
      "44/44 [==============================] - 2s 56ms/step - loss: 1.2193 - accuracy: 0.5992 - val_loss: 1.5725 - val_accuracy: 0.5387\n",
      "Epoch 61/100\n",
      "44/44 [==============================] - 3s 57ms/step - loss: 1.1975 - accuracy: 0.5988 - val_loss: 1.5801 - val_accuracy: 0.5429\n",
      "Epoch 62/100\n",
      "44/44 [==============================] - 2s 56ms/step - loss: 1.1921 - accuracy: 0.6014 - val_loss: 1.6007 - val_accuracy: 0.5387\n",
      "Epoch 63/100\n",
      "44/44 [==============================] - 2s 57ms/step - loss: 1.1820 - accuracy: 0.6071 - val_loss: 1.5942 - val_accuracy: 0.5421\n",
      "Epoch 64/100\n",
      "44/44 [==============================] - 3s 58ms/step - loss: 1.1572 - accuracy: 0.6075 - val_loss: 1.6068 - val_accuracy: 0.5244\n",
      "Epoch 65/100\n",
      "44/44 [==============================] - 2s 57ms/step - loss: 1.1424 - accuracy: 0.6209 - val_loss: 1.7216 - val_accuracy: 0.5337\n",
      "Epoch 66/100\n",
      "44/44 [==============================] - 2s 55ms/step - loss: 1.1263 - accuracy: 0.6201 - val_loss: 1.5923 - val_accuracy: 0.5370\n",
      "Epoch 67/100\n",
      "44/44 [==============================] - 2s 56ms/step - loss: 1.1080 - accuracy: 0.6263 - val_loss: 1.6732 - val_accuracy: 0.5194\n",
      "Epoch 68/100\n",
      "44/44 [==============================] - 2s 56ms/step - loss: 1.1105 - accuracy: 0.6223 - val_loss: 1.7883 - val_accuracy: 0.5101\n",
      "Epoch 69/100\n",
      "44/44 [==============================] - 2s 56ms/step - loss: 1.1066 - accuracy: 0.6223 - val_loss: 1.6763 - val_accuracy: 0.5387\n",
      "Epoch 70/100\n",
      "44/44 [==============================] - 2s 56ms/step - loss: 1.0832 - accuracy: 0.6335 - val_loss: 1.7913 - val_accuracy: 0.5152\n",
      "Epoch 71/100\n",
      "44/44 [==============================] - 2s 56ms/step - loss: 1.0587 - accuracy: 0.6338 - val_loss: 1.5947 - val_accuracy: 0.5379\n",
      "Epoch 72/100\n",
      "44/44 [==============================] - 2s 56ms/step - loss: 1.0448 - accuracy: 0.6432 - val_loss: 1.8743 - val_accuracy: 0.4790\n",
      "Epoch 73/100\n",
      "44/44 [==============================] - 2s 56ms/step - loss: 1.0411 - accuracy: 0.6515 - val_loss: 1.5882 - val_accuracy: 0.5337\n",
      "Epoch 74/100\n",
      "44/44 [==============================] - 2s 56ms/step - loss: 1.0353 - accuracy: 0.6472 - val_loss: 1.6567 - val_accuracy: 0.5261\n",
      "Epoch 75/100\n",
      "44/44 [==============================] - 2s 56ms/step - loss: 1.0144 - accuracy: 0.6490 - val_loss: 1.5797 - val_accuracy: 0.5354\n",
      "Epoch 76/100\n",
      "44/44 [==============================] - 2s 56ms/step - loss: 1.0025 - accuracy: 0.6573 - val_loss: 1.6184 - val_accuracy: 0.5547\n",
      "Epoch 77/100\n",
      "44/44 [==============================] - 2s 56ms/step - loss: 0.9928 - accuracy: 0.6641 - val_loss: 1.6602 - val_accuracy: 0.5311\n",
      "Epoch 78/100\n",
      "44/44 [==============================] - 2s 56ms/step - loss: 0.9665 - accuracy: 0.6638 - val_loss: 1.6382 - val_accuracy: 0.5345\n",
      "Epoch 79/100\n",
      "44/44 [==============================] - 2s 56ms/step - loss: 0.9769 - accuracy: 0.6670 - val_loss: 1.6417 - val_accuracy: 0.5354\n",
      "Epoch 80/100\n",
      "44/44 [==============================] - 2s 56ms/step - loss: 0.9430 - accuracy: 0.6768 - val_loss: 1.7747 - val_accuracy: 0.5152\n",
      "Epoch 81/100\n",
      "44/44 [==============================] - 2s 56ms/step - loss: 0.9427 - accuracy: 0.6822 - val_loss: 1.7033 - val_accuracy: 0.5143\n",
      "Epoch 82/100\n",
      "44/44 [==============================] - 2s 56ms/step - loss: 0.9169 - accuracy: 0.6807 - val_loss: 1.6768 - val_accuracy: 0.5404\n",
      "Epoch 83/100\n",
      "44/44 [==============================] - 3s 59ms/step - loss: 0.9005 - accuracy: 0.6926 - val_loss: 1.6860 - val_accuracy: 0.5362\n",
      "Epoch 84/100\n",
      "44/44 [==============================] - 2s 57ms/step - loss: 0.8931 - accuracy: 0.6926 - val_loss: 1.7863 - val_accuracy: 0.5379\n",
      "Epoch 85/100\n",
      "44/44 [==============================] - 2s 56ms/step - loss: 0.9003 - accuracy: 0.6952 - val_loss: 1.7169 - val_accuracy: 0.5202\n",
      "Epoch 86/100\n",
      "44/44 [==============================] - 2s 56ms/step - loss: 0.8795 - accuracy: 0.7100 - val_loss: 1.7235 - val_accuracy: 0.5185\n",
      "Epoch 87/100\n",
      "44/44 [==============================] - 2s 56ms/step - loss: 0.8717 - accuracy: 0.7031 - val_loss: 1.7017 - val_accuracy: 0.5328\n",
      "Epoch 88/100\n",
      "44/44 [==============================] - 2s 57ms/step - loss: 0.8733 - accuracy: 0.7020 - val_loss: 1.7486 - val_accuracy: 0.5093\n",
      "Epoch 89/100\n",
      "44/44 [==============================] - 2s 56ms/step - loss: 0.8643 - accuracy: 0.7067 - val_loss: 1.8542 - val_accuracy: 0.4823\n",
      "Epoch 90/100\n",
      "44/44 [==============================] - 2s 56ms/step - loss: 0.8222 - accuracy: 0.7201 - val_loss: 1.8104 - val_accuracy: 0.5143\n",
      "Epoch 91/100\n",
      "44/44 [==============================] - 2s 56ms/step - loss: 0.8436 - accuracy: 0.7136 - val_loss: 1.8411 - val_accuracy: 0.4865\n",
      "Epoch 92/100\n",
      "44/44 [==============================] - 3s 58ms/step - loss: 0.8068 - accuracy: 0.7262 - val_loss: 1.7930 - val_accuracy: 0.5236\n",
      "Epoch 93/100\n",
      "44/44 [==============================] - 2s 56ms/step - loss: 0.8233 - accuracy: 0.7172 - val_loss: 1.8676 - val_accuracy: 0.5051\n",
      "Epoch 94/100\n",
      "44/44 [==============================] - 2s 56ms/step - loss: 0.8020 - accuracy: 0.7175 - val_loss: 1.7976 - val_accuracy: 0.5118\n",
      "Epoch 95/100\n",
      "44/44 [==============================] - 2s 55ms/step - loss: 0.7705 - accuracy: 0.7367 - val_loss: 1.8155 - val_accuracy: 0.5311\n",
      "Epoch 96/100\n",
      "44/44 [==============================] - 2s 56ms/step - loss: 0.7586 - accuracy: 0.7370 - val_loss: 1.7136 - val_accuracy: 0.5463\n",
      "Epoch 97/100\n",
      "44/44 [==============================] - 2s 56ms/step - loss: 0.7370 - accuracy: 0.7460 - val_loss: 1.8019 - val_accuracy: 0.5244\n",
      "Epoch 98/100\n",
      "44/44 [==============================] - 2s 56ms/step - loss: 0.7335 - accuracy: 0.7449 - val_loss: 1.8437 - val_accuracy: 0.5345\n",
      "Epoch 99/100\n",
      "44/44 [==============================] - 2s 56ms/step - loss: 0.7173 - accuracy: 0.7532 - val_loss: 1.8778 - val_accuracy: 0.5354\n",
      "Epoch 100/100\n",
      "44/44 [==============================] - 2s 56ms/step - loss: 0.7176 - accuracy: 0.7587 - val_loss: 1.9507 - val_accuracy: 0.5076\n"
     ]
    },
    {
     "data": {
      "text/plain": [
       "<keras.callbacks.History at 0x7f126de22790>"
      ]
     },
     "execution_count": 93,
     "metadata": {},
     "output_type": "execute_result"
    }
   ],
   "source": [
    "model.fit(padded, ytrain, validation_data=(paddedtest, ytest), epochs=100, batch_size = 64)\n"
   ]
  },
  {
   "cell_type": "code",
   "execution_count": 55,
   "metadata": {
    "collapsed": true,
    "jupyter": {
     "outputs_hidden": true,
     "source_hidden": true
    }
   },
   "outputs": [
    {
     "name": "stdout",
     "output_type": "stream",
     "text": [
      "Epoch 1/200\n",
      "61/61 [==============================] - 2s 40ms/step - loss: 0.8344 - accuracy: 0.7298 - val_loss: 1.7000 - val_accuracy: 0.5338\n",
      "Epoch 2/200\n",
      "61/61 [==============================] - 2s 40ms/step - loss: 0.8321 - accuracy: 0.7246 - val_loss: 1.6812 - val_accuracy: 0.5109\n",
      "Epoch 3/200\n",
      "61/61 [==============================] - 2s 40ms/step - loss: 0.7752 - accuracy: 0.7386 - val_loss: 1.5505 - val_accuracy: 0.5845\n",
      "Epoch 4/200\n",
      "61/61 [==============================] - 2s 40ms/step - loss: 0.7763 - accuracy: 0.7448 - val_loss: 1.6949 - val_accuracy: 0.5483\n",
      "Epoch 5/200\n",
      "61/61 [==============================] - 2s 40ms/step - loss: 0.7692 - accuracy: 0.7433 - val_loss: 1.6405 - val_accuracy: 0.5628\n",
      "Epoch 6/200\n",
      "61/61 [==============================] - 2s 40ms/step - loss: 0.7337 - accuracy: 0.7562 - val_loss: 1.5994 - val_accuracy: 0.5531\n",
      "Epoch 7/200\n",
      "61/61 [==============================] - 2s 40ms/step - loss: 0.7443 - accuracy: 0.7500 - val_loss: 1.5639 - val_accuracy: 0.5628\n",
      "Epoch 8/200\n",
      "61/61 [==============================] - 2s 40ms/step - loss: 0.7183 - accuracy: 0.7619 - val_loss: 1.6930 - val_accuracy: 0.5326\n",
      "Epoch 9/200\n",
      "61/61 [==============================] - 2s 40ms/step - loss: 0.6960 - accuracy: 0.7733 - val_loss: 1.6621 - val_accuracy: 0.5471\n",
      "Epoch 10/200\n",
      "61/61 [==============================] - 2s 40ms/step - loss: 0.6635 - accuracy: 0.7738 - val_loss: 1.6573 - val_accuracy: 0.5604\n",
      "Epoch 11/200\n",
      "61/61 [==============================] - 2s 40ms/step - loss: 0.6652 - accuracy: 0.7754 - val_loss: 1.7681 - val_accuracy: 0.5773\n",
      "Epoch 12/200\n",
      "61/61 [==============================] - 2s 40ms/step - loss: 0.6695 - accuracy: 0.7723 - val_loss: 1.6626 - val_accuracy: 0.5700\n",
      "Epoch 13/200\n",
      "61/61 [==============================] - 2s 40ms/step - loss: 0.6823 - accuracy: 0.7666 - val_loss: 1.7230 - val_accuracy: 0.5737\n",
      "Epoch 14/200\n",
      "61/61 [==============================] - 2s 40ms/step - loss: 0.6428 - accuracy: 0.7867 - val_loss: 1.7677 - val_accuracy: 0.5543\n",
      "Epoch 15/200\n",
      "61/61 [==============================] - 2s 39ms/step - loss: 0.6092 - accuracy: 0.8023 - val_loss: 1.7571 - val_accuracy: 0.5604\n",
      "Epoch 16/200\n",
      "61/61 [==============================] - 2s 39ms/step - loss: 0.6069 - accuracy: 0.7945 - val_loss: 1.8707 - val_accuracy: 0.5471\n",
      "Epoch 17/200\n",
      "61/61 [==============================] - 2s 39ms/step - loss: 0.5748 - accuracy: 0.8012 - val_loss: 1.8201 - val_accuracy: 0.5640\n",
      "Epoch 18/200\n",
      "61/61 [==============================] - 2s 40ms/step - loss: 0.5795 - accuracy: 0.8023 - val_loss: 1.8575 - val_accuracy: 0.5531\n",
      "Epoch 19/200\n",
      "61/61 [==============================] - 2s 40ms/step - loss: 0.5394 - accuracy: 0.8126 - val_loss: 1.8769 - val_accuracy: 0.5725\n",
      "Epoch 20/200\n",
      "61/61 [==============================] - 2s 39ms/step - loss: 0.5463 - accuracy: 0.8188 - val_loss: 1.8264 - val_accuracy: 0.5664\n",
      "Epoch 21/200\n",
      "61/61 [==============================] - 2s 39ms/step - loss: 0.5257 - accuracy: 0.8240 - val_loss: 1.8461 - val_accuracy: 0.5616\n",
      "Epoch 22/200\n",
      "61/61 [==============================] - 2s 39ms/step - loss: 0.5592 - accuracy: 0.8173 - val_loss: 1.8229 - val_accuracy: 0.5519\n",
      "Epoch 23/200\n",
      "61/61 [==============================] - 2s 39ms/step - loss: 0.5516 - accuracy: 0.8168 - val_loss: 1.8489 - val_accuracy: 0.5688\n",
      "Epoch 24/200\n",
      "61/61 [==============================] - 2s 40ms/step - loss: 0.4972 - accuracy: 0.8323 - val_loss: 1.9127 - val_accuracy: 0.5435\n",
      "Epoch 25/200\n",
      "61/61 [==============================] - 2s 40ms/step - loss: 0.5241 - accuracy: 0.8328 - val_loss: 1.8880 - val_accuracy: 0.5616\n",
      "Epoch 26/200\n",
      "61/61 [==============================] - 2s 40ms/step - loss: 0.5001 - accuracy: 0.8344 - val_loss: 1.8723 - val_accuracy: 0.5737\n",
      "Epoch 27/200\n",
      "61/61 [==============================] - 2s 39ms/step - loss: 0.4913 - accuracy: 0.8333 - val_loss: 1.9116 - val_accuracy: 0.5797\n",
      "Epoch 28/200\n",
      "61/61 [==============================] - 2s 40ms/step - loss: 0.4878 - accuracy: 0.8354 - val_loss: 1.9895 - val_accuracy: 0.5362\n",
      "Epoch 29/200\n",
      "61/61 [==============================] - 2s 40ms/step - loss: 0.4762 - accuracy: 0.8483 - val_loss: 1.8567 - val_accuracy: 0.5604\n",
      "Epoch 30/200\n",
      "61/61 [==============================] - 2s 41ms/step - loss: 0.4629 - accuracy: 0.8494 - val_loss: 1.9160 - val_accuracy: 0.5459\n",
      "Epoch 31/200\n",
      "61/61 [==============================] - 2s 39ms/step - loss: 0.4294 - accuracy: 0.8582 - val_loss: 2.1348 - val_accuracy: 0.5290\n",
      "Epoch 32/200\n",
      "61/61 [==============================] - 2s 40ms/step - loss: 0.4287 - accuracy: 0.8566 - val_loss: 2.2891 - val_accuracy: 0.5386\n",
      "Epoch 33/200\n",
      "61/61 [==============================] - 2s 40ms/step - loss: 0.4559 - accuracy: 0.8463 - val_loss: 2.0919 - val_accuracy: 0.5640\n",
      "Epoch 34/200\n",
      "61/61 [==============================] - 2s 40ms/step - loss: 0.4115 - accuracy: 0.8649 - val_loss: 2.1222 - val_accuracy: 0.5447\n",
      "Epoch 35/200\n",
      "61/61 [==============================] - 2s 39ms/step - loss: 0.4254 - accuracy: 0.8561 - val_loss: 2.0461 - val_accuracy: 0.5519\n",
      "Epoch 36/200\n",
      "61/61 [==============================] - 2s 39ms/step - loss: 0.4032 - accuracy: 0.8701 - val_loss: 2.1206 - val_accuracy: 0.5531\n",
      "Epoch 37/200\n",
      "61/61 [==============================] - 2s 39ms/step - loss: 0.4100 - accuracy: 0.8597 - val_loss: 2.0970 - val_accuracy: 0.5749\n",
      "Epoch 38/200\n",
      "61/61 [==============================] - 2s 39ms/step - loss: 0.3831 - accuracy: 0.8742 - val_loss: 2.2270 - val_accuracy: 0.5580\n",
      "Epoch 39/200\n",
      "61/61 [==============================] - 2s 39ms/step - loss: 0.3677 - accuracy: 0.8722 - val_loss: 2.3200 - val_accuracy: 0.5616\n",
      "Epoch 40/200\n",
      "61/61 [==============================] - 2s 40ms/step - loss: 0.3649 - accuracy: 0.8804 - val_loss: 2.1318 - val_accuracy: 0.5568\n",
      "Epoch 41/200\n",
      "61/61 [==============================] - 2s 40ms/step - loss: 0.3743 - accuracy: 0.8804 - val_loss: 2.2667 - val_accuracy: 0.5519\n",
      "Epoch 42/200\n",
      "61/61 [==============================] - 2s 40ms/step - loss: 0.3682 - accuracy: 0.8830 - val_loss: 2.3790 - val_accuracy: 0.5254\n",
      "Epoch 43/200\n",
      "61/61 [==============================] - 2s 40ms/step - loss: 0.3382 - accuracy: 0.8913 - val_loss: 2.1369 - val_accuracy: 0.5604\n",
      "Epoch 44/200\n",
      "61/61 [==============================] - 2s 41ms/step - loss: 0.3354 - accuracy: 0.8960 - val_loss: 2.1730 - val_accuracy: 0.5725\n",
      "Epoch 45/200\n",
      "61/61 [==============================] - 2s 40ms/step - loss: 0.3458 - accuracy: 0.8841 - val_loss: 2.3391 - val_accuracy: 0.5640\n",
      "Epoch 46/200\n",
      "61/61 [==============================] - 2s 40ms/step - loss: 0.3527 - accuracy: 0.8846 - val_loss: 2.1676 - val_accuracy: 0.5616\n",
      "Epoch 47/200\n",
      "61/61 [==============================] - 2s 41ms/step - loss: 0.3563 - accuracy: 0.8830 - val_loss: 2.2158 - val_accuracy: 0.5652\n",
      "Epoch 48/200\n",
      "61/61 [==============================] - 2s 40ms/step - loss: 0.3340 - accuracy: 0.8887 - val_loss: 2.4837 - val_accuracy: 0.5411\n",
      "Epoch 49/200\n",
      "61/61 [==============================] - 2s 40ms/step - loss: 0.3326 - accuracy: 0.8934 - val_loss: 2.3919 - val_accuracy: 0.5266\n",
      "Epoch 50/200\n",
      "61/61 [==============================] - 2s 39ms/step - loss: 0.3141 - accuracy: 0.8970 - val_loss: 2.4366 - val_accuracy: 0.5676\n",
      "Epoch 51/200\n",
      "61/61 [==============================] - 2s 41ms/step - loss: 0.3164 - accuracy: 0.8954 - val_loss: 2.5164 - val_accuracy: 0.5628\n",
      "Epoch 52/200\n",
      "61/61 [==============================] - 2s 39ms/step - loss: 0.3087 - accuracy: 0.9032 - val_loss: 2.3958 - val_accuracy: 0.5713\n",
      "Epoch 53/200\n",
      "61/61 [==============================] - 2s 40ms/step - loss: 0.3034 - accuracy: 0.9042 - val_loss: 2.3130 - val_accuracy: 0.5640\n",
      "Epoch 54/200\n",
      "61/61 [==============================] - 2s 39ms/step - loss: 0.3028 - accuracy: 0.9053 - val_loss: 2.3583 - val_accuracy: 0.5568\n",
      "Epoch 55/200\n",
      "61/61 [==============================] - 2s 40ms/step - loss: 0.2900 - accuracy: 0.9073 - val_loss: 2.4301 - val_accuracy: 0.5652\n",
      "Epoch 56/200\n",
      "61/61 [==============================] - 2s 39ms/step - loss: 0.2966 - accuracy: 0.9073 - val_loss: 2.4691 - val_accuracy: 0.5640\n",
      "Epoch 57/200\n",
      "61/61 [==============================] - 2s 39ms/step - loss: 0.2925 - accuracy: 0.9058 - val_loss: 2.4759 - val_accuracy: 0.5580\n",
      "Epoch 58/200\n",
      "61/61 [==============================] - 2s 40ms/step - loss: 0.2813 - accuracy: 0.9125 - val_loss: 2.3099 - val_accuracy: 0.5725\n",
      "Epoch 59/200\n",
      "61/61 [==============================] - 2s 39ms/step - loss: 0.2492 - accuracy: 0.9198 - val_loss: 2.5422 - val_accuracy: 0.5616\n",
      "Epoch 60/200\n",
      "61/61 [==============================] - 2s 39ms/step - loss: 0.2836 - accuracy: 0.9068 - val_loss: 2.5740 - val_accuracy: 0.5543\n",
      "Epoch 61/200\n",
      "61/61 [==============================] - 2s 39ms/step - loss: 0.2695 - accuracy: 0.9156 - val_loss: 2.5470 - val_accuracy: 0.5640\n",
      "Epoch 62/200\n",
      "61/61 [==============================] - 2s 39ms/step - loss: 0.2864 - accuracy: 0.9110 - val_loss: 2.4118 - val_accuracy: 0.5568\n",
      "Epoch 63/200\n",
      "61/61 [==============================] - 2s 39ms/step - loss: 0.2580 - accuracy: 0.9151 - val_loss: 2.5301 - val_accuracy: 0.5507\n",
      "Epoch 64/200\n",
      "61/61 [==============================] - 2s 40ms/step - loss: 0.2889 - accuracy: 0.9068 - val_loss: 2.4856 - val_accuracy: 0.5459\n",
      "Epoch 65/200\n",
      "61/61 [==============================] - 2s 39ms/step - loss: 0.2358 - accuracy: 0.9203 - val_loss: 2.6055 - val_accuracy: 0.5399\n",
      "Epoch 66/200\n",
      "61/61 [==============================] - 2s 39ms/step - loss: 0.2406 - accuracy: 0.9270 - val_loss: 2.5767 - val_accuracy: 0.5531\n",
      "Epoch 67/200\n",
      "61/61 [==============================] - 2s 40ms/step - loss: 0.2440 - accuracy: 0.9234 - val_loss: 2.6720 - val_accuracy: 0.5229\n",
      "Epoch 68/200\n",
      "61/61 [==============================] - 2s 39ms/step - loss: 0.2641 - accuracy: 0.9130 - val_loss: 2.5234 - val_accuracy: 0.5700\n",
      "Epoch 69/200\n",
      "61/61 [==============================] - 2s 39ms/step - loss: 0.2411 - accuracy: 0.9239 - val_loss: 2.5553 - val_accuracy: 0.5556\n",
      "Epoch 70/200\n",
      "61/61 [==============================] - 2s 39ms/step - loss: 0.2229 - accuracy: 0.9296 - val_loss: 2.8188 - val_accuracy: 0.5362\n",
      "Epoch 71/200\n",
      "61/61 [==============================] - 2s 39ms/step - loss: 0.2460 - accuracy: 0.9193 - val_loss: 2.5636 - val_accuracy: 0.5543\n",
      "Epoch 72/200\n",
      "61/61 [==============================] - 2s 39ms/step - loss: 0.2153 - accuracy: 0.9369 - val_loss: 2.6629 - val_accuracy: 0.5604\n",
      "Epoch 73/200\n",
      "61/61 [==============================] - 2s 39ms/step - loss: 0.2356 - accuracy: 0.9281 - val_loss: 2.6128 - val_accuracy: 0.5688\n",
      "Epoch 74/200\n",
      "61/61 [==============================] - 2s 39ms/step - loss: 0.2298 - accuracy: 0.9286 - val_loss: 2.7357 - val_accuracy: 0.5399\n",
      "Epoch 75/200\n",
      "61/61 [==============================] - 2s 39ms/step - loss: 0.2254 - accuracy: 0.9327 - val_loss: 2.5903 - val_accuracy: 0.5483\n",
      "Epoch 76/200\n",
      "61/61 [==============================] - 2s 40ms/step - loss: 0.2225 - accuracy: 0.9281 - val_loss: 2.6758 - val_accuracy: 0.5556\n",
      "Epoch 77/200\n",
      "61/61 [==============================] - 2s 40ms/step - loss: 0.2071 - accuracy: 0.9384 - val_loss: 2.7835 - val_accuracy: 0.5628\n",
      "Epoch 78/200\n",
      "61/61 [==============================] - 2s 41ms/step - loss: 0.2386 - accuracy: 0.9234 - val_loss: 2.5736 - val_accuracy: 0.5471\n",
      "Epoch 79/200\n",
      "61/61 [==============================] - 2s 40ms/step - loss: 0.2356 - accuracy: 0.9229 - val_loss: 2.6060 - val_accuracy: 0.5543\n",
      "Epoch 80/200\n",
      "61/61 [==============================] - 2s 39ms/step - loss: 0.2136 - accuracy: 0.9343 - val_loss: 2.7526 - val_accuracy: 0.5483\n",
      "Epoch 81/200\n",
      "61/61 [==============================] - 2s 39ms/step - loss: 0.2088 - accuracy: 0.9332 - val_loss: 2.9039 - val_accuracy: 0.5447\n",
      "Epoch 82/200\n",
      "61/61 [==============================] - 2s 39ms/step - loss: 0.2218 - accuracy: 0.9348 - val_loss: 2.6253 - val_accuracy: 0.5568\n",
      "Epoch 83/200\n",
      "61/61 [==============================] - 2s 39ms/step - loss: 0.1933 - accuracy: 0.9415 - val_loss: 2.8037 - val_accuracy: 0.5399\n",
      "Epoch 84/200\n",
      "61/61 [==============================] - 2s 40ms/step - loss: 0.1938 - accuracy: 0.9457 - val_loss: 2.7095 - val_accuracy: 0.5374\n",
      "Epoch 85/200\n",
      "61/61 [==============================] - 2s 39ms/step - loss: 0.1794 - accuracy: 0.9384 - val_loss: 3.0129 - val_accuracy: 0.5350\n",
      "Epoch 86/200\n",
      "61/61 [==============================] - 2s 39ms/step - loss: 0.2080 - accuracy: 0.9317 - val_loss: 2.9309 - val_accuracy: 0.5435\n",
      "Epoch 87/200\n",
      "61/61 [==============================] - 2s 39ms/step - loss: 0.1752 - accuracy: 0.9462 - val_loss: 3.1121 - val_accuracy: 0.5483\n",
      "Epoch 88/200\n",
      "61/61 [==============================] - 2s 39ms/step - loss: 0.1960 - accuracy: 0.9363 - val_loss: 3.2041 - val_accuracy: 0.5302\n",
      "Epoch 89/200\n",
      "61/61 [==============================] - 2s 39ms/step - loss: 0.1921 - accuracy: 0.9441 - val_loss: 2.6933 - val_accuracy: 0.5568\n",
      "Epoch 90/200\n",
      "61/61 [==============================] - 2s 39ms/step - loss: 0.1832 - accuracy: 0.9436 - val_loss: 2.7708 - val_accuracy: 0.5640\n",
      "Epoch 91/200\n",
      "61/61 [==============================] - 2s 39ms/step - loss: 0.1998 - accuracy: 0.9389 - val_loss: 2.7818 - val_accuracy: 0.5556\n",
      "Epoch 92/200\n",
      "61/61 [==============================] - 2s 39ms/step - loss: 0.1806 - accuracy: 0.9410 - val_loss: 3.1756 - val_accuracy: 0.5157\n",
      "Epoch 93/200\n",
      "61/61 [==============================] - 2s 40ms/step - loss: 0.2294 - accuracy: 0.9332 - val_loss: 3.0955 - val_accuracy: 0.5435\n",
      "Epoch 94/200\n",
      "61/61 [==============================] - 2s 40ms/step - loss: 0.1700 - accuracy: 0.9508 - val_loss: 2.9247 - val_accuracy: 0.5507\n",
      "Epoch 95/200\n",
      "61/61 [==============================] - 2s 40ms/step - loss: 0.1851 - accuracy: 0.9462 - val_loss: 2.8565 - val_accuracy: 0.5399\n",
      "Epoch 96/200\n",
      "61/61 [==============================] - 2s 40ms/step - loss: 0.1726 - accuracy: 0.9462 - val_loss: 2.8646 - val_accuracy: 0.5592\n",
      "Epoch 97/200\n",
      "61/61 [==============================] - 2s 40ms/step - loss: 0.1726 - accuracy: 0.9482 - val_loss: 2.9335 - val_accuracy: 0.5483\n",
      "Epoch 98/200\n",
      "61/61 [==============================] - 2s 40ms/step - loss: 0.1733 - accuracy: 0.9493 - val_loss: 2.8635 - val_accuracy: 0.5604\n",
      "Epoch 99/200\n",
      "61/61 [==============================] - 2s 40ms/step - loss: 0.1799 - accuracy: 0.9436 - val_loss: 2.8477 - val_accuracy: 0.5459\n",
      "Epoch 100/200\n",
      "61/61 [==============================] - 2s 40ms/step - loss: 0.1922 - accuracy: 0.9410 - val_loss: 3.1516 - val_accuracy: 0.5254\n",
      "Epoch 101/200\n",
      "61/61 [==============================] - 2s 40ms/step - loss: 0.1782 - accuracy: 0.9508 - val_loss: 2.9707 - val_accuracy: 0.5700\n",
      "Epoch 102/200\n",
      "61/61 [==============================] - 2s 40ms/step - loss: 0.1725 - accuracy: 0.9467 - val_loss: 3.0551 - val_accuracy: 0.5435\n",
      "Epoch 103/200\n",
      "61/61 [==============================] - 2s 39ms/step - loss: 0.1487 - accuracy: 0.9565 - val_loss: 3.1147 - val_accuracy: 0.5519\n",
      "Epoch 104/200\n",
      "61/61 [==============================] - 2s 40ms/step - loss: 0.1566 - accuracy: 0.9508 - val_loss: 3.0883 - val_accuracy: 0.5616\n",
      "Epoch 105/200\n",
      "61/61 [==============================] - 2s 40ms/step - loss: 0.1654 - accuracy: 0.9503 - val_loss: 2.9570 - val_accuracy: 0.5471\n",
      "Epoch 106/200\n",
      "61/61 [==============================] - 2s 40ms/step - loss: 0.1590 - accuracy: 0.9513 - val_loss: 3.1268 - val_accuracy: 0.5543\n",
      "Epoch 107/200\n",
      "61/61 [==============================] - 2s 39ms/step - loss: 0.1765 - accuracy: 0.9472 - val_loss: 3.0911 - val_accuracy: 0.5447\n",
      "Epoch 108/200\n",
      "49/61 [=======================>......] - ETA: 0s - loss: 0.1669 - accuracy: 0.9483"
     ]
    },
    {
     "ename": "KeyboardInterrupt",
     "evalue": "",
     "output_type": "error",
     "traceback": [
      "\u001b[0;31m---------------------------------------------------------------------------\u001b[0m",
      "\u001b[0;31mKeyboardInterrupt\u001b[0m                         Traceback (most recent call last)",
      "\u001b[0;32m<ipython-input-55-cb67e54f027f>\u001b[0m in \u001b[0;36m<module>\u001b[0;34m\u001b[0m\n\u001b[0;32m----> 1\u001b[0;31m \u001b[0mmodel\u001b[0m\u001b[0;34m.\u001b[0m\u001b[0mfit\u001b[0m\u001b[0;34m(\u001b[0m\u001b[0mpadded\u001b[0m\u001b[0;34m,\u001b[0m \u001b[0mytrain\u001b[0m\u001b[0;34m,\u001b[0m \u001b[0mvalidation_data\u001b[0m\u001b[0;34m=\u001b[0m\u001b[0;34m(\u001b[0m\u001b[0mpaddedtest\u001b[0m\u001b[0;34m,\u001b[0m \u001b[0mytest\u001b[0m\u001b[0;34m)\u001b[0m\u001b[0;34m,\u001b[0m \u001b[0mepochs\u001b[0m\u001b[0;34m=\u001b[0m\u001b[0;36m200\u001b[0m\u001b[0;34m,\u001b[0m \u001b[0mbatch_size\u001b[0m \u001b[0;34m=\u001b[0m \u001b[0;36m32\u001b[0m\u001b[0;34m)\u001b[0m\u001b[0;34m\u001b[0m\u001b[0;34m\u001b[0m\u001b[0m\n\u001b[0m",
      "\u001b[0;32m~/.local/lib/python3.8/site-packages/keras/utils/traceback_utils.py\u001b[0m in \u001b[0;36merror_handler\u001b[0;34m(*args, **kwargs)\u001b[0m\n\u001b[1;32m     62\u001b[0m     \u001b[0mfiltered_tb\u001b[0m \u001b[0;34m=\u001b[0m \u001b[0;32mNone\u001b[0m\u001b[0;34m\u001b[0m\u001b[0;34m\u001b[0m\u001b[0m\n\u001b[1;32m     63\u001b[0m     \u001b[0;32mtry\u001b[0m\u001b[0;34m:\u001b[0m\u001b[0;34m\u001b[0m\u001b[0;34m\u001b[0m\u001b[0m\n\u001b[0;32m---> 64\u001b[0;31m       \u001b[0;32mreturn\u001b[0m \u001b[0mfn\u001b[0m\u001b[0;34m(\u001b[0m\u001b[0;34m*\u001b[0m\u001b[0margs\u001b[0m\u001b[0;34m,\u001b[0m \u001b[0;34m**\u001b[0m\u001b[0mkwargs\u001b[0m\u001b[0;34m)\u001b[0m\u001b[0;34m\u001b[0m\u001b[0;34m\u001b[0m\u001b[0m\n\u001b[0m\u001b[1;32m     65\u001b[0m     \u001b[0;32mexcept\u001b[0m \u001b[0mException\u001b[0m \u001b[0;32mas\u001b[0m \u001b[0me\u001b[0m\u001b[0;34m:\u001b[0m  \u001b[0;31m# pylint: disable=broad-except\u001b[0m\u001b[0;34m\u001b[0m\u001b[0;34m\u001b[0m\u001b[0m\n\u001b[1;32m     66\u001b[0m       \u001b[0mfiltered_tb\u001b[0m \u001b[0;34m=\u001b[0m \u001b[0m_process_traceback_frames\u001b[0m\u001b[0;34m(\u001b[0m\u001b[0me\u001b[0m\u001b[0;34m.\u001b[0m\u001b[0m__traceback__\u001b[0m\u001b[0;34m)\u001b[0m\u001b[0;34m\u001b[0m\u001b[0;34m\u001b[0m\u001b[0m\n",
      "\u001b[0;32m~/.local/lib/python3.8/site-packages/keras/engine/training.py\u001b[0m in \u001b[0;36mfit\u001b[0;34m(self, x, y, batch_size, epochs, verbose, callbacks, validation_split, validation_data, shuffle, class_weight, sample_weight, initial_epoch, steps_per_epoch, validation_steps, validation_batch_size, validation_freq, max_queue_size, workers, use_multiprocessing)\u001b[0m\n\u001b[1;32m   1382\u001b[0m                 _r=1):\n\u001b[1;32m   1383\u001b[0m               \u001b[0mcallbacks\u001b[0m\u001b[0;34m.\u001b[0m\u001b[0mon_train_batch_begin\u001b[0m\u001b[0;34m(\u001b[0m\u001b[0mstep\u001b[0m\u001b[0;34m)\u001b[0m\u001b[0;34m\u001b[0m\u001b[0;34m\u001b[0m\u001b[0m\n\u001b[0;32m-> 1384\u001b[0;31m               \u001b[0mtmp_logs\u001b[0m \u001b[0;34m=\u001b[0m \u001b[0mself\u001b[0m\u001b[0;34m.\u001b[0m\u001b[0mtrain_function\u001b[0m\u001b[0;34m(\u001b[0m\u001b[0miterator\u001b[0m\u001b[0;34m)\u001b[0m\u001b[0;34m\u001b[0m\u001b[0;34m\u001b[0m\u001b[0m\n\u001b[0m\u001b[1;32m   1385\u001b[0m               \u001b[0;32mif\u001b[0m \u001b[0mdata_handler\u001b[0m\u001b[0;34m.\u001b[0m\u001b[0mshould_sync\u001b[0m\u001b[0;34m:\u001b[0m\u001b[0;34m\u001b[0m\u001b[0;34m\u001b[0m\u001b[0m\n\u001b[1;32m   1386\u001b[0m                 \u001b[0mcontext\u001b[0m\u001b[0;34m.\u001b[0m\u001b[0masync_wait\u001b[0m\u001b[0;34m(\u001b[0m\u001b[0;34m)\u001b[0m\u001b[0;34m\u001b[0m\u001b[0;34m\u001b[0m\u001b[0m\n",
      "\u001b[0;32m~/.local/lib/python3.8/site-packages/tensorflow/python/util/traceback_utils.py\u001b[0m in \u001b[0;36merror_handler\u001b[0;34m(*args, **kwargs)\u001b[0m\n\u001b[1;32m    148\u001b[0m     \u001b[0mfiltered_tb\u001b[0m \u001b[0;34m=\u001b[0m \u001b[0;32mNone\u001b[0m\u001b[0;34m\u001b[0m\u001b[0;34m\u001b[0m\u001b[0m\n\u001b[1;32m    149\u001b[0m     \u001b[0;32mtry\u001b[0m\u001b[0;34m:\u001b[0m\u001b[0;34m\u001b[0m\u001b[0;34m\u001b[0m\u001b[0m\n\u001b[0;32m--> 150\u001b[0;31m       \u001b[0;32mreturn\u001b[0m \u001b[0mfn\u001b[0m\u001b[0;34m(\u001b[0m\u001b[0;34m*\u001b[0m\u001b[0margs\u001b[0m\u001b[0;34m,\u001b[0m \u001b[0;34m**\u001b[0m\u001b[0mkwargs\u001b[0m\u001b[0;34m)\u001b[0m\u001b[0;34m\u001b[0m\u001b[0;34m\u001b[0m\u001b[0m\n\u001b[0m\u001b[1;32m    151\u001b[0m     \u001b[0;32mexcept\u001b[0m \u001b[0mException\u001b[0m \u001b[0;32mas\u001b[0m \u001b[0me\u001b[0m\u001b[0;34m:\u001b[0m\u001b[0;34m\u001b[0m\u001b[0;34m\u001b[0m\u001b[0m\n\u001b[1;32m    152\u001b[0m       \u001b[0mfiltered_tb\u001b[0m \u001b[0;34m=\u001b[0m \u001b[0m_process_traceback_frames\u001b[0m\u001b[0;34m(\u001b[0m\u001b[0me\u001b[0m\u001b[0;34m.\u001b[0m\u001b[0m__traceback__\u001b[0m\u001b[0;34m)\u001b[0m\u001b[0;34m\u001b[0m\u001b[0;34m\u001b[0m\u001b[0m\n",
      "\u001b[0;32m~/.local/lib/python3.8/site-packages/tensorflow/python/eager/def_function.py\u001b[0m in \u001b[0;36m__call__\u001b[0;34m(self, *args, **kwds)\u001b[0m\n\u001b[1;32m    913\u001b[0m \u001b[0;34m\u001b[0m\u001b[0m\n\u001b[1;32m    914\u001b[0m       \u001b[0;32mwith\u001b[0m \u001b[0mOptionalXlaContext\u001b[0m\u001b[0;34m(\u001b[0m\u001b[0mself\u001b[0m\u001b[0;34m.\u001b[0m\u001b[0m_jit_compile\u001b[0m\u001b[0;34m)\u001b[0m\u001b[0;34m:\u001b[0m\u001b[0;34m\u001b[0m\u001b[0;34m\u001b[0m\u001b[0m\n\u001b[0;32m--> 915\u001b[0;31m         \u001b[0mresult\u001b[0m \u001b[0;34m=\u001b[0m \u001b[0mself\u001b[0m\u001b[0;34m.\u001b[0m\u001b[0m_call\u001b[0m\u001b[0;34m(\u001b[0m\u001b[0;34m*\u001b[0m\u001b[0margs\u001b[0m\u001b[0;34m,\u001b[0m \u001b[0;34m**\u001b[0m\u001b[0mkwds\u001b[0m\u001b[0;34m)\u001b[0m\u001b[0;34m\u001b[0m\u001b[0;34m\u001b[0m\u001b[0m\n\u001b[0m\u001b[1;32m    916\u001b[0m \u001b[0;34m\u001b[0m\u001b[0m\n\u001b[1;32m    917\u001b[0m       \u001b[0mnew_tracing_count\u001b[0m \u001b[0;34m=\u001b[0m \u001b[0mself\u001b[0m\u001b[0;34m.\u001b[0m\u001b[0mexperimental_get_tracing_count\u001b[0m\u001b[0;34m(\u001b[0m\u001b[0;34m)\u001b[0m\u001b[0;34m\u001b[0m\u001b[0;34m\u001b[0m\u001b[0m\n",
      "\u001b[0;32m~/.local/lib/python3.8/site-packages/tensorflow/python/eager/def_function.py\u001b[0m in \u001b[0;36m_call\u001b[0;34m(self, *args, **kwds)\u001b[0m\n\u001b[1;32m    945\u001b[0m       \u001b[0;31m# In this case we have created variables on the first call, so we run the\u001b[0m\u001b[0;34m\u001b[0m\u001b[0;34m\u001b[0m\u001b[0;34m\u001b[0m\u001b[0m\n\u001b[1;32m    946\u001b[0m       \u001b[0;31m# defunned version which is guaranteed to never create variables.\u001b[0m\u001b[0;34m\u001b[0m\u001b[0;34m\u001b[0m\u001b[0;34m\u001b[0m\u001b[0m\n\u001b[0;32m--> 947\u001b[0;31m       \u001b[0;32mreturn\u001b[0m \u001b[0mself\u001b[0m\u001b[0;34m.\u001b[0m\u001b[0m_stateless_fn\u001b[0m\u001b[0;34m(\u001b[0m\u001b[0;34m*\u001b[0m\u001b[0margs\u001b[0m\u001b[0;34m,\u001b[0m \u001b[0;34m**\u001b[0m\u001b[0mkwds\u001b[0m\u001b[0;34m)\u001b[0m  \u001b[0;31m# pylint: disable=not-callable\u001b[0m\u001b[0;34m\u001b[0m\u001b[0;34m\u001b[0m\u001b[0m\n\u001b[0m\u001b[1;32m    948\u001b[0m     \u001b[0;32melif\u001b[0m \u001b[0mself\u001b[0m\u001b[0;34m.\u001b[0m\u001b[0m_stateful_fn\u001b[0m \u001b[0;32mis\u001b[0m \u001b[0;32mnot\u001b[0m \u001b[0;32mNone\u001b[0m\u001b[0;34m:\u001b[0m\u001b[0;34m\u001b[0m\u001b[0;34m\u001b[0m\u001b[0m\n\u001b[1;32m    949\u001b[0m       \u001b[0;31m# Release the lock early so that multiple threads can perform the call\u001b[0m\u001b[0;34m\u001b[0m\u001b[0;34m\u001b[0m\u001b[0;34m\u001b[0m\u001b[0m\n",
      "\u001b[0;32m~/.local/lib/python3.8/site-packages/tensorflow/python/eager/function.py\u001b[0m in \u001b[0;36m__call__\u001b[0;34m(self, *args, **kwargs)\u001b[0m\n\u001b[1;32m   2954\u001b[0m       (graph_function,\n\u001b[1;32m   2955\u001b[0m        filtered_flat_args) = self._maybe_define_function(args, kwargs)\n\u001b[0;32m-> 2956\u001b[0;31m     return graph_function._call_flat(\n\u001b[0m\u001b[1;32m   2957\u001b[0m         filtered_flat_args, captured_inputs=graph_function.captured_inputs)  # pylint: disable=protected-access\n\u001b[1;32m   2958\u001b[0m \u001b[0;34m\u001b[0m\u001b[0m\n",
      "\u001b[0;32m~/.local/lib/python3.8/site-packages/tensorflow/python/eager/function.py\u001b[0m in \u001b[0;36m_call_flat\u001b[0;34m(self, args, captured_inputs, cancellation_manager)\u001b[0m\n\u001b[1;32m   1851\u001b[0m         and executing_eagerly):\n\u001b[1;32m   1852\u001b[0m       \u001b[0;31m# No tape is watching; skip to running the function.\u001b[0m\u001b[0;34m\u001b[0m\u001b[0;34m\u001b[0m\u001b[0;34m\u001b[0m\u001b[0m\n\u001b[0;32m-> 1853\u001b[0;31m       return self._build_call_outputs(self._inference_function.call(\n\u001b[0m\u001b[1;32m   1854\u001b[0m           ctx, args, cancellation_manager=cancellation_manager))\n\u001b[1;32m   1855\u001b[0m     forward_backward = self._select_forward_and_backward_functions(\n",
      "\u001b[0;32m~/.local/lib/python3.8/site-packages/tensorflow/python/eager/function.py\u001b[0m in \u001b[0;36mcall\u001b[0;34m(self, ctx, args, cancellation_manager)\u001b[0m\n\u001b[1;32m    497\u001b[0m       \u001b[0;32mwith\u001b[0m \u001b[0m_InterpolateFunctionError\u001b[0m\u001b[0;34m(\u001b[0m\u001b[0mself\u001b[0m\u001b[0;34m)\u001b[0m\u001b[0;34m:\u001b[0m\u001b[0;34m\u001b[0m\u001b[0;34m\u001b[0m\u001b[0m\n\u001b[1;32m    498\u001b[0m         \u001b[0;32mif\u001b[0m \u001b[0mcancellation_manager\u001b[0m \u001b[0;32mis\u001b[0m \u001b[0;32mNone\u001b[0m\u001b[0;34m:\u001b[0m\u001b[0;34m\u001b[0m\u001b[0;34m\u001b[0m\u001b[0m\n\u001b[0;32m--> 499\u001b[0;31m           outputs = execute.execute(\n\u001b[0m\u001b[1;32m    500\u001b[0m               \u001b[0mstr\u001b[0m\u001b[0;34m(\u001b[0m\u001b[0mself\u001b[0m\u001b[0;34m.\u001b[0m\u001b[0msignature\u001b[0m\u001b[0;34m.\u001b[0m\u001b[0mname\u001b[0m\u001b[0;34m)\u001b[0m\u001b[0;34m,\u001b[0m\u001b[0;34m\u001b[0m\u001b[0;34m\u001b[0m\u001b[0m\n\u001b[1;32m    501\u001b[0m               \u001b[0mnum_outputs\u001b[0m\u001b[0;34m=\u001b[0m\u001b[0mself\u001b[0m\u001b[0;34m.\u001b[0m\u001b[0m_num_outputs\u001b[0m\u001b[0;34m,\u001b[0m\u001b[0;34m\u001b[0m\u001b[0;34m\u001b[0m\u001b[0m\n",
      "\u001b[0;32m~/.local/lib/python3.8/site-packages/tensorflow/python/eager/execute.py\u001b[0m in \u001b[0;36mquick_execute\u001b[0;34m(op_name, num_outputs, inputs, attrs, ctx, name)\u001b[0m\n\u001b[1;32m     52\u001b[0m   \u001b[0;32mtry\u001b[0m\u001b[0;34m:\u001b[0m\u001b[0;34m\u001b[0m\u001b[0;34m\u001b[0m\u001b[0m\n\u001b[1;32m     53\u001b[0m     \u001b[0mctx\u001b[0m\u001b[0;34m.\u001b[0m\u001b[0mensure_initialized\u001b[0m\u001b[0;34m(\u001b[0m\u001b[0;34m)\u001b[0m\u001b[0;34m\u001b[0m\u001b[0;34m\u001b[0m\u001b[0m\n\u001b[0;32m---> 54\u001b[0;31m     tensors = pywrap_tfe.TFE_Py_Execute(ctx._handle, device_name, op_name,\n\u001b[0m\u001b[1;32m     55\u001b[0m                                         inputs, attrs, num_outputs)\n\u001b[1;32m     56\u001b[0m   \u001b[0;32mexcept\u001b[0m \u001b[0mcore\u001b[0m\u001b[0;34m.\u001b[0m\u001b[0m_NotOkStatusException\u001b[0m \u001b[0;32mas\u001b[0m \u001b[0me\u001b[0m\u001b[0;34m:\u001b[0m\u001b[0;34m\u001b[0m\u001b[0;34m\u001b[0m\u001b[0m\n",
      "\u001b[0;31mKeyboardInterrupt\u001b[0m: "
     ]
    }
   ],
   "source": [
    "model.fit(padded, ytrain, validation_data=(paddedtest, ytest), epochs=200, batch_size = 32)\n"
   ]
  },
  {
   "cell_type": "code",
   "execution_count": 89,
   "metadata": {},
   "outputs": [
    {
     "name": "stdout",
     "output_type": "stream",
     "text": [
      "Model: \"model_1\"\n",
      "__________________________________________________________________________________________________\n",
      " Layer (type)                   Output Shape         Param #     Connected to                     \n",
      "==================================================================================================\n",
      " input_2 (InputLayer)           [(None, 880)]        0           []                               \n",
      "                                                                                                  \n",
      " embedding_1 (Embedding)        (None, 880, 100)     915400      ['input_2[0][0]']                \n",
      "                                                                                                  \n",
      " dropout_45 (Dropout)           (None, 880, 100)     0           ['embedding_1[0][0]']            \n",
      "                                                                                                  \n",
      " conv1d_5 (Conv1D)              (None, 880, 32)      9632        ['dropout_45[0][0]']             \n",
      "                                                                                                  \n",
      " conv1d_6 (Conv1D)              (None, 880, 24)      9624        ['dropout_45[0][0]']             \n",
      "                                                                                                  \n",
      " conv1d_7 (Conv1D)              (None, 880, 64)      32064       ['dropout_45[0][0]']             \n",
      "                                                                                                  \n",
      " concatenate_1 (Concatenate)    (None, 880, 120)     0           ['conv1d_5[0][0]',               \n",
      "                                                                  'conv1d_6[0][0]',               \n",
      "                                                                  'conv1d_7[0][0]']               \n",
      "                                                                                                  \n",
      " max_pooling1d_3 (MaxPooling1D)  (None, 176, 120)    0           ['concatenate_1[0][0]']          \n",
      "                                                                                                  \n",
      " dropout_46 (Dropout)           (None, 176, 120)     0           ['max_pooling1d_3[0][0]']        \n",
      "                                                                                                  \n",
      " conv1d_8 (Conv1D)              (None, 174, 128)     46208       ['dropout_46[0][0]']             \n",
      "                                                                                                  \n",
      " max_pooling1d_4 (MaxPooling1D)  (None, 34, 128)     0           ['conv1d_8[0][0]']               \n",
      "                                                                                                  \n",
      " conv1d_9 (Conv1D)              (None, 30, 256)      164096      ['max_pooling1d_4[0][0]']        \n",
      "                                                                                                  \n",
      " max_pooling1d_5 (MaxPooling1D)  (None, 6, 256)      0           ['conv1d_9[0][0]']               \n",
      "                                                                                                  \n",
      " flatten_1 (Flatten)            (None, 1536)         0           ['max_pooling1d_5[0][0]']        \n",
      "                                                                                                  \n",
      " dense_4 (Dense)                (None, 128)          196736      ['flatten_1[0][0]']              \n",
      "                                                                                                  \n",
      " dropout_47 (Dropout)           (None, 128)          0           ['dense_4[0][0]']                \n",
      "                                                                                                  \n",
      " dense_5 (Dense)                (None, 64)           8256        ['dropout_47[0][0]']             \n",
      "                                                                                                  \n",
      " dropout_48 (Dropout)           (None, 64)           0           ['dense_5[0][0]']                \n",
      "                                                                                                  \n",
      " dense_6 (Dense)                (None, 32)           2080        ['dropout_48[0][0]']             \n",
      "                                                                                                  \n",
      " dropout_49 (Dropout)           (None, 32)           0           ['dense_6[0][0]']                \n",
      "                                                                                                  \n",
      " dense_7 (Dense)                (None, 19)           627         ['dropout_49[0][0]']             \n",
      "                                                                                                  \n",
      "==================================================================================================\n",
      "Total params: 1,384,723\n",
      "Trainable params: 1,384,723\n",
      "Non-trainable params: 0\n",
      "__________________________________________________________________________________________________\n"
     ]
    }
   ],
   "source": [
    "# To Do: build model use the embedding_index from glove\n",
    "embedding_layer = Embedding(len(word_index) + 1, embeddingdim, embeddings_initializer = Constant(embedding_matrix),\n",
    "                           input_length=maxlength, trainable = True)\n",
    "sequence_input = Input(shape=(maxlength,), dtype='int32')\n",
    "embeddedsequences = embedding_layer(sequence_input)\n",
    "y = Dropout(0.3)(embeddedsequences)\n",
    "x = Conv1D(32, kernel_size=3, padding='same', activation = 'relu')(y)\n",
    "x1 = Conv1D(24, kernel_size=4, padding = 'same',activation = 'relu')(y)\n",
    "x2 = Conv1D(64, kernel_size=5, padding = 'same',activation = 'relu')(y)\n",
    "x = Concatenate()([x,x1,x2]) \n",
    "x = MaxPooling1D(5)(x)\n",
    "x = Dropout(.2)(x)\n",
    "x = Conv1D(128, 3, activation = 'relu')(x)\n",
    "x = MaxPooling1D(5)(x)\n",
    "x = Conv1D(256, 5, activation = 'relu')(x)\n",
    "x = MaxPooling1D(5)(x)\n",
    "x = Flatten()(x)\n",
    "x = Dense(128, activation='relu')(x)\n",
    "x = Dropout(0.3)(x)\n",
    "x = Dense(64, activation = 'relu')(x)\n",
    "x = Dropout(.25)(x)\n",
    "x = Dense(32, activation = 'relu')(x)\n",
    "x = Dropout(.4)(x)\n",
    "preds = Dense(n_classes, activation = 'softmax')(x)\n",
    "\n",
    "from tensorflow import keras\n",
    "optimizer = keras.optimizers.RMSprop(learning_rate=.0003, decay=.0008, centered=True)\n",
    "\n",
    "model = Model(sequence_input, preds)\n",
    "model.compile(loss='sparse_categorical_crossentropy', optimizer=optimizer, metrics = ['accuracy'])\n",
    "\n",
    "model.summary()"
   ]
  },
  {
   "cell_type": "code",
   "execution_count": 90,
   "metadata": {
    "collapsed": true,
    "jupyter": {
     "outputs_hidden": true,
     "source_hidden": true
    }
   },
   "outputs": [
    {
     "name": "stdout",
     "output_type": "stream",
     "text": [
      "Epoch 1/100\n"
     ]
    },
    {
     "ename": "InvalidArgumentError",
     "evalue": "Graph execution error:\n\nDetected at node 'sparse_categorical_crossentropy/SparseSoftmaxCrossEntropyWithLogits/SparseSoftmaxCrossEntropyWithLogits' defined at (most recent call last):\n    File \"/apps/software/standard/compiler/gcc/9.2.0/jupyter_conda/2020.11-py3.8/lib/python3.8/runpy.py\", line 194, in _run_module_as_main\n      return _run_code(code, main_globals, None,\n    File \"/apps/software/standard/compiler/gcc/9.2.0/jupyter_conda/2020.11-py3.8/lib/python3.8/runpy.py\", line 87, in _run_code\n      exec(code, run_globals)\n    File \"/apps/software/standard/compiler/gcc/9.2.0/jupyter_conda/2020.11-py3.8/lib/python3.8/site-packages/ipykernel_launcher.py\", line 16, in <module>\n      app.launch_new_instance()\n    File \"/apps/software/standard/compiler/gcc/9.2.0/jupyter_conda/2020.11-py3.8/lib/python3.8/site-packages/traitlets/config/application.py\", line 845, in launch_instance\n      app.start()\n    File \"/apps/software/standard/compiler/gcc/9.2.0/jupyter_conda/2020.11-py3.8/lib/python3.8/site-packages/ipykernel/kernelapp.py\", line 612, in start\n      self.io_loop.start()\n    File \"/apps/software/standard/compiler/gcc/9.2.0/jupyter_conda/2020.11-py3.8/lib/python3.8/site-packages/tornado/platform/asyncio.py\", line 149, in start\n      self.asyncio_loop.run_forever()\n    File \"/apps/software/standard/compiler/gcc/9.2.0/jupyter_conda/2020.11-py3.8/lib/python3.8/asyncio/base_events.py\", line 570, in run_forever\n      self._run_once()\n    File \"/apps/software/standard/compiler/gcc/9.2.0/jupyter_conda/2020.11-py3.8/lib/python3.8/asyncio/base_events.py\", line 1859, in _run_once\n      handle._run()\n    File \"/apps/software/standard/compiler/gcc/9.2.0/jupyter_conda/2020.11-py3.8/lib/python3.8/asyncio/events.py\", line 81, in _run\n      self._context.run(self._callback, *self._args)\n    File \"/apps/software/standard/compiler/gcc/9.2.0/jupyter_conda/2020.11-py3.8/lib/python3.8/site-packages/tornado/ioloop.py\", line 690, in <lambda>\n      lambda f: self._run_callback(functools.partial(callback, future))\n    File \"/apps/software/standard/compiler/gcc/9.2.0/jupyter_conda/2020.11-py3.8/lib/python3.8/site-packages/tornado/ioloop.py\", line 743, in _run_callback\n      ret = callback()\n    File \"/apps/software/standard/compiler/gcc/9.2.0/jupyter_conda/2020.11-py3.8/lib/python3.8/site-packages/tornado/gen.py\", line 787, in inner\n      self.run()\n    File \"/apps/software/standard/compiler/gcc/9.2.0/jupyter_conda/2020.11-py3.8/lib/python3.8/site-packages/tornado/gen.py\", line 748, in run\n      yielded = self.gen.send(value)\n    File \"/apps/software/standard/compiler/gcc/9.2.0/jupyter_conda/2020.11-py3.8/lib/python3.8/site-packages/ipykernel/kernelbase.py\", line 365, in process_one\n      yield gen.maybe_future(dispatch(*args))\n    File \"/apps/software/standard/compiler/gcc/9.2.0/jupyter_conda/2020.11-py3.8/lib/python3.8/site-packages/tornado/gen.py\", line 209, in wrapper\n      yielded = next(result)\n    File \"/apps/software/standard/compiler/gcc/9.2.0/jupyter_conda/2020.11-py3.8/lib/python3.8/site-packages/ipykernel/kernelbase.py\", line 268, in dispatch_shell\n      yield gen.maybe_future(handler(stream, idents, msg))\n    File \"/apps/software/standard/compiler/gcc/9.2.0/jupyter_conda/2020.11-py3.8/lib/python3.8/site-packages/tornado/gen.py\", line 209, in wrapper\n      yielded = next(result)\n    File \"/apps/software/standard/compiler/gcc/9.2.0/jupyter_conda/2020.11-py3.8/lib/python3.8/site-packages/ipykernel/kernelbase.py\", line 543, in execute_request\n      self.do_execute(\n    File \"/apps/software/standard/compiler/gcc/9.2.0/jupyter_conda/2020.11-py3.8/lib/python3.8/site-packages/tornado/gen.py\", line 209, in wrapper\n      yielded = next(result)\n    File \"/apps/software/standard/compiler/gcc/9.2.0/jupyter_conda/2020.11-py3.8/lib/python3.8/site-packages/ipykernel/ipkernel.py\", line 306, in do_execute\n      res = shell.run_cell(code, store_history=store_history, silent=silent)\n    File \"/apps/software/standard/compiler/gcc/9.2.0/jupyter_conda/2020.11-py3.8/lib/python3.8/site-packages/ipykernel/zmqshell.py\", line 536, in run_cell\n      return super(ZMQInteractiveShell, self).run_cell(*args, **kwargs)\n    File \"/apps/software/standard/compiler/gcc/9.2.0/jupyter_conda/2020.11-py3.8/lib/python3.8/site-packages/IPython/core/interactiveshell.py\", line 2877, in run_cell\n      result = self._run_cell(\n    File \"/apps/software/standard/compiler/gcc/9.2.0/jupyter_conda/2020.11-py3.8/lib/python3.8/site-packages/IPython/core/interactiveshell.py\", line 2923, in _run_cell\n      return runner(coro)\n    File \"/apps/software/standard/compiler/gcc/9.2.0/jupyter_conda/2020.11-py3.8/lib/python3.8/site-packages/IPython/core/async_helpers.py\", line 68, in _pseudo_sync_runner\n      coro.send(None)\n    File \"/apps/software/standard/compiler/gcc/9.2.0/jupyter_conda/2020.11-py3.8/lib/python3.8/site-packages/IPython/core/interactiveshell.py\", line 3146, in run_cell_async\n      has_raised = await self.run_ast_nodes(code_ast.body, cell_name,\n    File \"/apps/software/standard/compiler/gcc/9.2.0/jupyter_conda/2020.11-py3.8/lib/python3.8/site-packages/IPython/core/interactiveshell.py\", line 3338, in run_ast_nodes\n      if (await self.run_code(code, result,  async_=asy)):\n    File \"/apps/software/standard/compiler/gcc/9.2.0/jupyter_conda/2020.11-py3.8/lib/python3.8/site-packages/IPython/core/interactiveshell.py\", line 3418, in run_code\n      exec(code_obj, self.user_global_ns, self.user_ns)\n    File \"<ipython-input-90-ad7f7effb416>\", line 1, in <module>\n      model.fit(padded, ytrain, validation_data=(paddedtest, ytest), epochs=100, batch_size = 64)\n    File \"/home/jzd6af/.local/lib/python3.8/site-packages/keras/utils/traceback_utils.py\", line 64, in error_handler\n      return fn(*args, **kwargs)\n    File \"/home/jzd6af/.local/lib/python3.8/site-packages/keras/engine/training.py\", line 1384, in fit\n      tmp_logs = self.train_function(iterator)\n    File \"/home/jzd6af/.local/lib/python3.8/site-packages/keras/engine/training.py\", line 1021, in train_function\n      return step_function(self, iterator)\n    File \"/home/jzd6af/.local/lib/python3.8/site-packages/keras/engine/training.py\", line 1010, in step_function\n      outputs = model.distribute_strategy.run(run_step, args=(data,))\n    File \"/home/jzd6af/.local/lib/python3.8/site-packages/keras/engine/training.py\", line 1000, in run_step\n      outputs = model.train_step(data)\n    File \"/home/jzd6af/.local/lib/python3.8/site-packages/keras/engine/training.py\", line 860, in train_step\n      loss = self.compute_loss(x, y, y_pred, sample_weight)\n    File \"/home/jzd6af/.local/lib/python3.8/site-packages/keras/engine/training.py\", line 918, in compute_loss\n      return self.compiled_loss(\n    File \"/home/jzd6af/.local/lib/python3.8/site-packages/keras/engine/compile_utils.py\", line 201, in __call__\n      loss_value = loss_obj(y_t, y_p, sample_weight=sw)\n    File \"/home/jzd6af/.local/lib/python3.8/site-packages/keras/losses.py\", line 141, in __call__\n      losses = call_fn(y_true, y_pred)\n    File \"/home/jzd6af/.local/lib/python3.8/site-packages/keras/losses.py\", line 245, in call\n      return ag_fn(y_true, y_pred, **self._fn_kwargs)\n    File \"/home/jzd6af/.local/lib/python3.8/site-packages/keras/losses.py\", line 1862, in sparse_categorical_crossentropy\n      return backend.sparse_categorical_crossentropy(\n    File \"/home/jzd6af/.local/lib/python3.8/site-packages/keras/backend.py\", line 5202, in sparse_categorical_crossentropy\n      res = tf.nn.sparse_softmax_cross_entropy_with_logits(\nNode: 'sparse_categorical_crossentropy/SparseSoftmaxCrossEntropyWithLogits/SparseSoftmaxCrossEntropyWithLogits'\nReceived a label value of 19 which is outside the valid range of [0, 19).  Label values: 18 13 5 10 17 5 0 4 8 5 5 12 1 0 3 9 3 5 10 18 6 5 9 5 0 10 13 9 8 11 5 10 8 10 0 1 19 5 3 10 0 16 3 8 2 4 5 5 6 5 5 0 16 0 3 10 11 9 1 13 9 6 2 12\n\t [[{{node sparse_categorical_crossentropy/SparseSoftmaxCrossEntropyWithLogits/SparseSoftmaxCrossEntropyWithLogits}}]] [Op:__inference_train_function_50556]",
     "output_type": "error",
     "traceback": [
      "\u001b[0;31m---------------------------------------------------------------------------\u001b[0m",
      "\u001b[0;31mInvalidArgumentError\u001b[0m                      Traceback (most recent call last)",
      "\u001b[0;32m<ipython-input-90-ad7f7effb416>\u001b[0m in \u001b[0;36m<module>\u001b[0;34m\u001b[0m\n\u001b[0;32m----> 1\u001b[0;31m \u001b[0mmodel\u001b[0m\u001b[0;34m.\u001b[0m\u001b[0mfit\u001b[0m\u001b[0;34m(\u001b[0m\u001b[0mpadded\u001b[0m\u001b[0;34m,\u001b[0m \u001b[0mytrain\u001b[0m\u001b[0;34m,\u001b[0m \u001b[0mvalidation_data\u001b[0m\u001b[0;34m=\u001b[0m\u001b[0;34m(\u001b[0m\u001b[0mpaddedtest\u001b[0m\u001b[0;34m,\u001b[0m \u001b[0mytest\u001b[0m\u001b[0;34m)\u001b[0m\u001b[0;34m,\u001b[0m \u001b[0mepochs\u001b[0m\u001b[0;34m=\u001b[0m\u001b[0;36m100\u001b[0m\u001b[0;34m,\u001b[0m \u001b[0mbatch_size\u001b[0m \u001b[0;34m=\u001b[0m \u001b[0;36m64\u001b[0m\u001b[0;34m)\u001b[0m\u001b[0;34m\u001b[0m\u001b[0;34m\u001b[0m\u001b[0m\n\u001b[0m",
      "\u001b[0;32m~/.local/lib/python3.8/site-packages/keras/utils/traceback_utils.py\u001b[0m in \u001b[0;36merror_handler\u001b[0;34m(*args, **kwargs)\u001b[0m\n\u001b[1;32m     65\u001b[0m     \u001b[0;32mexcept\u001b[0m \u001b[0mException\u001b[0m \u001b[0;32mas\u001b[0m \u001b[0me\u001b[0m\u001b[0;34m:\u001b[0m  \u001b[0;31m# pylint: disable=broad-except\u001b[0m\u001b[0;34m\u001b[0m\u001b[0;34m\u001b[0m\u001b[0m\n\u001b[1;32m     66\u001b[0m       \u001b[0mfiltered_tb\u001b[0m \u001b[0;34m=\u001b[0m \u001b[0m_process_traceback_frames\u001b[0m\u001b[0;34m(\u001b[0m\u001b[0me\u001b[0m\u001b[0;34m.\u001b[0m\u001b[0m__traceback__\u001b[0m\u001b[0;34m)\u001b[0m\u001b[0;34m\u001b[0m\u001b[0;34m\u001b[0m\u001b[0m\n\u001b[0;32m---> 67\u001b[0;31m       \u001b[0;32mraise\u001b[0m \u001b[0me\u001b[0m\u001b[0;34m.\u001b[0m\u001b[0mwith_traceback\u001b[0m\u001b[0;34m(\u001b[0m\u001b[0mfiltered_tb\u001b[0m\u001b[0;34m)\u001b[0m \u001b[0;32mfrom\u001b[0m \u001b[0;32mNone\u001b[0m\u001b[0;34m\u001b[0m\u001b[0;34m\u001b[0m\u001b[0m\n\u001b[0m\u001b[1;32m     68\u001b[0m     \u001b[0;32mfinally\u001b[0m\u001b[0;34m:\u001b[0m\u001b[0;34m\u001b[0m\u001b[0;34m\u001b[0m\u001b[0m\n\u001b[1;32m     69\u001b[0m       \u001b[0;32mdel\u001b[0m \u001b[0mfiltered_tb\u001b[0m\u001b[0;34m\u001b[0m\u001b[0;34m\u001b[0m\u001b[0m\n",
      "\u001b[0;32m~/.local/lib/python3.8/site-packages/tensorflow/python/eager/execute.py\u001b[0m in \u001b[0;36mquick_execute\u001b[0;34m(op_name, num_outputs, inputs, attrs, ctx, name)\u001b[0m\n\u001b[1;32m     52\u001b[0m   \u001b[0;32mtry\u001b[0m\u001b[0;34m:\u001b[0m\u001b[0;34m\u001b[0m\u001b[0;34m\u001b[0m\u001b[0m\n\u001b[1;32m     53\u001b[0m     \u001b[0mctx\u001b[0m\u001b[0;34m.\u001b[0m\u001b[0mensure_initialized\u001b[0m\u001b[0;34m(\u001b[0m\u001b[0;34m)\u001b[0m\u001b[0;34m\u001b[0m\u001b[0;34m\u001b[0m\u001b[0m\n\u001b[0;32m---> 54\u001b[0;31m     tensors = pywrap_tfe.TFE_Py_Execute(ctx._handle, device_name, op_name,\n\u001b[0m\u001b[1;32m     55\u001b[0m                                         inputs, attrs, num_outputs)\n\u001b[1;32m     56\u001b[0m   \u001b[0;32mexcept\u001b[0m \u001b[0mcore\u001b[0m\u001b[0;34m.\u001b[0m\u001b[0m_NotOkStatusException\u001b[0m \u001b[0;32mas\u001b[0m \u001b[0me\u001b[0m\u001b[0;34m:\u001b[0m\u001b[0;34m\u001b[0m\u001b[0;34m\u001b[0m\u001b[0m\n",
      "\u001b[0;31mInvalidArgumentError\u001b[0m: Graph execution error:\n\nDetected at node 'sparse_categorical_crossentropy/SparseSoftmaxCrossEntropyWithLogits/SparseSoftmaxCrossEntropyWithLogits' defined at (most recent call last):\n    File \"/apps/software/standard/compiler/gcc/9.2.0/jupyter_conda/2020.11-py3.8/lib/python3.8/runpy.py\", line 194, in _run_module_as_main\n      return _run_code(code, main_globals, None,\n    File \"/apps/software/standard/compiler/gcc/9.2.0/jupyter_conda/2020.11-py3.8/lib/python3.8/runpy.py\", line 87, in _run_code\n      exec(code, run_globals)\n    File \"/apps/software/standard/compiler/gcc/9.2.0/jupyter_conda/2020.11-py3.8/lib/python3.8/site-packages/ipykernel_launcher.py\", line 16, in <module>\n      app.launch_new_instance()\n    File \"/apps/software/standard/compiler/gcc/9.2.0/jupyter_conda/2020.11-py3.8/lib/python3.8/site-packages/traitlets/config/application.py\", line 845, in launch_instance\n      app.start()\n    File \"/apps/software/standard/compiler/gcc/9.2.0/jupyter_conda/2020.11-py3.8/lib/python3.8/site-packages/ipykernel/kernelapp.py\", line 612, in start\n      self.io_loop.start()\n    File \"/apps/software/standard/compiler/gcc/9.2.0/jupyter_conda/2020.11-py3.8/lib/python3.8/site-packages/tornado/platform/asyncio.py\", line 149, in start\n      self.asyncio_loop.run_forever()\n    File \"/apps/software/standard/compiler/gcc/9.2.0/jupyter_conda/2020.11-py3.8/lib/python3.8/asyncio/base_events.py\", line 570, in run_forever\n      self._run_once()\n    File \"/apps/software/standard/compiler/gcc/9.2.0/jupyter_conda/2020.11-py3.8/lib/python3.8/asyncio/base_events.py\", line 1859, in _run_once\n      handle._run()\n    File \"/apps/software/standard/compiler/gcc/9.2.0/jupyter_conda/2020.11-py3.8/lib/python3.8/asyncio/events.py\", line 81, in _run\n      self._context.run(self._callback, *self._args)\n    File \"/apps/software/standard/compiler/gcc/9.2.0/jupyter_conda/2020.11-py3.8/lib/python3.8/site-packages/tornado/ioloop.py\", line 690, in <lambda>\n      lambda f: self._run_callback(functools.partial(callback, future))\n    File \"/apps/software/standard/compiler/gcc/9.2.0/jupyter_conda/2020.11-py3.8/lib/python3.8/site-packages/tornado/ioloop.py\", line 743, in _run_callback\n      ret = callback()\n    File \"/apps/software/standard/compiler/gcc/9.2.0/jupyter_conda/2020.11-py3.8/lib/python3.8/site-packages/tornado/gen.py\", line 787, in inner\n      self.run()\n    File \"/apps/software/standard/compiler/gcc/9.2.0/jupyter_conda/2020.11-py3.8/lib/python3.8/site-packages/tornado/gen.py\", line 748, in run\n      yielded = self.gen.send(value)\n    File \"/apps/software/standard/compiler/gcc/9.2.0/jupyter_conda/2020.11-py3.8/lib/python3.8/site-packages/ipykernel/kernelbase.py\", line 365, in process_one\n      yield gen.maybe_future(dispatch(*args))\n    File \"/apps/software/standard/compiler/gcc/9.2.0/jupyter_conda/2020.11-py3.8/lib/python3.8/site-packages/tornado/gen.py\", line 209, in wrapper\n      yielded = next(result)\n    File \"/apps/software/standard/compiler/gcc/9.2.0/jupyter_conda/2020.11-py3.8/lib/python3.8/site-packages/ipykernel/kernelbase.py\", line 268, in dispatch_shell\n      yield gen.maybe_future(handler(stream, idents, msg))\n    File \"/apps/software/standard/compiler/gcc/9.2.0/jupyter_conda/2020.11-py3.8/lib/python3.8/site-packages/tornado/gen.py\", line 209, in wrapper\n      yielded = next(result)\n    File \"/apps/software/standard/compiler/gcc/9.2.0/jupyter_conda/2020.11-py3.8/lib/python3.8/site-packages/ipykernel/kernelbase.py\", line 543, in execute_request\n      self.do_execute(\n    File \"/apps/software/standard/compiler/gcc/9.2.0/jupyter_conda/2020.11-py3.8/lib/python3.8/site-packages/tornado/gen.py\", line 209, in wrapper\n      yielded = next(result)\n    File \"/apps/software/standard/compiler/gcc/9.2.0/jupyter_conda/2020.11-py3.8/lib/python3.8/site-packages/ipykernel/ipkernel.py\", line 306, in do_execute\n      res = shell.run_cell(code, store_history=store_history, silent=silent)\n    File \"/apps/software/standard/compiler/gcc/9.2.0/jupyter_conda/2020.11-py3.8/lib/python3.8/site-packages/ipykernel/zmqshell.py\", line 536, in run_cell\n      return super(ZMQInteractiveShell, self).run_cell(*args, **kwargs)\n    File \"/apps/software/standard/compiler/gcc/9.2.0/jupyter_conda/2020.11-py3.8/lib/python3.8/site-packages/IPython/core/interactiveshell.py\", line 2877, in run_cell\n      result = self._run_cell(\n    File \"/apps/software/standard/compiler/gcc/9.2.0/jupyter_conda/2020.11-py3.8/lib/python3.8/site-packages/IPython/core/interactiveshell.py\", line 2923, in _run_cell\n      return runner(coro)\n    File \"/apps/software/standard/compiler/gcc/9.2.0/jupyter_conda/2020.11-py3.8/lib/python3.8/site-packages/IPython/core/async_helpers.py\", line 68, in _pseudo_sync_runner\n      coro.send(None)\n    File \"/apps/software/standard/compiler/gcc/9.2.0/jupyter_conda/2020.11-py3.8/lib/python3.8/site-packages/IPython/core/interactiveshell.py\", line 3146, in run_cell_async\n      has_raised = await self.run_ast_nodes(code_ast.body, cell_name,\n    File \"/apps/software/standard/compiler/gcc/9.2.0/jupyter_conda/2020.11-py3.8/lib/python3.8/site-packages/IPython/core/interactiveshell.py\", line 3338, in run_ast_nodes\n      if (await self.run_code(code, result,  async_=asy)):\n    File \"/apps/software/standard/compiler/gcc/9.2.0/jupyter_conda/2020.11-py3.8/lib/python3.8/site-packages/IPython/core/interactiveshell.py\", line 3418, in run_code\n      exec(code_obj, self.user_global_ns, self.user_ns)\n    File \"<ipython-input-90-ad7f7effb416>\", line 1, in <module>\n      model.fit(padded, ytrain, validation_data=(paddedtest, ytest), epochs=100, batch_size = 64)\n    File \"/home/jzd6af/.local/lib/python3.8/site-packages/keras/utils/traceback_utils.py\", line 64, in error_handler\n      return fn(*args, **kwargs)\n    File \"/home/jzd6af/.local/lib/python3.8/site-packages/keras/engine/training.py\", line 1384, in fit\n      tmp_logs = self.train_function(iterator)\n    File \"/home/jzd6af/.local/lib/python3.8/site-packages/keras/engine/training.py\", line 1021, in train_function\n      return step_function(self, iterator)\n    File \"/home/jzd6af/.local/lib/python3.8/site-packages/keras/engine/training.py\", line 1010, in step_function\n      outputs = model.distribute_strategy.run(run_step, args=(data,))\n    File \"/home/jzd6af/.local/lib/python3.8/site-packages/keras/engine/training.py\", line 1000, in run_step\n      outputs = model.train_step(data)\n    File \"/home/jzd6af/.local/lib/python3.8/site-packages/keras/engine/training.py\", line 860, in train_step\n      loss = self.compute_loss(x, y, y_pred, sample_weight)\n    File \"/home/jzd6af/.local/lib/python3.8/site-packages/keras/engine/training.py\", line 918, in compute_loss\n      return self.compiled_loss(\n    File \"/home/jzd6af/.local/lib/python3.8/site-packages/keras/engine/compile_utils.py\", line 201, in __call__\n      loss_value = loss_obj(y_t, y_p, sample_weight=sw)\n    File \"/home/jzd6af/.local/lib/python3.8/site-packages/keras/losses.py\", line 141, in __call__\n      losses = call_fn(y_true, y_pred)\n    File \"/home/jzd6af/.local/lib/python3.8/site-packages/keras/losses.py\", line 245, in call\n      return ag_fn(y_true, y_pred, **self._fn_kwargs)\n    File \"/home/jzd6af/.local/lib/python3.8/site-packages/keras/losses.py\", line 1862, in sparse_categorical_crossentropy\n      return backend.sparse_categorical_crossentropy(\n    File \"/home/jzd6af/.local/lib/python3.8/site-packages/keras/backend.py\", line 5202, in sparse_categorical_crossentropy\n      res = tf.nn.sparse_softmax_cross_entropy_with_logits(\nNode: 'sparse_categorical_crossentropy/SparseSoftmaxCrossEntropyWithLogits/SparseSoftmaxCrossEntropyWithLogits'\nReceived a label value of 19 which is outside the valid range of [0, 19).  Label values: 18 13 5 10 17 5 0 4 8 5 5 12 1 0 3 9 3 5 10 18 6 5 9 5 0 10 13 9 8 11 5 10 8 10 0 1 19 5 3 10 0 16 3 8 2 4 5 5 6 5 5 0 16 0 3 10 11 9 1 13 9 6 2 12\n\t [[{{node sparse_categorical_crossentropy/SparseSoftmaxCrossEntropyWithLogits/SparseSoftmaxCrossEntropyWithLogits}}]] [Op:__inference_train_function_50556]"
     ]
    }
   ],
   "source": [
    "model.fit(padded, ytrain, validation_data=(paddedtest, ytest), epochs=100, batch_size = 64)\n"
   ]
  },
  {
   "cell_type": "code",
   "execution_count": 198,
   "metadata": {
    "collapsed": true,
    "jupyter": {
     "outputs_hidden": true,
     "source_hidden": true
    }
   },
   "outputs": [
    {
     "name": "stdout",
     "output_type": "stream",
     "text": [
      "Epoch 1/100\n",
      "61/61 [==============================] - 3s 56ms/step - loss: 1.2784 - accuracy: 0.5844 - val_loss: 1.7574 - val_accuracy: 0.4964\n",
      "Epoch 2/100\n",
      "61/61 [==============================] - 3s 56ms/step - loss: 1.2457 - accuracy: 0.5942 - val_loss: 1.8897 - val_accuracy: 0.5072\n",
      "Epoch 3/100\n",
      "61/61 [==============================] - 3s 56ms/step - loss: 1.2404 - accuracy: 0.5937 - val_loss: 1.8630 - val_accuracy: 0.5109\n",
      "Epoch 4/100\n",
      "61/61 [==============================] - 3s 57ms/step - loss: 1.2265 - accuracy: 0.6035 - val_loss: 1.7694 - val_accuracy: 0.5060\n",
      "Epoch 5/100\n",
      "61/61 [==============================] - 3s 56ms/step - loss: 1.2094 - accuracy: 0.5989 - val_loss: 1.8367 - val_accuracy: 0.5133\n",
      "Epoch 6/100\n",
      "61/61 [==============================] - 3s 56ms/step - loss: 1.1796 - accuracy: 0.6035 - val_loss: 2.0629 - val_accuracy: 0.3998\n",
      "Epoch 7/100\n",
      "61/61 [==============================] - 3s 56ms/step - loss: 1.2013 - accuracy: 0.6071 - val_loss: 1.8257 - val_accuracy: 0.5109\n",
      "Epoch 8/100\n",
      "61/61 [==============================] - 3s 56ms/step - loss: 1.1526 - accuracy: 0.6185 - val_loss: 1.8691 - val_accuracy: 0.5254\n",
      "Epoch 9/100\n",
      "61/61 [==============================] - 3s 55ms/step - loss: 1.1574 - accuracy: 0.6123 - val_loss: 1.8108 - val_accuracy: 0.5036\n",
      "Epoch 10/100\n",
      "61/61 [==============================] - 3s 56ms/step - loss: 1.1529 - accuracy: 0.6263 - val_loss: 1.8755 - val_accuracy: 0.5109\n",
      "Epoch 11/100\n",
      "61/61 [==============================] - 3s 56ms/step - loss: 1.1092 - accuracy: 0.6310 - val_loss: 1.8763 - val_accuracy: 0.5217\n",
      "Epoch 12/100\n",
      "61/61 [==============================] - 3s 56ms/step - loss: 1.1256 - accuracy: 0.6284 - val_loss: 2.0322 - val_accuracy: 0.5145\n",
      "Epoch 13/100\n",
      "61/61 [==============================] - 3s 56ms/step - loss: 1.1215 - accuracy: 0.6413 - val_loss: 1.9290 - val_accuracy: 0.5205\n",
      "Epoch 14/100\n",
      "61/61 [==============================] - 3s 56ms/step - loss: 1.0654 - accuracy: 0.6372 - val_loss: 1.9509 - val_accuracy: 0.5072\n",
      "Epoch 15/100\n",
      "61/61 [==============================] - 3s 56ms/step - loss: 1.0581 - accuracy: 0.6449 - val_loss: 1.9835 - val_accuracy: 0.5169\n",
      "Epoch 16/100\n",
      "61/61 [==============================] - 3s 56ms/step - loss: 1.0589 - accuracy: 0.6527 - val_loss: 1.9572 - val_accuracy: 0.5181\n",
      "Epoch 17/100\n",
      "61/61 [==============================] - 3s 56ms/step - loss: 1.0569 - accuracy: 0.6563 - val_loss: 1.9781 - val_accuracy: 0.5254\n",
      "Epoch 18/100\n",
      "61/61 [==============================] - 3s 56ms/step - loss: 1.0661 - accuracy: 0.6449 - val_loss: 1.9489 - val_accuracy: 0.5133\n",
      "Epoch 19/100\n",
      "61/61 [==============================] - 3s 56ms/step - loss: 1.0308 - accuracy: 0.6429 - val_loss: 1.9786 - val_accuracy: 0.5217\n",
      "Epoch 20/100\n",
      "61/61 [==============================] - 3s 56ms/step - loss: 1.0227 - accuracy: 0.6630 - val_loss: 1.8873 - val_accuracy: 0.5278\n",
      "Epoch 21/100\n",
      "61/61 [==============================] - 3s 55ms/step - loss: 1.0157 - accuracy: 0.6511 - val_loss: 2.0042 - val_accuracy: 0.4964\n",
      "Epoch 22/100\n",
      "61/61 [==============================] - 3s 57ms/step - loss: 0.9873 - accuracy: 0.6713 - val_loss: 2.1186 - val_accuracy: 0.5350\n",
      "Epoch 23/100\n",
      "61/61 [==============================] - 3s 55ms/step - loss: 0.9612 - accuracy: 0.6770 - val_loss: 1.9654 - val_accuracy: 0.4915\n",
      "Epoch 24/100\n",
      "61/61 [==============================] - 3s 56ms/step - loss: 0.9762 - accuracy: 0.6755 - val_loss: 2.0648 - val_accuracy: 0.5290\n",
      "Epoch 25/100\n",
      "61/61 [==============================] - 3s 56ms/step - loss: 0.9915 - accuracy: 0.6713 - val_loss: 2.3275 - val_accuracy: 0.4891\n",
      "Epoch 26/100\n",
      "61/61 [==============================] - 3s 56ms/step - loss: 0.9297 - accuracy: 0.6817 - val_loss: 2.1610 - val_accuracy: 0.5072\n",
      "Epoch 27/100\n",
      "61/61 [==============================] - 3s 55ms/step - loss: 0.9424 - accuracy: 0.6744 - val_loss: 2.1035 - val_accuracy: 0.5181\n",
      "Epoch 28/100\n",
      "61/61 [==============================] - 3s 56ms/step - loss: 0.9515 - accuracy: 0.6724 - val_loss: 2.0163 - val_accuracy: 0.5109\n",
      "Epoch 29/100\n",
      "61/61 [==============================] - 3s 56ms/step - loss: 0.9469 - accuracy: 0.6749 - val_loss: 2.0647 - val_accuracy: 0.5374\n",
      "Epoch 30/100\n",
      "61/61 [==============================] - 3s 56ms/step - loss: 0.9365 - accuracy: 0.6869 - val_loss: 2.2604 - val_accuracy: 0.5048\n",
      "Epoch 31/100\n",
      "61/61 [==============================] - 3s 56ms/step - loss: 0.9597 - accuracy: 0.6848 - val_loss: 2.1316 - val_accuracy: 0.4879\n",
      "Epoch 32/100\n",
      "61/61 [==============================] - 3s 56ms/step - loss: 0.9028 - accuracy: 0.6832 - val_loss: 2.1520 - val_accuracy: 0.5217\n",
      "Epoch 33/100\n",
      "61/61 [==============================] - 3s 56ms/step - loss: 0.8621 - accuracy: 0.6962 - val_loss: 2.2660 - val_accuracy: 0.5314\n",
      "Epoch 34/100\n",
      "61/61 [==============================] - 3s 55ms/step - loss: 0.8855 - accuracy: 0.6920 - val_loss: 2.0611 - val_accuracy: 0.5121\n",
      "Epoch 35/100\n",
      "61/61 [==============================] - 3s 55ms/step - loss: 0.8844 - accuracy: 0.6915 - val_loss: 2.2029 - val_accuracy: 0.5085\n",
      "Epoch 36/100\n",
      "61/61 [==============================] - 3s 55ms/step - loss: 0.8578 - accuracy: 0.6977 - val_loss: 2.1734 - val_accuracy: 0.5229\n",
      "Epoch 37/100\n",
      "61/61 [==============================] - 3s 55ms/step - loss: 0.8387 - accuracy: 0.7008 - val_loss: 2.2852 - val_accuracy: 0.5254\n",
      "Epoch 38/100\n",
      "61/61 [==============================] - 3s 55ms/step - loss: 0.8444 - accuracy: 0.7091 - val_loss: 2.2293 - val_accuracy: 0.5193\n",
      "Epoch 39/100\n",
      "61/61 [==============================] - 3s 55ms/step - loss: 0.8455 - accuracy: 0.7008 - val_loss: 2.2512 - val_accuracy: 0.5036\n",
      "Epoch 40/100\n",
      "61/61 [==============================] - 3s 56ms/step - loss: 0.8886 - accuracy: 0.7029 - val_loss: 2.2100 - val_accuracy: 0.5205\n",
      "Epoch 41/100\n",
      "61/61 [==============================] - 3s 55ms/step - loss: 0.8362 - accuracy: 0.7122 - val_loss: 2.1289 - val_accuracy: 0.5097\n",
      "Epoch 42/100\n",
      "61/61 [==============================] - 3s 56ms/step - loss: 0.8160 - accuracy: 0.7122 - val_loss: 2.3446 - val_accuracy: 0.5254\n",
      "Epoch 43/100\n",
      "61/61 [==============================] - 3s 56ms/step - loss: 0.8296 - accuracy: 0.7091 - val_loss: 2.1915 - val_accuracy: 0.5338\n",
      "Epoch 44/100\n",
      "61/61 [==============================] - 3s 55ms/step - loss: 0.8256 - accuracy: 0.7060 - val_loss: 2.2858 - val_accuracy: 0.5350\n",
      "Epoch 45/100\n",
      "61/61 [==============================] - 3s 55ms/step - loss: 0.8116 - accuracy: 0.7164 - val_loss: 2.1918 - val_accuracy: 0.5266\n",
      "Epoch 46/100\n",
      "61/61 [==============================] - 3s 55ms/step - loss: 0.7862 - accuracy: 0.7195 - val_loss: 2.3047 - val_accuracy: 0.5399\n",
      "Epoch 47/100\n",
      "61/61 [==============================] - 3s 56ms/step - loss: 0.7909 - accuracy: 0.7236 - val_loss: 2.3242 - val_accuracy: 0.5145\n",
      "Epoch 48/100\n",
      "61/61 [==============================] - 3s 56ms/step - loss: 0.7761 - accuracy: 0.7350 - val_loss: 2.2756 - val_accuracy: 0.5024\n",
      "Epoch 49/100\n",
      "61/61 [==============================] - 3s 55ms/step - loss: 0.7540 - accuracy: 0.7396 - val_loss: 2.4233 - val_accuracy: 0.5338\n",
      "Epoch 50/100\n",
      "61/61 [==============================] - 3s 55ms/step - loss: 0.7312 - accuracy: 0.7376 - val_loss: 2.3827 - val_accuracy: 0.5326\n",
      "Epoch 51/100\n",
      "61/61 [==============================] - 3s 55ms/step - loss: 0.7493 - accuracy: 0.7402 - val_loss: 2.2171 - val_accuracy: 0.5242\n",
      "Epoch 52/100\n",
      "61/61 [==============================] - 3s 55ms/step - loss: 0.7452 - accuracy: 0.7448 - val_loss: 2.5775 - val_accuracy: 0.5085\n",
      "Epoch 53/100\n",
      "61/61 [==============================] - 3s 56ms/step - loss: 0.7500 - accuracy: 0.7417 - val_loss: 2.2388 - val_accuracy: 0.5386\n",
      "Epoch 54/100\n",
      "61/61 [==============================] - 3s 56ms/step - loss: 0.7109 - accuracy: 0.7443 - val_loss: 2.4954 - val_accuracy: 0.5145\n",
      "Epoch 55/100\n",
      "61/61 [==============================] - 3s 55ms/step - loss: 0.7347 - accuracy: 0.7407 - val_loss: 2.5598 - val_accuracy: 0.5338\n",
      "Epoch 56/100\n",
      "61/61 [==============================] - 3s 56ms/step - loss: 0.7297 - accuracy: 0.7459 - val_loss: 2.5323 - val_accuracy: 0.5435\n",
      "Epoch 57/100\n",
      "61/61 [==============================] - 3s 56ms/step - loss: 0.6978 - accuracy: 0.7609 - val_loss: 2.6251 - val_accuracy: 0.5205\n",
      "Epoch 58/100\n",
      "61/61 [==============================] - 3s 56ms/step - loss: 0.6960 - accuracy: 0.7531 - val_loss: 2.5936 - val_accuracy: 0.5435\n",
      "Epoch 59/100\n",
      "61/61 [==============================] - 3s 57ms/step - loss: 0.6847 - accuracy: 0.7614 - val_loss: 2.4615 - val_accuracy: 0.5338\n",
      "Epoch 60/100\n",
      "61/61 [==============================] - 3s 55ms/step - loss: 0.6648 - accuracy: 0.7697 - val_loss: 2.4331 - val_accuracy: 0.5133\n",
      "Epoch 61/100\n",
      "61/61 [==============================] - 3s 55ms/step - loss: 0.6939 - accuracy: 0.7541 - val_loss: 2.5501 - val_accuracy: 0.5326\n",
      "Epoch 62/100\n",
      "61/61 [==============================] - 3s 56ms/step - loss: 0.7023 - accuracy: 0.7583 - val_loss: 2.6862 - val_accuracy: 0.5205\n",
      "Epoch 63/100\n",
      "61/61 [==============================] - 3s 55ms/step - loss: 0.6686 - accuracy: 0.7697 - val_loss: 2.4433 - val_accuracy: 0.5229\n",
      "Epoch 64/100\n",
      "61/61 [==============================] - 3s 56ms/step - loss: 0.6924 - accuracy: 0.7557 - val_loss: 2.4473 - val_accuracy: 0.5326\n",
      "Epoch 65/100\n",
      "61/61 [==============================] - 3s 55ms/step - loss: 0.6847 - accuracy: 0.7635 - val_loss: 2.3938 - val_accuracy: 0.5447\n",
      "Epoch 66/100\n",
      "61/61 [==============================] - 3s 56ms/step - loss: 0.6777 - accuracy: 0.7697 - val_loss: 2.3531 - val_accuracy: 0.5193\n",
      "Epoch 67/100\n",
      "61/61 [==============================] - 3s 55ms/step - loss: 0.6504 - accuracy: 0.7785 - val_loss: 2.6729 - val_accuracy: 0.5217\n",
      "Epoch 68/100\n",
      "61/61 [==============================] - 3s 56ms/step - loss: 0.6452 - accuracy: 0.7852 - val_loss: 2.6209 - val_accuracy: 0.5072\n",
      "Epoch 69/100\n",
      "61/61 [==============================] - 3s 56ms/step - loss: 0.6348 - accuracy: 0.7852 - val_loss: 2.5896 - val_accuracy: 0.5302\n",
      "Epoch 70/100\n",
      "61/61 [==============================] - 3s 55ms/step - loss: 0.6170 - accuracy: 0.7888 - val_loss: 2.5461 - val_accuracy: 0.5157\n",
      "Epoch 71/100\n",
      "61/61 [==============================] - 3s 56ms/step - loss: 0.6082 - accuracy: 0.7873 - val_loss: 2.7019 - val_accuracy: 0.5411\n",
      "Epoch 72/100\n",
      "61/61 [==============================] - 3s 56ms/step - loss: 0.6353 - accuracy: 0.7940 - val_loss: 2.5372 - val_accuracy: 0.5254\n",
      "Epoch 73/100\n",
      "61/61 [==============================] - 3s 55ms/step - loss: 0.6040 - accuracy: 0.7945 - val_loss: 2.5384 - val_accuracy: 0.5193\n",
      "Epoch 74/100\n",
      "61/61 [==============================] - 3s 55ms/step - loss: 0.5934 - accuracy: 0.7992 - val_loss: 2.6678 - val_accuracy: 0.5290\n",
      "Epoch 75/100\n",
      "61/61 [==============================] - 3s 56ms/step - loss: 0.6143 - accuracy: 0.7867 - val_loss: 2.6392 - val_accuracy: 0.5229\n",
      "Epoch 76/100\n",
      "61/61 [==============================] - 3s 56ms/step - loss: 0.6195 - accuracy: 0.7873 - val_loss: 2.8649 - val_accuracy: 0.5471\n",
      "Epoch 77/100\n",
      "61/61 [==============================] - 3s 57ms/step - loss: 0.6145 - accuracy: 0.7914 - val_loss: 2.7866 - val_accuracy: 0.5169\n",
      "Epoch 78/100\n",
      "61/61 [==============================] - 3s 55ms/step - loss: 0.6032 - accuracy: 0.7935 - val_loss: 2.7970 - val_accuracy: 0.5254\n",
      "Epoch 79/100\n",
      "61/61 [==============================] - 3s 55ms/step - loss: 0.5726 - accuracy: 0.7966 - val_loss: 2.6996 - val_accuracy: 0.5266\n",
      "Epoch 80/100\n",
      "61/61 [==============================] - 3s 56ms/step - loss: 0.5559 - accuracy: 0.8069 - val_loss: 2.8125 - val_accuracy: 0.5242\n",
      "Epoch 81/100\n",
      "61/61 [==============================] - 3s 55ms/step - loss: 0.5538 - accuracy: 0.8100 - val_loss: 2.7374 - val_accuracy: 0.5193\n",
      "Epoch 82/100\n",
      "61/61 [==============================] - 3s 56ms/step - loss: 0.5673 - accuracy: 0.8111 - val_loss: 2.8036 - val_accuracy: 0.5326\n",
      "Epoch 83/100\n",
      "61/61 [==============================] - 3s 56ms/step - loss: 0.5464 - accuracy: 0.8126 - val_loss: 2.9280 - val_accuracy: 0.5447\n",
      "Epoch 84/100\n",
      "61/61 [==============================] - 3s 55ms/step - loss: 0.5694 - accuracy: 0.8033 - val_loss: 3.0114 - val_accuracy: 0.5338\n",
      "Epoch 85/100\n",
      "61/61 [==============================] - 3s 56ms/step - loss: 0.5332 - accuracy: 0.8225 - val_loss: 2.6997 - val_accuracy: 0.5290\n",
      "Epoch 86/100\n",
      "61/61 [==============================] - 3s 55ms/step - loss: 0.5260 - accuracy: 0.8225 - val_loss: 3.0751 - val_accuracy: 0.5242\n",
      "Epoch 87/100\n",
      "61/61 [==============================] - 3s 55ms/step - loss: 0.5481 - accuracy: 0.8142 - val_loss: 2.9539 - val_accuracy: 0.5133\n",
      "Epoch 88/100\n",
      "61/61 [==============================] - 3s 55ms/step - loss: 0.5501 - accuracy: 0.8178 - val_loss: 2.7995 - val_accuracy: 0.5181\n",
      "Epoch 89/100\n",
      "61/61 [==============================] - 3s 55ms/step - loss: 0.5386 - accuracy: 0.8131 - val_loss: 2.5509 - val_accuracy: 0.5121\n",
      "Epoch 90/100\n",
      "61/61 [==============================] - 3s 55ms/step - loss: 0.5267 - accuracy: 0.8219 - val_loss: 2.7742 - val_accuracy: 0.5302\n",
      "Epoch 91/100\n",
      "61/61 [==============================] - 3s 55ms/step - loss: 0.5257 - accuracy: 0.8307 - val_loss: 2.9228 - val_accuracy: 0.5302\n",
      "Epoch 92/100\n",
      "61/61 [==============================] - 3s 55ms/step - loss: 0.5350 - accuracy: 0.8137 - val_loss: 2.8183 - val_accuracy: 0.5205\n",
      "Epoch 93/100\n",
      "61/61 [==============================] - 3s 55ms/step - loss: 0.5475 - accuracy: 0.8204 - val_loss: 2.7037 - val_accuracy: 0.5290\n",
      "Epoch 94/100\n",
      "61/61 [==============================] - 3s 55ms/step - loss: 0.5125 - accuracy: 0.8328 - val_loss: 3.0115 - val_accuracy: 0.5386\n",
      "Epoch 95/100\n",
      "61/61 [==============================] - 3s 57ms/step - loss: 0.5120 - accuracy: 0.8183 - val_loss: 2.8394 - val_accuracy: 0.5085\n",
      "Epoch 96/100\n",
      "61/61 [==============================] - 3s 55ms/step - loss: 0.5065 - accuracy: 0.8292 - val_loss: 2.8374 - val_accuracy: 0.5229\n",
      "Epoch 97/100\n",
      "61/61 [==============================] - 3s 55ms/step - loss: 0.4772 - accuracy: 0.8271 - val_loss: 3.1375 - val_accuracy: 0.5181\n",
      "Epoch 98/100\n",
      "61/61 [==============================] - 3s 56ms/step - loss: 0.5131 - accuracy: 0.8328 - val_loss: 3.0833 - val_accuracy: 0.5205\n",
      "Epoch 99/100\n",
      "61/61 [==============================] - 3s 55ms/step - loss: 0.5097 - accuracy: 0.8282 - val_loss: 2.8459 - val_accuracy: 0.5121\n",
      "Epoch 100/100\n",
      "61/61 [==============================] - 3s 56ms/step - loss: 0.5044 - accuracy: 0.8318 - val_loss: 2.8745 - val_accuracy: 0.5350\n"
     ]
    },
    {
     "data": {
      "text/plain": [
       "<keras.callbacks.History at 0x7f41887d32b0>"
      ]
     },
     "execution_count": 198,
     "metadata": {},
     "output_type": "execute_result"
    }
   ],
   "source": [
    "model.fit(padded, ytrain, validation_data=(paddedtest, ytest), epochs=100, batch_size = 32)\n"
   ]
  },
  {
   "cell_type": "code",
   "execution_count": 96,
   "metadata": {},
   "outputs": [
    {
     "name": "stdout",
     "output_type": "stream",
     "text": [
      "Model: \"model_4\"\n",
      "_________________________________________________________________\n",
      " Layer (type)                Output Shape              Param #   \n",
      "=================================================================\n",
      " input_5 (InputLayer)        [(None, 880)]             0         \n",
      "                                                                 \n",
      " embedding_4 (Embedding)     (None, 880, 100)          915400    \n",
      "                                                                 \n",
      " dropout_56 (Dropout)        (None, 880, 100)          0         \n",
      "                                                                 \n",
      " gru_1 (GRU)                 (None, 32)                12864     \n",
      "                                                                 \n",
      " dropout_57 (Dropout)        (None, 32)                0         \n",
      "                                                                 \n",
      " dense_12 (Dense)            (None, 20)                660       \n",
      "                                                                 \n",
      "=================================================================\n",
      "Total params: 928,924\n",
      "Trainable params: 928,924\n",
      "Non-trainable params: 0\n",
      "_________________________________________________________________\n"
     ]
    }
   ],
   "source": [
    "from tensorflow import keras\n",
    "from keras.layers import GRU\n",
    "embedding_layer = Embedding(len(word_index) + 1, embeddingdim, embeddings_initializer = Constant(embedding_matrix),\n",
    "                           input_length=maxlength, trainable = True)\n",
    "sequence_input = Input(shape=(maxlength,), dtype='int32')\n",
    "embeddedsequences = embedding_layer(sequence_input)\n",
    "y = Dropout(0.3)(embeddedsequences)\n",
    "#conv1 = Conv1D(filters=64,\n",
    "#               kernel_size=5,\n",
    "#               strides=1,\n",
    "#               activation='softplus',\n",
    "#               padding='same')(embeddedsequences)\n",
    "lstm1 = GRU(32, return_sequences=False)(y)\n",
    "#lstm2 = GRU(32, return_sequences=True)(lstm1)\n",
    "#lstm3 = GRU(19)(lstm2)\n",
    "#x = Flatten()(lstm2)\n",
    "x = Dropout(.2)(lstm1)\n",
    "#x = Dense(25, activation = 'softplus')(lstm2)\n",
    "#x = Dropout(.2)(x)\n",
    "output_layer = Dense(20, activation='softmax')(x)\n",
    "\n",
    "optimizer = keras.optimizers.RMSprop(lr=.007, decay=.0008, centered=True)\n",
    "model = Model(sequence_input, output_layer)\n",
    "model.compile(loss='sparse_categorical_crossentropy', optimizer=optimizer, metrics = ['accuracy'])\n",
    "\n",
    "model.summary()"
   ]
  },
  {
   "cell_type": "code",
   "execution_count": 97,
   "metadata": {
    "collapsed": true,
    "jupyter": {
     "outputs_hidden": true
    }
   },
   "outputs": [
    {
     "name": "stdout",
     "output_type": "stream",
     "text": [
      "Epoch 1/100\n",
      "87/87 [==============================] - 27s 290ms/step - loss: 2.6871 - accuracy: 0.2031 - val_loss: 2.5709 - val_accuracy: 0.2559\n",
      "Epoch 2/100\n",
      "87/87 [==============================] - 25s 285ms/step - loss: 2.2522 - accuracy: 0.3781 - val_loss: 2.0540 - val_accuracy: 0.3864\n",
      "Epoch 3/100\n",
      "87/87 [==============================] - 25s 283ms/step - loss: 1.9608 - accuracy: 0.4315 - val_loss: 1.9015 - val_accuracy: 0.4200\n",
      "Epoch 4/100\n",
      "87/87 [==============================] - 24s 276ms/step - loss: 1.7698 - accuracy: 0.4838 - val_loss: 1.8413 - val_accuracy: 0.4512\n",
      "Epoch 5/100\n",
      "87/87 [==============================] - 23s 270ms/step - loss: 1.6190 - accuracy: 0.5155 - val_loss: 1.7076 - val_accuracy: 0.5194\n",
      "Epoch 6/100\n",
      "87/87 [==============================] - 25s 283ms/step - loss: 1.5163 - accuracy: 0.5523 - val_loss: 1.6430 - val_accuracy: 0.5236\n",
      "Epoch 7/100\n",
      "87/87 [==============================] - 25s 285ms/step - loss: 1.4245 - accuracy: 0.5750 - val_loss: 1.6719 - val_accuracy: 0.5143\n",
      "Epoch 8/100\n",
      "87/87 [==============================] - 25s 285ms/step - loss: 1.3375 - accuracy: 0.5927 - val_loss: 1.6110 - val_accuracy: 0.5320\n",
      "Epoch 9/100\n",
      "87/87 [==============================] - 24s 279ms/step - loss: 1.2345 - accuracy: 0.6212 - val_loss: 1.5961 - val_accuracy: 0.5345\n",
      "Epoch 10/100\n",
      "87/87 [==============================] - 24s 276ms/step - loss: 1.1552 - accuracy: 0.6382 - val_loss: 1.6448 - val_accuracy: 0.5471\n",
      "Epoch 11/100\n",
      "87/87 [==============================] - 24s 274ms/step - loss: 1.0850 - accuracy: 0.6659 - val_loss: 1.6912 - val_accuracy: 0.5017\n",
      "Epoch 12/100\n",
      "87/87 [==============================] - 25s 284ms/step - loss: 1.0232 - accuracy: 0.6905 - val_loss: 1.6345 - val_accuracy: 0.5269\n",
      "Epoch 13/100\n",
      "87/87 [==============================] - 24s 275ms/step - loss: 0.9685 - accuracy: 0.7002 - val_loss: 1.6274 - val_accuracy: 0.5438\n",
      "Epoch 14/100\n",
      "87/87 [==============================] - 24s 282ms/step - loss: 0.9065 - accuracy: 0.7056 - val_loss: 1.6220 - val_accuracy: 0.5362\n",
      "Epoch 15/100\n",
      "87/87 [==============================] - 24s 281ms/step - loss: 0.8776 - accuracy: 0.7215 - val_loss: 1.6681 - val_accuracy: 0.5253\n",
      "Epoch 16/100\n",
      "87/87 [==============================] - 25s 282ms/step - loss: 0.8205 - accuracy: 0.7468 - val_loss: 1.7560 - val_accuracy: 0.5135\n",
      "Epoch 17/100\n",
      "87/87 [==============================] - 24s 281ms/step - loss: 0.7653 - accuracy: 0.7612 - val_loss: 1.7528 - val_accuracy: 0.5152\n",
      "Epoch 18/100\n",
      "87/87 [==============================] - 24s 281ms/step - loss: 0.7140 - accuracy: 0.7742 - val_loss: 1.8111 - val_accuracy: 0.5286\n",
      "Epoch 19/100\n",
      "87/87 [==============================] - 25s 285ms/step - loss: 0.6742 - accuracy: 0.7940 - val_loss: 1.8479 - val_accuracy: 0.5278\n",
      "Epoch 20/100\n",
      "60/87 [===================>..........] - ETA: 7s - loss: 0.6526 - accuracy: 0.7911"
     ]
    },
    {
     "ename": "KeyboardInterrupt",
     "evalue": "",
     "output_type": "error",
     "traceback": [
      "\u001b[0;31m---------------------------------------------------------------------------\u001b[0m",
      "\u001b[0;31mKeyboardInterrupt\u001b[0m                         Traceback (most recent call last)",
      "\u001b[0;32m<ipython-input-97-5ea1866fd44b>\u001b[0m in \u001b[0;36m<module>\u001b[0;34m\u001b[0m\n\u001b[0;32m----> 1\u001b[0;31m \u001b[0mmodel\u001b[0m\u001b[0;34m.\u001b[0m\u001b[0mfit\u001b[0m\u001b[0;34m(\u001b[0m\u001b[0mpadded\u001b[0m\u001b[0;34m,\u001b[0m \u001b[0mytrain\u001b[0m\u001b[0;34m,\u001b[0m \u001b[0mvalidation_data\u001b[0m\u001b[0;34m=\u001b[0m\u001b[0;34m(\u001b[0m\u001b[0mpaddedtest\u001b[0m\u001b[0;34m,\u001b[0m \u001b[0mytest\u001b[0m\u001b[0;34m)\u001b[0m\u001b[0;34m,\u001b[0m \u001b[0mepochs\u001b[0m\u001b[0;34m=\u001b[0m\u001b[0;36m100\u001b[0m\u001b[0;34m,\u001b[0m \u001b[0mbatch_size\u001b[0m \u001b[0;34m=\u001b[0m \u001b[0;36m32\u001b[0m\u001b[0;34m)\u001b[0m\u001b[0;34m\u001b[0m\u001b[0;34m\u001b[0m\u001b[0m\n\u001b[0m",
      "\u001b[0;32m~/.local/lib/python3.8/site-packages/keras/utils/traceback_utils.py\u001b[0m in \u001b[0;36merror_handler\u001b[0;34m(*args, **kwargs)\u001b[0m\n\u001b[1;32m     62\u001b[0m     \u001b[0mfiltered_tb\u001b[0m \u001b[0;34m=\u001b[0m \u001b[0;32mNone\u001b[0m\u001b[0;34m\u001b[0m\u001b[0;34m\u001b[0m\u001b[0m\n\u001b[1;32m     63\u001b[0m     \u001b[0;32mtry\u001b[0m\u001b[0;34m:\u001b[0m\u001b[0;34m\u001b[0m\u001b[0;34m\u001b[0m\u001b[0m\n\u001b[0;32m---> 64\u001b[0;31m       \u001b[0;32mreturn\u001b[0m \u001b[0mfn\u001b[0m\u001b[0;34m(\u001b[0m\u001b[0;34m*\u001b[0m\u001b[0margs\u001b[0m\u001b[0;34m,\u001b[0m \u001b[0;34m**\u001b[0m\u001b[0mkwargs\u001b[0m\u001b[0;34m)\u001b[0m\u001b[0;34m\u001b[0m\u001b[0;34m\u001b[0m\u001b[0m\n\u001b[0m\u001b[1;32m     65\u001b[0m     \u001b[0;32mexcept\u001b[0m \u001b[0mException\u001b[0m \u001b[0;32mas\u001b[0m \u001b[0me\u001b[0m\u001b[0;34m:\u001b[0m  \u001b[0;31m# pylint: disable=broad-except\u001b[0m\u001b[0;34m\u001b[0m\u001b[0;34m\u001b[0m\u001b[0m\n\u001b[1;32m     66\u001b[0m       \u001b[0mfiltered_tb\u001b[0m \u001b[0;34m=\u001b[0m \u001b[0m_process_traceback_frames\u001b[0m\u001b[0;34m(\u001b[0m\u001b[0me\u001b[0m\u001b[0;34m.\u001b[0m\u001b[0m__traceback__\u001b[0m\u001b[0;34m)\u001b[0m\u001b[0;34m\u001b[0m\u001b[0;34m\u001b[0m\u001b[0m\n",
      "\u001b[0;32m~/.local/lib/python3.8/site-packages/keras/engine/training.py\u001b[0m in \u001b[0;36mfit\u001b[0;34m(self, x, y, batch_size, epochs, verbose, callbacks, validation_split, validation_data, shuffle, class_weight, sample_weight, initial_epoch, steps_per_epoch, validation_steps, validation_batch_size, validation_freq, max_queue_size, workers, use_multiprocessing)\u001b[0m\n\u001b[1;32m   1382\u001b[0m                 _r=1):\n\u001b[1;32m   1383\u001b[0m               \u001b[0mcallbacks\u001b[0m\u001b[0;34m.\u001b[0m\u001b[0mon_train_batch_begin\u001b[0m\u001b[0;34m(\u001b[0m\u001b[0mstep\u001b[0m\u001b[0;34m)\u001b[0m\u001b[0;34m\u001b[0m\u001b[0;34m\u001b[0m\u001b[0m\n\u001b[0;32m-> 1384\u001b[0;31m               \u001b[0mtmp_logs\u001b[0m \u001b[0;34m=\u001b[0m \u001b[0mself\u001b[0m\u001b[0;34m.\u001b[0m\u001b[0mtrain_function\u001b[0m\u001b[0;34m(\u001b[0m\u001b[0miterator\u001b[0m\u001b[0;34m)\u001b[0m\u001b[0;34m\u001b[0m\u001b[0;34m\u001b[0m\u001b[0m\n\u001b[0m\u001b[1;32m   1385\u001b[0m               \u001b[0;32mif\u001b[0m \u001b[0mdata_handler\u001b[0m\u001b[0;34m.\u001b[0m\u001b[0mshould_sync\u001b[0m\u001b[0;34m:\u001b[0m\u001b[0;34m\u001b[0m\u001b[0;34m\u001b[0m\u001b[0m\n\u001b[1;32m   1386\u001b[0m                 \u001b[0mcontext\u001b[0m\u001b[0;34m.\u001b[0m\u001b[0masync_wait\u001b[0m\u001b[0;34m(\u001b[0m\u001b[0;34m)\u001b[0m\u001b[0;34m\u001b[0m\u001b[0;34m\u001b[0m\u001b[0m\n",
      "\u001b[0;32m~/.local/lib/python3.8/site-packages/tensorflow/python/util/traceback_utils.py\u001b[0m in \u001b[0;36merror_handler\u001b[0;34m(*args, **kwargs)\u001b[0m\n\u001b[1;32m    148\u001b[0m     \u001b[0mfiltered_tb\u001b[0m \u001b[0;34m=\u001b[0m \u001b[0;32mNone\u001b[0m\u001b[0;34m\u001b[0m\u001b[0;34m\u001b[0m\u001b[0m\n\u001b[1;32m    149\u001b[0m     \u001b[0;32mtry\u001b[0m\u001b[0;34m:\u001b[0m\u001b[0;34m\u001b[0m\u001b[0;34m\u001b[0m\u001b[0m\n\u001b[0;32m--> 150\u001b[0;31m       \u001b[0;32mreturn\u001b[0m \u001b[0mfn\u001b[0m\u001b[0;34m(\u001b[0m\u001b[0;34m*\u001b[0m\u001b[0margs\u001b[0m\u001b[0;34m,\u001b[0m \u001b[0;34m**\u001b[0m\u001b[0mkwargs\u001b[0m\u001b[0;34m)\u001b[0m\u001b[0;34m\u001b[0m\u001b[0;34m\u001b[0m\u001b[0m\n\u001b[0m\u001b[1;32m    151\u001b[0m     \u001b[0;32mexcept\u001b[0m \u001b[0mException\u001b[0m \u001b[0;32mas\u001b[0m \u001b[0me\u001b[0m\u001b[0;34m:\u001b[0m\u001b[0;34m\u001b[0m\u001b[0;34m\u001b[0m\u001b[0m\n\u001b[1;32m    152\u001b[0m       \u001b[0mfiltered_tb\u001b[0m \u001b[0;34m=\u001b[0m \u001b[0m_process_traceback_frames\u001b[0m\u001b[0;34m(\u001b[0m\u001b[0me\u001b[0m\u001b[0;34m.\u001b[0m\u001b[0m__traceback__\u001b[0m\u001b[0;34m)\u001b[0m\u001b[0;34m\u001b[0m\u001b[0;34m\u001b[0m\u001b[0m\n",
      "\u001b[0;32m~/.local/lib/python3.8/site-packages/tensorflow/python/eager/def_function.py\u001b[0m in \u001b[0;36m__call__\u001b[0;34m(self, *args, **kwds)\u001b[0m\n\u001b[1;32m    913\u001b[0m \u001b[0;34m\u001b[0m\u001b[0m\n\u001b[1;32m    914\u001b[0m       \u001b[0;32mwith\u001b[0m \u001b[0mOptionalXlaContext\u001b[0m\u001b[0;34m(\u001b[0m\u001b[0mself\u001b[0m\u001b[0;34m.\u001b[0m\u001b[0m_jit_compile\u001b[0m\u001b[0;34m)\u001b[0m\u001b[0;34m:\u001b[0m\u001b[0;34m\u001b[0m\u001b[0;34m\u001b[0m\u001b[0m\n\u001b[0;32m--> 915\u001b[0;31m         \u001b[0mresult\u001b[0m \u001b[0;34m=\u001b[0m \u001b[0mself\u001b[0m\u001b[0;34m.\u001b[0m\u001b[0m_call\u001b[0m\u001b[0;34m(\u001b[0m\u001b[0;34m*\u001b[0m\u001b[0margs\u001b[0m\u001b[0;34m,\u001b[0m \u001b[0;34m**\u001b[0m\u001b[0mkwds\u001b[0m\u001b[0;34m)\u001b[0m\u001b[0;34m\u001b[0m\u001b[0;34m\u001b[0m\u001b[0m\n\u001b[0m\u001b[1;32m    916\u001b[0m \u001b[0;34m\u001b[0m\u001b[0m\n\u001b[1;32m    917\u001b[0m       \u001b[0mnew_tracing_count\u001b[0m \u001b[0;34m=\u001b[0m \u001b[0mself\u001b[0m\u001b[0;34m.\u001b[0m\u001b[0mexperimental_get_tracing_count\u001b[0m\u001b[0;34m(\u001b[0m\u001b[0;34m)\u001b[0m\u001b[0;34m\u001b[0m\u001b[0;34m\u001b[0m\u001b[0m\n",
      "\u001b[0;32m~/.local/lib/python3.8/site-packages/tensorflow/python/eager/def_function.py\u001b[0m in \u001b[0;36m_call\u001b[0;34m(self, *args, **kwds)\u001b[0m\n\u001b[1;32m    945\u001b[0m       \u001b[0;31m# In this case we have created variables on the first call, so we run the\u001b[0m\u001b[0;34m\u001b[0m\u001b[0;34m\u001b[0m\u001b[0;34m\u001b[0m\u001b[0m\n\u001b[1;32m    946\u001b[0m       \u001b[0;31m# defunned version which is guaranteed to never create variables.\u001b[0m\u001b[0;34m\u001b[0m\u001b[0;34m\u001b[0m\u001b[0;34m\u001b[0m\u001b[0m\n\u001b[0;32m--> 947\u001b[0;31m       \u001b[0;32mreturn\u001b[0m \u001b[0mself\u001b[0m\u001b[0;34m.\u001b[0m\u001b[0m_stateless_fn\u001b[0m\u001b[0;34m(\u001b[0m\u001b[0;34m*\u001b[0m\u001b[0margs\u001b[0m\u001b[0;34m,\u001b[0m \u001b[0;34m**\u001b[0m\u001b[0mkwds\u001b[0m\u001b[0;34m)\u001b[0m  \u001b[0;31m# pylint: disable=not-callable\u001b[0m\u001b[0;34m\u001b[0m\u001b[0;34m\u001b[0m\u001b[0m\n\u001b[0m\u001b[1;32m    948\u001b[0m     \u001b[0;32melif\u001b[0m \u001b[0mself\u001b[0m\u001b[0;34m.\u001b[0m\u001b[0m_stateful_fn\u001b[0m \u001b[0;32mis\u001b[0m \u001b[0;32mnot\u001b[0m \u001b[0;32mNone\u001b[0m\u001b[0;34m:\u001b[0m\u001b[0;34m\u001b[0m\u001b[0;34m\u001b[0m\u001b[0m\n\u001b[1;32m    949\u001b[0m       \u001b[0;31m# Release the lock early so that multiple threads can perform the call\u001b[0m\u001b[0;34m\u001b[0m\u001b[0;34m\u001b[0m\u001b[0;34m\u001b[0m\u001b[0m\n",
      "\u001b[0;32m~/.local/lib/python3.8/site-packages/tensorflow/python/eager/function.py\u001b[0m in \u001b[0;36m__call__\u001b[0;34m(self, *args, **kwargs)\u001b[0m\n\u001b[1;32m   2954\u001b[0m       (graph_function,\n\u001b[1;32m   2955\u001b[0m        filtered_flat_args) = self._maybe_define_function(args, kwargs)\n\u001b[0;32m-> 2956\u001b[0;31m     return graph_function._call_flat(\n\u001b[0m\u001b[1;32m   2957\u001b[0m         filtered_flat_args, captured_inputs=graph_function.captured_inputs)  # pylint: disable=protected-access\n\u001b[1;32m   2958\u001b[0m \u001b[0;34m\u001b[0m\u001b[0m\n",
      "\u001b[0;32m~/.local/lib/python3.8/site-packages/tensorflow/python/eager/function.py\u001b[0m in \u001b[0;36m_call_flat\u001b[0;34m(self, args, captured_inputs, cancellation_manager)\u001b[0m\n\u001b[1;32m   1851\u001b[0m         and executing_eagerly):\n\u001b[1;32m   1852\u001b[0m       \u001b[0;31m# No tape is watching; skip to running the function.\u001b[0m\u001b[0;34m\u001b[0m\u001b[0;34m\u001b[0m\u001b[0;34m\u001b[0m\u001b[0m\n\u001b[0;32m-> 1853\u001b[0;31m       return self._build_call_outputs(self._inference_function.call(\n\u001b[0m\u001b[1;32m   1854\u001b[0m           ctx, args, cancellation_manager=cancellation_manager))\n\u001b[1;32m   1855\u001b[0m     forward_backward = self._select_forward_and_backward_functions(\n",
      "\u001b[0;32m~/.local/lib/python3.8/site-packages/tensorflow/python/eager/function.py\u001b[0m in \u001b[0;36mcall\u001b[0;34m(self, ctx, args, cancellation_manager)\u001b[0m\n\u001b[1;32m    497\u001b[0m       \u001b[0;32mwith\u001b[0m \u001b[0m_InterpolateFunctionError\u001b[0m\u001b[0;34m(\u001b[0m\u001b[0mself\u001b[0m\u001b[0;34m)\u001b[0m\u001b[0;34m:\u001b[0m\u001b[0;34m\u001b[0m\u001b[0;34m\u001b[0m\u001b[0m\n\u001b[1;32m    498\u001b[0m         \u001b[0;32mif\u001b[0m \u001b[0mcancellation_manager\u001b[0m \u001b[0;32mis\u001b[0m \u001b[0;32mNone\u001b[0m\u001b[0;34m:\u001b[0m\u001b[0;34m\u001b[0m\u001b[0;34m\u001b[0m\u001b[0m\n\u001b[0;32m--> 499\u001b[0;31m           outputs = execute.execute(\n\u001b[0m\u001b[1;32m    500\u001b[0m               \u001b[0mstr\u001b[0m\u001b[0;34m(\u001b[0m\u001b[0mself\u001b[0m\u001b[0;34m.\u001b[0m\u001b[0msignature\u001b[0m\u001b[0;34m.\u001b[0m\u001b[0mname\u001b[0m\u001b[0;34m)\u001b[0m\u001b[0;34m,\u001b[0m\u001b[0;34m\u001b[0m\u001b[0;34m\u001b[0m\u001b[0m\n\u001b[1;32m    501\u001b[0m               \u001b[0mnum_outputs\u001b[0m\u001b[0;34m=\u001b[0m\u001b[0mself\u001b[0m\u001b[0;34m.\u001b[0m\u001b[0m_num_outputs\u001b[0m\u001b[0;34m,\u001b[0m\u001b[0;34m\u001b[0m\u001b[0;34m\u001b[0m\u001b[0m\n",
      "\u001b[0;32m~/.local/lib/python3.8/site-packages/tensorflow/python/eager/execute.py\u001b[0m in \u001b[0;36mquick_execute\u001b[0;34m(op_name, num_outputs, inputs, attrs, ctx, name)\u001b[0m\n\u001b[1;32m     52\u001b[0m   \u001b[0;32mtry\u001b[0m\u001b[0;34m:\u001b[0m\u001b[0;34m\u001b[0m\u001b[0;34m\u001b[0m\u001b[0m\n\u001b[1;32m     53\u001b[0m     \u001b[0mctx\u001b[0m\u001b[0;34m.\u001b[0m\u001b[0mensure_initialized\u001b[0m\u001b[0;34m(\u001b[0m\u001b[0;34m)\u001b[0m\u001b[0;34m\u001b[0m\u001b[0;34m\u001b[0m\u001b[0m\n\u001b[0;32m---> 54\u001b[0;31m     tensors = pywrap_tfe.TFE_Py_Execute(ctx._handle, device_name, op_name,\n\u001b[0m\u001b[1;32m     55\u001b[0m                                         inputs, attrs, num_outputs)\n\u001b[1;32m     56\u001b[0m   \u001b[0;32mexcept\u001b[0m \u001b[0mcore\u001b[0m\u001b[0;34m.\u001b[0m\u001b[0m_NotOkStatusException\u001b[0m \u001b[0;32mas\u001b[0m \u001b[0me\u001b[0m\u001b[0;34m:\u001b[0m\u001b[0;34m\u001b[0m\u001b[0;34m\u001b[0m\u001b[0m\n",
      "\u001b[0;31mKeyboardInterrupt\u001b[0m: "
     ]
    }
   ],
   "source": [
    "model.fit(padded, ytrain, validation_data=(paddedtest, ytest), epochs=100, batch_size = 32)\n"
   ]
  },
  {
   "cell_type": "code",
   "execution_count": 71,
   "metadata": {
    "collapsed": true,
    "jupyter": {
     "outputs_hidden": true
    }
   },
   "outputs": [
    {
     "name": "stdout",
     "output_type": "stream",
     "text": [
      "Model: \"model_6\"\n",
      "_________________________________________________________________\n",
      " Layer (type)                Output Shape              Param #   \n",
      "=================================================================\n",
      " input_10 (InputLayer)       [(None, 880)]             0         \n",
      "                                                                 \n",
      " embedding_9 (Embedding)     (None, 880, 100)          925700    \n",
      "                                                                 \n",
      " dropout_18 (Dropout)        (None, 880, 100)          0         \n",
      "                                                                 \n",
      " gru_9 (GRU)                 (None, 64)                31872     \n",
      "                                                                 \n",
      " dropout_19 (Dropout)        (None, 64)                0         \n",
      "                                                                 \n",
      " dense_9 (Dense)             (None, 19)                1235      \n",
      "                                                                 \n",
      "=================================================================\n",
      "Total params: 958,807\n",
      "Trainable params: 958,807\n",
      "Non-trainable params: 0\n",
      "_________________________________________________________________\n"
     ]
    }
   ],
   "source": [
    "\n",
    "from tensorflow import keras\n",
    "from keras.layers import GRU\n",
    "embedding_layer = Embedding(len(word_index) + 1, embeddingdim, embeddings_initializer = Constant(embedding_matrix),\n",
    "                           input_length=maxlength, trainable = True)\n",
    "sequence_input = Input(shape=(maxlength,), dtype='int32')\n",
    "embeddedsequences = embedding_layer(sequence_input)\n",
    "y = Dropout(0.35)(embeddedsequences)\n",
    "#conv1 = Conv1D(filters=64,\n",
    "#               kernel_size=5,\n",
    "#               strides=1,\n",
    "#               activation='softplus',\n",
    "#               padding='same')(embeddedsequences)\n",
    "lstm1 = GRU(64, return_sequences=False)(y)\n",
    "#lstm2 = GRU(32, return_sequences=True)(lstm1)\n",
    "#lstm3 = GRU(19)(lstm2)\n",
    "#x = Flatten()(lstm2)\n",
    "x = Dropout(.35)(lstm1)\n",
    "#x = Dense(25, activation = 'softplus')(lstm2)\n",
    "#x = Dropout(.2)(x)\n",
    "output_layer = Dense(19, activation='softmax')(x)\n",
    "\n",
    "optimizer = keras.optimizers.RMSprop(lr=.005, decay=.0008, centered = True)\n",
    "model = Model(sequence_input, output_layer)\n",
    "model.compile(loss='sparse_categorical_crossentropy', optimizer=optimizer, metrics=[keras.metrics.SparseTopKCategoricalAccuracy(k=3)])\n",
    "\n",
    "model.summary()"
   ]
  },
  {
   "cell_type": "code",
   "execution_count": null,
   "metadata": {},
   "outputs": [],
   "source": []
  },
  {
   "cell_type": "code",
   "execution_count": null,
   "metadata": {
    "collapsed": true,
    "jupyter": {
     "outputs_hidden": true,
     "source_hidden": true
    }
   },
   "outputs": [
    {
     "name": "stdout",
     "output_type": "stream",
     "text": [
      "Epoch 1/100\n",
      "352/352 [==============================] - 94s 261ms/step - loss: 2.5274 - sparse_top_k_categorical_accuracy: 0.5057 - val_loss: 2.0911 - val_sparse_top_k_categorical_accuracy: 0.6247\n",
      "Epoch 2/100\n",
      "352/352 [==============================] - 88s 249ms/step - loss: 2.0542 - sparse_top_k_categorical_accuracy: 0.6485 - val_loss: 1.8773 - val_sparse_top_k_categorical_accuracy: 0.6885\n",
      "Epoch 3/100\n",
      "352/352 [==============================] - 90s 256ms/step - loss: 1.8230 - sparse_top_k_categorical_accuracy: 0.6944 - val_loss: 1.6556 - val_sparse_top_k_categorical_accuracy: 0.7332\n",
      "Epoch 4/100\n",
      "352/352 [==============================] - 91s 259ms/step - loss: 1.6400 - sparse_top_k_categorical_accuracy: 0.7434 - val_loss: 1.5777 - val_sparse_top_k_categorical_accuracy: 0.7581\n",
      "Epoch 5/100\n",
      "352/352 [==============================] - 96s 272ms/step - loss: 1.5243 - sparse_top_k_categorical_accuracy: 0.7733 - val_loss: 1.4617 - val_sparse_top_k_categorical_accuracy: 0.7987\n",
      "Epoch 6/100\n",
      "352/352 [==============================] - 89s 254ms/step - loss: 1.4194 - sparse_top_k_categorical_accuracy: 0.7971 - val_loss: 1.4207 - val_sparse_top_k_categorical_accuracy: 0.7912\n",
      "Epoch 7/100\n",
      "352/352 [==============================] - 92s 260ms/step - loss: 1.3449 - sparse_top_k_categorical_accuracy: 0.8216 - val_loss: 1.4142 - val_sparse_top_k_categorical_accuracy: 0.7978\n",
      "Epoch 8/100\n",
      "352/352 [==============================] - 95s 270ms/step - loss: 1.2827 - sparse_top_k_categorical_accuracy: 0.8234 - val_loss: 1.3817 - val_sparse_top_k_categorical_accuracy: 0.8028\n",
      "Epoch 9/100\n",
      "352/352 [==============================] - 95s 269ms/step - loss: 1.2289 - sparse_top_k_categorical_accuracy: 0.8337 - val_loss: 1.3729 - val_sparse_top_k_categorical_accuracy: 0.8111\n",
      "Epoch 10/100\n",
      "352/352 [==============================] - 95s 271ms/step - loss: 1.1704 - sparse_top_k_categorical_accuracy: 0.8454 - val_loss: 1.3874 - val_sparse_top_k_categorical_accuracy: 0.8111\n",
      "Epoch 11/100\n",
      "352/352 [==============================] - 93s 265ms/step - loss: 1.1082 - sparse_top_k_categorical_accuracy: 0.8600 - val_loss: 1.3951 - val_sparse_top_k_categorical_accuracy: 0.8094\n",
      "Epoch 12/100\n",
      "352/352 [==============================] - 90s 256ms/step - loss: 1.0573 - sparse_top_k_categorical_accuracy: 0.8660 - val_loss: 1.4087 - val_sparse_top_k_categorical_accuracy: 0.8152\n",
      "Epoch 13/100\n",
      "352/352 [==============================] - 92s 260ms/step - loss: 1.0315 - sparse_top_k_categorical_accuracy: 0.8795 - val_loss: 1.3828 - val_sparse_top_k_categorical_accuracy: 0.8194\n",
      "Epoch 14/100\n",
      "352/352 [==============================] - 90s 257ms/step - loss: 0.9790 - sparse_top_k_categorical_accuracy: 0.8820 - val_loss: 1.3853 - val_sparse_top_k_categorical_accuracy: 0.8202\n",
      "Epoch 15/100\n",
      "352/352 [==============================] - 91s 257ms/step - loss: 0.9404 - sparse_top_k_categorical_accuracy: 0.8959 - val_loss: 1.3853 - val_sparse_top_k_categorical_accuracy: 0.8169\n",
      "Epoch 16/100\n",
      "352/352 [==============================] - 89s 254ms/step - loss: 0.9340 - sparse_top_k_categorical_accuracy: 0.8973 - val_loss: 1.4279 - val_sparse_top_k_categorical_accuracy: 0.8186\n",
      "Epoch 17/100\n",
      "352/352 [==============================] - 91s 260ms/step - loss: 0.8876 - sparse_top_k_categorical_accuracy: 0.8984 - val_loss: 1.4392 - val_sparse_top_k_categorical_accuracy: 0.8235\n",
      "Epoch 18/100\n",
      "352/352 [==============================] - 92s 263ms/step - loss: 0.8531 - sparse_top_k_categorical_accuracy: 0.9080 - val_loss: 1.4393 - val_sparse_top_k_categorical_accuracy: 0.8260\n",
      "Epoch 19/100\n",
      "352/352 [==============================] - 96s 272ms/step - loss: 0.8282 - sparse_top_k_categorical_accuracy: 0.9119 - val_loss: 1.4265 - val_sparse_top_k_categorical_accuracy: 0.8268\n",
      "Epoch 20/100\n",
      "352/352 [==============================] - 92s 262ms/step - loss: 0.8170 - sparse_top_k_categorical_accuracy: 0.9094 - val_loss: 1.4708 - val_sparse_top_k_categorical_accuracy: 0.8210\n",
      "Epoch 21/100\n",
      "352/352 [==============================] - 92s 261ms/step - loss: 0.7747 - sparse_top_k_categorical_accuracy: 0.9172 - val_loss: 1.4463 - val_sparse_top_k_categorical_accuracy: 0.8268\n",
      "Epoch 22/100\n",
      "352/352 [==============================] - 95s 270ms/step - loss: 0.7517 - sparse_top_k_categorical_accuracy: 0.9193 - val_loss: 1.5004 - val_sparse_top_k_categorical_accuracy: 0.8202\n",
      "Epoch 23/100\n",
      "352/352 [==============================] - 90s 257ms/step - loss: 0.7454 - sparse_top_k_categorical_accuracy: 0.9325 - val_loss: 1.4870 - val_sparse_top_k_categorical_accuracy: 0.8219\n",
      "Epoch 24/100\n",
      "352/352 [==============================] - 94s 267ms/step - loss: 0.7521 - sparse_top_k_categorical_accuracy: 0.9247 - val_loss: 1.4721 - val_sparse_top_k_categorical_accuracy: 0.8244\n",
      "Epoch 25/100\n",
      "352/352 [==============================] - 89s 252ms/step - loss: 0.6869 - sparse_top_k_categorical_accuracy: 0.9364 - val_loss: 1.5367 - val_sparse_top_k_categorical_accuracy: 0.8202\n",
      "Epoch 26/100\n",
      "352/352 [==============================] - 96s 273ms/step - loss: 0.6904 - sparse_top_k_categorical_accuracy: 0.9350 - val_loss: 1.5360 - val_sparse_top_k_categorical_accuracy: 0.8260\n",
      "Epoch 27/100\n",
      "352/352 [==============================] - 90s 255ms/step - loss: 0.6535 - sparse_top_k_categorical_accuracy: 0.9367 - val_loss: 1.5488 - val_sparse_top_k_categorical_accuracy: 0.8169\n",
      "Epoch 28/100\n",
      "352/352 [==============================] - 93s 264ms/step - loss: 0.6460 - sparse_top_k_categorical_accuracy: 0.9378 - val_loss: 1.5701 - val_sparse_top_k_categorical_accuracy: 0.8219\n",
      "Epoch 29/100\n",
      "352/352 [==============================] - 91s 257ms/step - loss: 0.6258 - sparse_top_k_categorical_accuracy: 0.9435 - val_loss: 1.5538 - val_sparse_top_k_categorical_accuracy: 0.8210\n",
      "Epoch 30/100\n",
      "352/352 [==============================] - 89s 253ms/step - loss: 0.6072 - sparse_top_k_categorical_accuracy: 0.9428 - val_loss: 1.6035 - val_sparse_top_k_categorical_accuracy: 0.8202\n",
      "Epoch 31/100\n",
      "352/352 [==============================] - 88s 250ms/step - loss: 0.5934 - sparse_top_k_categorical_accuracy: 0.9421 - val_loss: 1.6080 - val_sparse_top_k_categorical_accuracy: 0.8252\n",
      "Epoch 32/100\n",
      "352/352 [==============================] - ETA: 0s - loss: 0.5759 - sparse_top_k_categorical_accuracy: 0.9460"
     ]
    }
   ],
   "source": [
    "model.fit(padded, ytrain, validation_data=(paddedtest, ytest), epochs=100, batch_size = 8)\n"
   ]
  },
  {
   "cell_type": "code",
   "execution_count": 98,
   "metadata": {},
   "outputs": [
    {
     "name": "stdout",
     "output_type": "stream",
     "text": [
      "Model: \"model_5\"\n",
      "_________________________________________________________________\n",
      " Layer (type)                Output Shape              Param #   \n",
      "=================================================================\n",
      " input_6 (InputLayer)        [(None, 880)]             0         \n",
      "                                                                 \n",
      " embedding_5 (Embedding)     (None, 880, 100)          915400    \n",
      "                                                                 \n",
      " dropout_58 (Dropout)        (None, 880, 100)          0         \n",
      "                                                                 \n",
      " conv1d_15 (Conv1D)          (None, 880, 64)           32064     \n",
      "                                                                 \n",
      " max_pooling1d_9 (MaxPooling  (None, 176, 64)          0         \n",
      " 1D)                                                             \n",
      "                                                                 \n",
      " gru_2 (GRU)                 (None, 32)                9408      \n",
      "                                                                 \n",
      " dense_13 (Dense)            (None, 25)                825       \n",
      "                                                                 \n",
      " dropout_60 (Dropout)        (None, 25)                0         \n",
      "                                                                 \n",
      " dense_14 (Dense)            (None, 20)                520       \n",
      "                                                                 \n",
      "=================================================================\n",
      "Total params: 958,217\n",
      "Trainable params: 958,217\n",
      "Non-trainable params: 0\n",
      "_________________________________________________________________\n"
     ]
    }
   ],
   "source": [
    "from keras.layers import GRU\n",
    "embedding_layer = Embedding(len(word_index) + 1, embeddingdim, embeddings_initializer = Constant(embedding_matrix),\n",
    "                           input_length=maxlength, trainable = True)\n",
    "sequence_input = Input(shape=(maxlength,), dtype='int32')\n",
    "embeddedsequences = embedding_layer(sequence_input)\n",
    "y = Dropout(0.3)(embeddedsequences)\n",
    "conv1 = Conv1D(filters=64,\n",
    "               kernel_size=5,\n",
    "               strides=1,\n",
    "               activation='softplus',\n",
    "               padding='same')(y)\n",
    "x = MaxPooling1D(5)(conv1)\n",
    "#x = GRU(128, return_sequences=True)(x)\n",
    "#lstm1 = GRU(64, return_sequences=True)(x)\n",
    "lstm2 = GRU(32)(x)\n",
    "x = Flatten()(lstm2)\n",
    "x = Dropout(.3)(x)\n",
    "x = Dense(25, activation = 'softplus')(lstm2)\n",
    "x = Dropout(.2)(x)\n",
    "output_layer = Dense(20, activation='softmax')(x)\n",
    "\n",
    "optimizer = keras.optimizers.RMSprop(lr=.01, decay=.008, centered=True)\n",
    "model = Model(sequence_input, output_layer)\n",
    "model.compile(loss='sparse_categorical_crossentropy', optimizer=optimizer, metrics = ['accuracy'])\n",
    "\n",
    "model.summary()"
   ]
  },
  {
   "cell_type": "code",
   "execution_count": null,
   "metadata": {},
   "outputs": [],
   "source": []
  },
  {
   "cell_type": "code",
   "execution_count": 99,
   "metadata": {
    "collapsed": true,
    "jupyter": {
     "outputs_hidden": true
    }
   },
   "outputs": [
    {
     "name": "stdout",
     "output_type": "stream",
     "text": [
      "Epoch 1/100\n",
      "87/87 [==============================] - 11s 90ms/step - loss: 2.6149 - accuracy: 0.2027 - val_loss: 2.5644 - val_accuracy: 0.1692\n",
      "Epoch 2/100\n",
      "87/87 [==============================] - 8s 88ms/step - loss: 2.4385 - accuracy: 0.2771 - val_loss: 2.2915 - val_accuracy: 0.3401\n",
      "Epoch 3/100\n",
      "87/87 [==============================] - 8s 88ms/step - loss: 2.1697 - accuracy: 0.3828 - val_loss: 2.2098 - val_accuracy: 0.3603\n",
      "Epoch 4/100\n",
      "87/87 [==============================] - 8s 88ms/step - loss: 2.0234 - accuracy: 0.4073 - val_loss: 1.9711 - val_accuracy: 0.4116\n",
      "Epoch 5/100\n",
      "87/87 [==============================] - 8s 88ms/step - loss: 1.9082 - accuracy: 0.4304 - val_loss: 1.9310 - val_accuracy: 0.4209\n",
      "Epoch 6/100\n",
      "87/87 [==============================] - 8s 88ms/step - loss: 1.8187 - accuracy: 0.4481 - val_loss: 1.8736 - val_accuracy: 0.4411\n",
      "Epoch 7/100\n",
      "87/87 [==============================] - 8s 88ms/step - loss: 1.7294 - accuracy: 0.4780 - val_loss: 1.8368 - val_accuracy: 0.4756\n",
      "Epoch 8/100\n",
      "87/87 [==============================] - 8s 88ms/step - loss: 1.6590 - accuracy: 0.5047 - val_loss: 1.8231 - val_accuracy: 0.4832\n",
      "Epoch 9/100\n",
      "87/87 [==============================] - 8s 87ms/step - loss: 1.6083 - accuracy: 0.5115 - val_loss: 1.8021 - val_accuracy: 0.4899\n",
      "Epoch 10/100\n",
      "87/87 [==============================] - 8s 88ms/step - loss: 1.5629 - accuracy: 0.5292 - val_loss: 1.8358 - val_accuracy: 0.4966\n",
      "Epoch 11/100\n",
      "87/87 [==============================] - 8s 88ms/step - loss: 1.5333 - accuracy: 0.5299 - val_loss: 1.7898 - val_accuracy: 0.4992\n",
      "Epoch 12/100\n",
      "87/87 [==============================] - 8s 86ms/step - loss: 1.4956 - accuracy: 0.5397 - val_loss: 1.8103 - val_accuracy: 0.4941\n",
      "Epoch 13/100\n",
      "87/87 [==============================] - 7s 85ms/step - loss: 1.4624 - accuracy: 0.5519 - val_loss: 1.8433 - val_accuracy: 0.4848\n",
      "Epoch 14/100\n",
      "87/87 [==============================] - 7s 86ms/step - loss: 1.4366 - accuracy: 0.5620 - val_loss: 1.8149 - val_accuracy: 0.5017\n",
      "Epoch 15/100\n",
      "87/87 [==============================] - 7s 86ms/step - loss: 1.4010 - accuracy: 0.5606 - val_loss: 1.8195 - val_accuracy: 0.4916\n",
      "Epoch 16/100\n",
      "87/87 [==============================] - 8s 87ms/step - loss: 1.3808 - accuracy: 0.5660 - val_loss: 1.8214 - val_accuracy: 0.5000\n",
      "Epoch 17/100\n",
      "87/87 [==============================] - 8s 86ms/step - loss: 1.3597 - accuracy: 0.5747 - val_loss: 1.8303 - val_accuracy: 0.4933\n",
      "Epoch 18/100\n",
      "87/87 [==============================] - 8s 87ms/step - loss: 1.3251 - accuracy: 0.5797 - val_loss: 1.8714 - val_accuracy: 0.4933\n",
      "Epoch 19/100\n",
      "87/87 [==============================] - 7s 86ms/step - loss: 1.3161 - accuracy: 0.5859 - val_loss: 1.8358 - val_accuracy: 0.5084\n",
      "Epoch 20/100\n",
      "87/87 [==============================] - 7s 86ms/step - loss: 1.2861 - accuracy: 0.5999 - val_loss: 1.8613 - val_accuracy: 0.5000\n",
      "Epoch 21/100\n",
      "87/87 [==============================] - 7s 84ms/step - loss: 1.2748 - accuracy: 0.6021 - val_loss: 1.8951 - val_accuracy: 0.5034\n",
      "Epoch 22/100\n",
      " 7/87 [=>............................] - ETA: 6s - loss: 1.3127 - accuracy: 0.5982"
     ]
    },
    {
     "ename": "KeyboardInterrupt",
     "evalue": "",
     "output_type": "error",
     "traceback": [
      "\u001b[0;31m---------------------------------------------------------------------------\u001b[0m",
      "\u001b[0;31mKeyboardInterrupt\u001b[0m                         Traceback (most recent call last)",
      "\u001b[0;32m<ipython-input-99-5ea1866fd44b>\u001b[0m in \u001b[0;36m<module>\u001b[0;34m\u001b[0m\n\u001b[0;32m----> 1\u001b[0;31m \u001b[0mmodel\u001b[0m\u001b[0;34m.\u001b[0m\u001b[0mfit\u001b[0m\u001b[0;34m(\u001b[0m\u001b[0mpadded\u001b[0m\u001b[0;34m,\u001b[0m \u001b[0mytrain\u001b[0m\u001b[0;34m,\u001b[0m \u001b[0mvalidation_data\u001b[0m\u001b[0;34m=\u001b[0m\u001b[0;34m(\u001b[0m\u001b[0mpaddedtest\u001b[0m\u001b[0;34m,\u001b[0m \u001b[0mytest\u001b[0m\u001b[0;34m)\u001b[0m\u001b[0;34m,\u001b[0m \u001b[0mepochs\u001b[0m\u001b[0;34m=\u001b[0m\u001b[0;36m100\u001b[0m\u001b[0;34m,\u001b[0m \u001b[0mbatch_size\u001b[0m \u001b[0;34m=\u001b[0m \u001b[0;36m32\u001b[0m\u001b[0;34m)\u001b[0m\u001b[0;34m\u001b[0m\u001b[0;34m\u001b[0m\u001b[0m\n\u001b[0m",
      "\u001b[0;32m~/.local/lib/python3.8/site-packages/keras/utils/traceback_utils.py\u001b[0m in \u001b[0;36merror_handler\u001b[0;34m(*args, **kwargs)\u001b[0m\n\u001b[1;32m     62\u001b[0m     \u001b[0mfiltered_tb\u001b[0m \u001b[0;34m=\u001b[0m \u001b[0;32mNone\u001b[0m\u001b[0;34m\u001b[0m\u001b[0;34m\u001b[0m\u001b[0m\n\u001b[1;32m     63\u001b[0m     \u001b[0;32mtry\u001b[0m\u001b[0;34m:\u001b[0m\u001b[0;34m\u001b[0m\u001b[0;34m\u001b[0m\u001b[0m\n\u001b[0;32m---> 64\u001b[0;31m       \u001b[0;32mreturn\u001b[0m \u001b[0mfn\u001b[0m\u001b[0;34m(\u001b[0m\u001b[0;34m*\u001b[0m\u001b[0margs\u001b[0m\u001b[0;34m,\u001b[0m \u001b[0;34m**\u001b[0m\u001b[0mkwargs\u001b[0m\u001b[0;34m)\u001b[0m\u001b[0;34m\u001b[0m\u001b[0;34m\u001b[0m\u001b[0m\n\u001b[0m\u001b[1;32m     65\u001b[0m     \u001b[0;32mexcept\u001b[0m \u001b[0mException\u001b[0m \u001b[0;32mas\u001b[0m \u001b[0me\u001b[0m\u001b[0;34m:\u001b[0m  \u001b[0;31m# pylint: disable=broad-except\u001b[0m\u001b[0;34m\u001b[0m\u001b[0;34m\u001b[0m\u001b[0m\n\u001b[1;32m     66\u001b[0m       \u001b[0mfiltered_tb\u001b[0m \u001b[0;34m=\u001b[0m \u001b[0m_process_traceback_frames\u001b[0m\u001b[0;34m(\u001b[0m\u001b[0me\u001b[0m\u001b[0;34m.\u001b[0m\u001b[0m__traceback__\u001b[0m\u001b[0;34m)\u001b[0m\u001b[0;34m\u001b[0m\u001b[0;34m\u001b[0m\u001b[0m\n",
      "\u001b[0;32m~/.local/lib/python3.8/site-packages/keras/engine/training.py\u001b[0m in \u001b[0;36mfit\u001b[0;34m(self, x, y, batch_size, epochs, verbose, callbacks, validation_split, validation_data, shuffle, class_weight, sample_weight, initial_epoch, steps_per_epoch, validation_steps, validation_batch_size, validation_freq, max_queue_size, workers, use_multiprocessing)\u001b[0m\n\u001b[1;32m   1382\u001b[0m                 _r=1):\n\u001b[1;32m   1383\u001b[0m               \u001b[0mcallbacks\u001b[0m\u001b[0;34m.\u001b[0m\u001b[0mon_train_batch_begin\u001b[0m\u001b[0;34m(\u001b[0m\u001b[0mstep\u001b[0m\u001b[0;34m)\u001b[0m\u001b[0;34m\u001b[0m\u001b[0;34m\u001b[0m\u001b[0m\n\u001b[0;32m-> 1384\u001b[0;31m               \u001b[0mtmp_logs\u001b[0m \u001b[0;34m=\u001b[0m \u001b[0mself\u001b[0m\u001b[0;34m.\u001b[0m\u001b[0mtrain_function\u001b[0m\u001b[0;34m(\u001b[0m\u001b[0miterator\u001b[0m\u001b[0;34m)\u001b[0m\u001b[0;34m\u001b[0m\u001b[0;34m\u001b[0m\u001b[0m\n\u001b[0m\u001b[1;32m   1385\u001b[0m               \u001b[0;32mif\u001b[0m \u001b[0mdata_handler\u001b[0m\u001b[0;34m.\u001b[0m\u001b[0mshould_sync\u001b[0m\u001b[0;34m:\u001b[0m\u001b[0;34m\u001b[0m\u001b[0;34m\u001b[0m\u001b[0m\n\u001b[1;32m   1386\u001b[0m                 \u001b[0mcontext\u001b[0m\u001b[0;34m.\u001b[0m\u001b[0masync_wait\u001b[0m\u001b[0;34m(\u001b[0m\u001b[0;34m)\u001b[0m\u001b[0;34m\u001b[0m\u001b[0;34m\u001b[0m\u001b[0m\n",
      "\u001b[0;32m~/.local/lib/python3.8/site-packages/tensorflow/python/util/traceback_utils.py\u001b[0m in \u001b[0;36merror_handler\u001b[0;34m(*args, **kwargs)\u001b[0m\n\u001b[1;32m    148\u001b[0m     \u001b[0mfiltered_tb\u001b[0m \u001b[0;34m=\u001b[0m \u001b[0;32mNone\u001b[0m\u001b[0;34m\u001b[0m\u001b[0;34m\u001b[0m\u001b[0m\n\u001b[1;32m    149\u001b[0m     \u001b[0;32mtry\u001b[0m\u001b[0;34m:\u001b[0m\u001b[0;34m\u001b[0m\u001b[0;34m\u001b[0m\u001b[0m\n\u001b[0;32m--> 150\u001b[0;31m       \u001b[0;32mreturn\u001b[0m \u001b[0mfn\u001b[0m\u001b[0;34m(\u001b[0m\u001b[0;34m*\u001b[0m\u001b[0margs\u001b[0m\u001b[0;34m,\u001b[0m \u001b[0;34m**\u001b[0m\u001b[0mkwargs\u001b[0m\u001b[0;34m)\u001b[0m\u001b[0;34m\u001b[0m\u001b[0;34m\u001b[0m\u001b[0m\n\u001b[0m\u001b[1;32m    151\u001b[0m     \u001b[0;32mexcept\u001b[0m \u001b[0mException\u001b[0m \u001b[0;32mas\u001b[0m \u001b[0me\u001b[0m\u001b[0;34m:\u001b[0m\u001b[0;34m\u001b[0m\u001b[0;34m\u001b[0m\u001b[0m\n\u001b[1;32m    152\u001b[0m       \u001b[0mfiltered_tb\u001b[0m \u001b[0;34m=\u001b[0m \u001b[0m_process_traceback_frames\u001b[0m\u001b[0;34m(\u001b[0m\u001b[0me\u001b[0m\u001b[0;34m.\u001b[0m\u001b[0m__traceback__\u001b[0m\u001b[0;34m)\u001b[0m\u001b[0;34m\u001b[0m\u001b[0;34m\u001b[0m\u001b[0m\n",
      "\u001b[0;32m~/.local/lib/python3.8/site-packages/tensorflow/python/eager/def_function.py\u001b[0m in \u001b[0;36m__call__\u001b[0;34m(self, *args, **kwds)\u001b[0m\n\u001b[1;32m    913\u001b[0m \u001b[0;34m\u001b[0m\u001b[0m\n\u001b[1;32m    914\u001b[0m       \u001b[0;32mwith\u001b[0m \u001b[0mOptionalXlaContext\u001b[0m\u001b[0;34m(\u001b[0m\u001b[0mself\u001b[0m\u001b[0;34m.\u001b[0m\u001b[0m_jit_compile\u001b[0m\u001b[0;34m)\u001b[0m\u001b[0;34m:\u001b[0m\u001b[0;34m\u001b[0m\u001b[0;34m\u001b[0m\u001b[0m\n\u001b[0;32m--> 915\u001b[0;31m         \u001b[0mresult\u001b[0m \u001b[0;34m=\u001b[0m \u001b[0mself\u001b[0m\u001b[0;34m.\u001b[0m\u001b[0m_call\u001b[0m\u001b[0;34m(\u001b[0m\u001b[0;34m*\u001b[0m\u001b[0margs\u001b[0m\u001b[0;34m,\u001b[0m \u001b[0;34m**\u001b[0m\u001b[0mkwds\u001b[0m\u001b[0;34m)\u001b[0m\u001b[0;34m\u001b[0m\u001b[0;34m\u001b[0m\u001b[0m\n\u001b[0m\u001b[1;32m    916\u001b[0m \u001b[0;34m\u001b[0m\u001b[0m\n\u001b[1;32m    917\u001b[0m       \u001b[0mnew_tracing_count\u001b[0m \u001b[0;34m=\u001b[0m \u001b[0mself\u001b[0m\u001b[0;34m.\u001b[0m\u001b[0mexperimental_get_tracing_count\u001b[0m\u001b[0;34m(\u001b[0m\u001b[0;34m)\u001b[0m\u001b[0;34m\u001b[0m\u001b[0;34m\u001b[0m\u001b[0m\n",
      "\u001b[0;32m~/.local/lib/python3.8/site-packages/tensorflow/python/eager/def_function.py\u001b[0m in \u001b[0;36m_call\u001b[0;34m(self, *args, **kwds)\u001b[0m\n\u001b[1;32m    945\u001b[0m       \u001b[0;31m# In this case we have created variables on the first call, so we run the\u001b[0m\u001b[0;34m\u001b[0m\u001b[0;34m\u001b[0m\u001b[0;34m\u001b[0m\u001b[0m\n\u001b[1;32m    946\u001b[0m       \u001b[0;31m# defunned version which is guaranteed to never create variables.\u001b[0m\u001b[0;34m\u001b[0m\u001b[0;34m\u001b[0m\u001b[0;34m\u001b[0m\u001b[0m\n\u001b[0;32m--> 947\u001b[0;31m       \u001b[0;32mreturn\u001b[0m \u001b[0mself\u001b[0m\u001b[0;34m.\u001b[0m\u001b[0m_stateless_fn\u001b[0m\u001b[0;34m(\u001b[0m\u001b[0;34m*\u001b[0m\u001b[0margs\u001b[0m\u001b[0;34m,\u001b[0m \u001b[0;34m**\u001b[0m\u001b[0mkwds\u001b[0m\u001b[0;34m)\u001b[0m  \u001b[0;31m# pylint: disable=not-callable\u001b[0m\u001b[0;34m\u001b[0m\u001b[0;34m\u001b[0m\u001b[0m\n\u001b[0m\u001b[1;32m    948\u001b[0m     \u001b[0;32melif\u001b[0m \u001b[0mself\u001b[0m\u001b[0;34m.\u001b[0m\u001b[0m_stateful_fn\u001b[0m \u001b[0;32mis\u001b[0m \u001b[0;32mnot\u001b[0m \u001b[0;32mNone\u001b[0m\u001b[0;34m:\u001b[0m\u001b[0;34m\u001b[0m\u001b[0;34m\u001b[0m\u001b[0m\n\u001b[1;32m    949\u001b[0m       \u001b[0;31m# Release the lock early so that multiple threads can perform the call\u001b[0m\u001b[0;34m\u001b[0m\u001b[0;34m\u001b[0m\u001b[0;34m\u001b[0m\u001b[0m\n",
      "\u001b[0;32m~/.local/lib/python3.8/site-packages/tensorflow/python/eager/function.py\u001b[0m in \u001b[0;36m__call__\u001b[0;34m(self, *args, **kwargs)\u001b[0m\n\u001b[1;32m   2954\u001b[0m       (graph_function,\n\u001b[1;32m   2955\u001b[0m        filtered_flat_args) = self._maybe_define_function(args, kwargs)\n\u001b[0;32m-> 2956\u001b[0;31m     return graph_function._call_flat(\n\u001b[0m\u001b[1;32m   2957\u001b[0m         filtered_flat_args, captured_inputs=graph_function.captured_inputs)  # pylint: disable=protected-access\n\u001b[1;32m   2958\u001b[0m \u001b[0;34m\u001b[0m\u001b[0m\n",
      "\u001b[0;32m~/.local/lib/python3.8/site-packages/tensorflow/python/eager/function.py\u001b[0m in \u001b[0;36m_call_flat\u001b[0;34m(self, args, captured_inputs, cancellation_manager)\u001b[0m\n\u001b[1;32m   1851\u001b[0m         and executing_eagerly):\n\u001b[1;32m   1852\u001b[0m       \u001b[0;31m# No tape is watching; skip to running the function.\u001b[0m\u001b[0;34m\u001b[0m\u001b[0;34m\u001b[0m\u001b[0;34m\u001b[0m\u001b[0m\n\u001b[0;32m-> 1853\u001b[0;31m       return self._build_call_outputs(self._inference_function.call(\n\u001b[0m\u001b[1;32m   1854\u001b[0m           ctx, args, cancellation_manager=cancellation_manager))\n\u001b[1;32m   1855\u001b[0m     forward_backward = self._select_forward_and_backward_functions(\n",
      "\u001b[0;32m~/.local/lib/python3.8/site-packages/tensorflow/python/eager/function.py\u001b[0m in \u001b[0;36mcall\u001b[0;34m(self, ctx, args, cancellation_manager)\u001b[0m\n\u001b[1;32m    497\u001b[0m       \u001b[0;32mwith\u001b[0m \u001b[0m_InterpolateFunctionError\u001b[0m\u001b[0;34m(\u001b[0m\u001b[0mself\u001b[0m\u001b[0;34m)\u001b[0m\u001b[0;34m:\u001b[0m\u001b[0;34m\u001b[0m\u001b[0;34m\u001b[0m\u001b[0m\n\u001b[1;32m    498\u001b[0m         \u001b[0;32mif\u001b[0m \u001b[0mcancellation_manager\u001b[0m \u001b[0;32mis\u001b[0m \u001b[0;32mNone\u001b[0m\u001b[0;34m:\u001b[0m\u001b[0;34m\u001b[0m\u001b[0;34m\u001b[0m\u001b[0m\n\u001b[0;32m--> 499\u001b[0;31m           outputs = execute.execute(\n\u001b[0m\u001b[1;32m    500\u001b[0m               \u001b[0mstr\u001b[0m\u001b[0;34m(\u001b[0m\u001b[0mself\u001b[0m\u001b[0;34m.\u001b[0m\u001b[0msignature\u001b[0m\u001b[0;34m.\u001b[0m\u001b[0mname\u001b[0m\u001b[0;34m)\u001b[0m\u001b[0;34m,\u001b[0m\u001b[0;34m\u001b[0m\u001b[0;34m\u001b[0m\u001b[0m\n\u001b[1;32m    501\u001b[0m               \u001b[0mnum_outputs\u001b[0m\u001b[0;34m=\u001b[0m\u001b[0mself\u001b[0m\u001b[0;34m.\u001b[0m\u001b[0m_num_outputs\u001b[0m\u001b[0;34m,\u001b[0m\u001b[0;34m\u001b[0m\u001b[0;34m\u001b[0m\u001b[0m\n",
      "\u001b[0;32m~/.local/lib/python3.8/site-packages/tensorflow/python/eager/execute.py\u001b[0m in \u001b[0;36mquick_execute\u001b[0;34m(op_name, num_outputs, inputs, attrs, ctx, name)\u001b[0m\n\u001b[1;32m     52\u001b[0m   \u001b[0;32mtry\u001b[0m\u001b[0;34m:\u001b[0m\u001b[0;34m\u001b[0m\u001b[0;34m\u001b[0m\u001b[0m\n\u001b[1;32m     53\u001b[0m     \u001b[0mctx\u001b[0m\u001b[0;34m.\u001b[0m\u001b[0mensure_initialized\u001b[0m\u001b[0;34m(\u001b[0m\u001b[0;34m)\u001b[0m\u001b[0;34m\u001b[0m\u001b[0;34m\u001b[0m\u001b[0m\n\u001b[0;32m---> 54\u001b[0;31m     tensors = pywrap_tfe.TFE_Py_Execute(ctx._handle, device_name, op_name,\n\u001b[0m\u001b[1;32m     55\u001b[0m                                         inputs, attrs, num_outputs)\n\u001b[1;32m     56\u001b[0m   \u001b[0;32mexcept\u001b[0m \u001b[0mcore\u001b[0m\u001b[0;34m.\u001b[0m\u001b[0m_NotOkStatusException\u001b[0m \u001b[0;32mas\u001b[0m \u001b[0me\u001b[0m\u001b[0;34m:\u001b[0m\u001b[0;34m\u001b[0m\u001b[0;34m\u001b[0m\u001b[0m\n",
      "\u001b[0;31mKeyboardInterrupt\u001b[0m: "
     ]
    }
   ],
   "source": [
    "model.fit(padded, ytrain, validation_data=(paddedtest, ytest), epochs=100, batch_size = 32)\n"
   ]
  },
  {
   "cell_type": "code",
   "execution_count": 104,
   "metadata": {},
   "outputs": [
    {
     "name": "stdout",
     "output_type": "stream",
     "text": [
      "Model: \"model_8\"\n",
      "_________________________________________________________________\n",
      " Layer (type)                Output Shape              Param #   \n",
      "=================================================================\n",
      " input_9 (InputLayer)        [(None, 880)]             0         \n",
      "                                                                 \n",
      " embedding_8 (Embedding)     (None, 880, 100)          915400    \n",
      "                                                                 \n",
      " dropout_65 (Dropout)        (None, 880, 100)          0         \n",
      "                                                                 \n",
      " gru_5 (GRU)                 (None, 64)                31872     \n",
      "                                                                 \n",
      " dropout_66 (Dropout)        (None, 64)                0         \n",
      "                                                                 \n",
      " dense_17 (Dense)            (None, 20)                1300      \n",
      "                                                                 \n",
      "=================================================================\n",
      "Total params: 948,572\n",
      "Trainable params: 948,572\n",
      "Non-trainable params: 0\n",
      "_________________________________________________________________\n"
     ]
    }
   ],
   "source": [
    "from tensorflow import keras\n",
    "from keras.layers import GRU\n",
    "embedding_layer = Embedding(len(word_index) + 1, embeddingdim, embeddings_initializer = Constant(embedding_matrix),\n",
    "                           input_length=maxlength, trainable = True)\n",
    "sequence_input = Input(shape=(maxlength,), dtype='int32')\n",
    "embeddedsequences = embedding_layer(sequence_input)\n",
    "y = Dropout(0.35)(embeddedsequences)\n",
    "#conv1 = Conv1D(filters=64,\n",
    "#               kernel_size=5,\n",
    "#               strides=1,\n",
    "#               activation='softplus',\n",
    "#               padding='same')(embeddedsequences)\n",
    "lstm1 = GRU(64, return_sequences=False)(y)\n",
    "#lstm2 = GRU(32, return_sequences=True)(lstm1)\n",
    "#lstm3 = GRU(19)(lstm2)\n",
    "#x = Flatten()(lstm2)\n",
    "x = Dropout(.35)(lstm1)\n",
    "#x = Dense(25, activation = 'softplus')(lstm2)\n",
    "#x = Dropout(.2)(x)\n",
    "output_layer = Dense(20, activation='softmax')(x)\n",
    "\n",
    "optimizer = keras.optimizers.RMSprop(lr=.005, decay=.0008, centered = True)\n",
    "model = Model(sequence_input, output_layer)\n",
    "model.compile(loss='sparse_categorical_crossentropy', optimizer=optimizer, metrics=[keras.metrics.SparseTopKCategoricalAccuracy(k=3)])\n",
    "\n",
    "model.summary()"
   ]
  },
  {
   "cell_type": "code",
   "execution_count": null,
   "metadata": {},
   "outputs": [
    {
     "name": "stdout",
     "output_type": "stream",
     "text": [
      "Epoch 1/25\n",
      "347/347 [==============================] - 90s 255ms/step - loss: 2.7457 - sparse_top_k_categorical_accuracy: 0.4318 - val_loss: 2.6986 - val_sparse_top_k_categorical_accuracy: 0.4781\n",
      "Epoch 2/25\n",
      "347/347 [==============================] - 89s 257ms/step - loss: 2.3352 - sparse_top_k_categorical_accuracy: 0.5451 - val_loss: 2.0942 - val_sparse_top_k_categorical_accuracy: 0.5943\n",
      "Epoch 3/25\n",
      "347/347 [==============================] - 87s 251ms/step - loss: 2.0563 - sparse_top_k_categorical_accuracy: 0.6172 - val_loss: 1.9366 - val_sparse_top_k_categorical_accuracy: 0.6406\n",
      "Epoch 4/25\n",
      "347/347 [==============================] - 92s 266ms/step - loss: 1.8972 - sparse_top_k_categorical_accuracy: 0.6670 - val_loss: 1.9049 - val_sparse_top_k_categorical_accuracy: 0.6566\n",
      "Epoch 5/25\n",
      "347/347 [==============================] - 87s 250ms/step - loss: 1.7528 - sparse_top_k_categorical_accuracy: 0.6973 - val_loss: 1.7088 - val_sparse_top_k_categorical_accuracy: 0.7146\n",
      "Epoch 6/25\n",
      " 63/347 [====>.........................] - ETA: 1:09 - loss: 1.6884 - sparse_top_k_categorical_accuracy: 0.7143"
     ]
    }
   ],
   "source": [
    "model.fit(padded, ytrain, validation_data=(paddedtest, ytest), epochs=25, batch_size = 8)"
   ]
  },
  {
   "cell_type": "markdown",
   "metadata": {},
   "source": [
    "# Transformers"
   ]
  },
  {
   "cell_type": "code",
   "execution_count": 25,
   "metadata": {},
   "outputs": [],
   "source": [
    "from transformers import pipeline"
   ]
  },
  {
   "cell_type": "code",
   "execution_count": 26,
   "metadata": {},
   "outputs": [],
   "source": [
    "from transformers import AutoTokenizer, TFAutoModelForSequenceClassification\n",
    "from transformers import BertForSequenceClassification, BertTokenizer\n",
    "\n",
    "check = 'distilbert-base-uncased'\n",
    "token = AutoTokenizer.from_pretrained(check)\n",
    "input_tokens = token(list(xtrain), padding=True, truncation=True, max_length=512)"
   ]
  },
  {
   "cell_type": "code",
   "execution_count": 27,
   "metadata": {},
   "outputs": [],
   "source": [
    "eval_tokens = token(list(xtest), padding=True, truncation=True, max_length=512)"
   ]
  },
  {
   "cell_type": "code",
   "execution_count": 28,
   "metadata": {},
   "outputs": [],
   "source": [
    "from sklearn import preprocessing\n",
    "import tensorflow as tf\n",
    "train_data = tf.data.Dataset.from_tensor_slices((dict(input_tokens), ytrain))\n",
    "test_data = tf.data.Dataset.from_tensor_slices((dict(eval_tokens), ytest))"
   ]
  },
  {
   "cell_type": "code",
   "execution_count": 35,
   "metadata": {},
   "outputs": [
    {
     "name": "stderr",
     "output_type": "stream",
     "text": [
      "Some layers from the model checkpoint at distilbert-base-uncased were not used when initializing TFDistilBertForSequenceClassification: ['vocab_layer_norm', 'vocab_transform', 'vocab_projector', 'activation_13']\n",
      "- This IS expected if you are initializing TFDistilBertForSequenceClassification from the checkpoint of a model trained on another task or with another architecture (e.g. initializing a BertForSequenceClassification model from a BertForPreTraining model).\n",
      "- This IS NOT expected if you are initializing TFDistilBertForSequenceClassification from the checkpoint of a model that you expect to be exactly identical (initializing a BertForSequenceClassification model from a BertForSequenceClassification model).\n",
      "Some layers of TFDistilBertForSequenceClassification were not initialized from the model checkpoint at distilbert-base-uncased and are newly initialized: ['dropout_39', 'pre_classifier', 'classifier']\n",
      "You should probably TRAIN this model on a down-stream task to be able to use it for predictions and inference.\n"
     ]
    }
   ],
   "source": [
    "model = TFAutoModelForSequenceClassification.from_pretrained(check, num_labels=19)\n",
    "loss = tf.keras.losses.SparseCategoricalCrossentropy(from_logits=True)\n",
    "optimizer = tf.keras.optimizers.RMSprop(learning_rate = 3e-4, centered=True)\n",
    "model.compile(optimizer=optimizer,loss=loss, metrics=['accuracy'])"
   ]
  },
  {
   "cell_type": "code",
   "execution_count": 36,
   "metadata": {},
   "outputs": [
    {
     "name": "stdout",
     "output_type": "stream",
     "text": [
      "Model: \"tf_distil_bert_for_sequence_classification_1\"\n",
      "_________________________________________________________________\n",
      " Layer (type)                Output Shape              Param #   \n",
      "=================================================================\n",
      " distilbert (TFDistilBertMai  multiple                 66362880  \n",
      " nLayer)                                                         \n",
      "                                                                 \n",
      " pre_classifier (Dense)      multiple                  590592    \n",
      "                                                                 \n",
      " classifier (Dense)          multiple                  14611     \n",
      "                                                                 \n",
      " dropout_39 (Dropout)        multiple                  0         \n",
      "                                                                 \n",
      "=================================================================\n",
      "Total params: 66,968,083\n",
      "Trainable params: 66,968,083\n",
      "Non-trainable params: 0\n",
      "_________________________________________________________________\n"
     ]
    }
   ],
   "source": [
    "model.summary()"
   ]
  },
  {
   "cell_type": "code",
   "execution_count": 37,
   "metadata": {},
   "outputs": [
    {
     "name": "stdout",
     "output_type": "stream",
     "text": [
      "Epoch 1/3\n",
      "166/176 [===========================>..] - ETA: 37s - loss: 2.5442 - accuracy: 0.2127"
     ]
    },
    {
     "ename": "KeyboardInterrupt",
     "evalue": "",
     "output_type": "error",
     "traceback": [
      "\u001b[0;31m---------------------------------------------------------------------------\u001b[0m",
      "\u001b[0;31mKeyboardInterrupt\u001b[0m                         Traceback (most recent call last)",
      "\u001b[0;32m<ipython-input-37-8319e2208dcf>\u001b[0m in \u001b[0;36m<module>\u001b[0;34m\u001b[0m\n\u001b[0;32m----> 1\u001b[0;31m \u001b[0mmodel\u001b[0m\u001b[0;34m.\u001b[0m\u001b[0mfit\u001b[0m\u001b[0;34m(\u001b[0m\u001b[0mtrain_data\u001b[0m\u001b[0;34m.\u001b[0m\u001b[0mshuffle\u001b[0m\u001b[0;34m(\u001b[0m\u001b[0;36m1000\u001b[0m\u001b[0;34m)\u001b[0m\u001b[0;34m.\u001b[0m\u001b[0mbatch\u001b[0m\u001b[0;34m(\u001b[0m\u001b[0;36m16\u001b[0m\u001b[0;34m)\u001b[0m\u001b[0;34m,\u001b[0m \u001b[0mvalidation_data\u001b[0m \u001b[0;34m=\u001b[0m \u001b[0mtest_data\u001b[0m\u001b[0;34m.\u001b[0m\u001b[0mshuffle\u001b[0m\u001b[0;34m(\u001b[0m\u001b[0;36m1000\u001b[0m\u001b[0;34m)\u001b[0m\u001b[0;34m.\u001b[0m\u001b[0mbatch\u001b[0m\u001b[0;34m(\u001b[0m\u001b[0;36m16\u001b[0m\u001b[0;34m)\u001b[0m\u001b[0;34m,\u001b[0m \u001b[0mbatch_size\u001b[0m\u001b[0;34m=\u001b[0m\u001b[0;36m16\u001b[0m\u001b[0;34m,\u001b[0m \u001b[0mepochs\u001b[0m\u001b[0;34m=\u001b[0m\u001b[0;36m3\u001b[0m\u001b[0;34m)\u001b[0m\u001b[0;34m\u001b[0m\u001b[0;34m\u001b[0m\u001b[0m\n\u001b[0m",
      "\u001b[0;32m~/.local/lib/python3.8/site-packages/keras/utils/traceback_utils.py\u001b[0m in \u001b[0;36merror_handler\u001b[0;34m(*args, **kwargs)\u001b[0m\n\u001b[1;32m     62\u001b[0m     \u001b[0mfiltered_tb\u001b[0m \u001b[0;34m=\u001b[0m \u001b[0;32mNone\u001b[0m\u001b[0;34m\u001b[0m\u001b[0;34m\u001b[0m\u001b[0m\n\u001b[1;32m     63\u001b[0m     \u001b[0;32mtry\u001b[0m\u001b[0;34m:\u001b[0m\u001b[0;34m\u001b[0m\u001b[0;34m\u001b[0m\u001b[0m\n\u001b[0;32m---> 64\u001b[0;31m       \u001b[0;32mreturn\u001b[0m \u001b[0mfn\u001b[0m\u001b[0;34m(\u001b[0m\u001b[0;34m*\u001b[0m\u001b[0margs\u001b[0m\u001b[0;34m,\u001b[0m \u001b[0;34m**\u001b[0m\u001b[0mkwargs\u001b[0m\u001b[0;34m)\u001b[0m\u001b[0;34m\u001b[0m\u001b[0;34m\u001b[0m\u001b[0m\n\u001b[0m\u001b[1;32m     65\u001b[0m     \u001b[0;32mexcept\u001b[0m \u001b[0mException\u001b[0m \u001b[0;32mas\u001b[0m \u001b[0me\u001b[0m\u001b[0;34m:\u001b[0m  \u001b[0;31m# pylint: disable=broad-except\u001b[0m\u001b[0;34m\u001b[0m\u001b[0;34m\u001b[0m\u001b[0m\n\u001b[1;32m     66\u001b[0m       \u001b[0mfiltered_tb\u001b[0m \u001b[0;34m=\u001b[0m \u001b[0m_process_traceback_frames\u001b[0m\u001b[0;34m(\u001b[0m\u001b[0me\u001b[0m\u001b[0;34m.\u001b[0m\u001b[0m__traceback__\u001b[0m\u001b[0;34m)\u001b[0m\u001b[0;34m\u001b[0m\u001b[0;34m\u001b[0m\u001b[0m\n",
      "\u001b[0;32m~/.local/lib/python3.8/site-packages/keras/engine/training.py\u001b[0m in \u001b[0;36mfit\u001b[0;34m(self, x, y, batch_size, epochs, verbose, callbacks, validation_split, validation_data, shuffle, class_weight, sample_weight, initial_epoch, steps_per_epoch, validation_steps, validation_batch_size, validation_freq, max_queue_size, workers, use_multiprocessing)\u001b[0m\n\u001b[1;32m   1382\u001b[0m                 _r=1):\n\u001b[1;32m   1383\u001b[0m               \u001b[0mcallbacks\u001b[0m\u001b[0;34m.\u001b[0m\u001b[0mon_train_batch_begin\u001b[0m\u001b[0;34m(\u001b[0m\u001b[0mstep\u001b[0m\u001b[0;34m)\u001b[0m\u001b[0;34m\u001b[0m\u001b[0;34m\u001b[0m\u001b[0m\n\u001b[0;32m-> 1384\u001b[0;31m               \u001b[0mtmp_logs\u001b[0m \u001b[0;34m=\u001b[0m \u001b[0mself\u001b[0m\u001b[0;34m.\u001b[0m\u001b[0mtrain_function\u001b[0m\u001b[0;34m(\u001b[0m\u001b[0miterator\u001b[0m\u001b[0;34m)\u001b[0m\u001b[0;34m\u001b[0m\u001b[0;34m\u001b[0m\u001b[0m\n\u001b[0m\u001b[1;32m   1385\u001b[0m               \u001b[0;32mif\u001b[0m \u001b[0mdata_handler\u001b[0m\u001b[0;34m.\u001b[0m\u001b[0mshould_sync\u001b[0m\u001b[0;34m:\u001b[0m\u001b[0;34m\u001b[0m\u001b[0;34m\u001b[0m\u001b[0m\n\u001b[1;32m   1386\u001b[0m                 \u001b[0mcontext\u001b[0m\u001b[0;34m.\u001b[0m\u001b[0masync_wait\u001b[0m\u001b[0;34m(\u001b[0m\u001b[0;34m)\u001b[0m\u001b[0;34m\u001b[0m\u001b[0;34m\u001b[0m\u001b[0m\n",
      "\u001b[0;32m~/.local/lib/python3.8/site-packages/tensorflow/python/util/traceback_utils.py\u001b[0m in \u001b[0;36merror_handler\u001b[0;34m(*args, **kwargs)\u001b[0m\n\u001b[1;32m    148\u001b[0m     \u001b[0mfiltered_tb\u001b[0m \u001b[0;34m=\u001b[0m \u001b[0;32mNone\u001b[0m\u001b[0;34m\u001b[0m\u001b[0;34m\u001b[0m\u001b[0m\n\u001b[1;32m    149\u001b[0m     \u001b[0;32mtry\u001b[0m\u001b[0;34m:\u001b[0m\u001b[0;34m\u001b[0m\u001b[0;34m\u001b[0m\u001b[0m\n\u001b[0;32m--> 150\u001b[0;31m       \u001b[0;32mreturn\u001b[0m \u001b[0mfn\u001b[0m\u001b[0;34m(\u001b[0m\u001b[0;34m*\u001b[0m\u001b[0margs\u001b[0m\u001b[0;34m,\u001b[0m \u001b[0;34m**\u001b[0m\u001b[0mkwargs\u001b[0m\u001b[0;34m)\u001b[0m\u001b[0;34m\u001b[0m\u001b[0;34m\u001b[0m\u001b[0m\n\u001b[0m\u001b[1;32m    151\u001b[0m     \u001b[0;32mexcept\u001b[0m \u001b[0mException\u001b[0m \u001b[0;32mas\u001b[0m \u001b[0me\u001b[0m\u001b[0;34m:\u001b[0m\u001b[0;34m\u001b[0m\u001b[0;34m\u001b[0m\u001b[0m\n\u001b[1;32m    152\u001b[0m       \u001b[0mfiltered_tb\u001b[0m \u001b[0;34m=\u001b[0m \u001b[0m_process_traceback_frames\u001b[0m\u001b[0;34m(\u001b[0m\u001b[0me\u001b[0m\u001b[0;34m.\u001b[0m\u001b[0m__traceback__\u001b[0m\u001b[0;34m)\u001b[0m\u001b[0;34m\u001b[0m\u001b[0;34m\u001b[0m\u001b[0m\n",
      "\u001b[0;32m~/.local/lib/python3.8/site-packages/tensorflow/python/eager/def_function.py\u001b[0m in \u001b[0;36m__call__\u001b[0;34m(self, *args, **kwds)\u001b[0m\n\u001b[1;32m    913\u001b[0m \u001b[0;34m\u001b[0m\u001b[0m\n\u001b[1;32m    914\u001b[0m       \u001b[0;32mwith\u001b[0m \u001b[0mOptionalXlaContext\u001b[0m\u001b[0;34m(\u001b[0m\u001b[0mself\u001b[0m\u001b[0;34m.\u001b[0m\u001b[0m_jit_compile\u001b[0m\u001b[0;34m)\u001b[0m\u001b[0;34m:\u001b[0m\u001b[0;34m\u001b[0m\u001b[0;34m\u001b[0m\u001b[0m\n\u001b[0;32m--> 915\u001b[0;31m         \u001b[0mresult\u001b[0m \u001b[0;34m=\u001b[0m \u001b[0mself\u001b[0m\u001b[0;34m.\u001b[0m\u001b[0m_call\u001b[0m\u001b[0;34m(\u001b[0m\u001b[0;34m*\u001b[0m\u001b[0margs\u001b[0m\u001b[0;34m,\u001b[0m \u001b[0;34m**\u001b[0m\u001b[0mkwds\u001b[0m\u001b[0;34m)\u001b[0m\u001b[0;34m\u001b[0m\u001b[0;34m\u001b[0m\u001b[0m\n\u001b[0m\u001b[1;32m    916\u001b[0m \u001b[0;34m\u001b[0m\u001b[0m\n\u001b[1;32m    917\u001b[0m       \u001b[0mnew_tracing_count\u001b[0m \u001b[0;34m=\u001b[0m \u001b[0mself\u001b[0m\u001b[0;34m.\u001b[0m\u001b[0mexperimental_get_tracing_count\u001b[0m\u001b[0;34m(\u001b[0m\u001b[0;34m)\u001b[0m\u001b[0;34m\u001b[0m\u001b[0;34m\u001b[0m\u001b[0m\n",
      "\u001b[0;32m~/.local/lib/python3.8/site-packages/tensorflow/python/eager/def_function.py\u001b[0m in \u001b[0;36m_call\u001b[0;34m(self, *args, **kwds)\u001b[0m\n\u001b[1;32m    945\u001b[0m       \u001b[0;31m# In this case we have created variables on the first call, so we run the\u001b[0m\u001b[0;34m\u001b[0m\u001b[0;34m\u001b[0m\u001b[0;34m\u001b[0m\u001b[0m\n\u001b[1;32m    946\u001b[0m       \u001b[0;31m# defunned version which is guaranteed to never create variables.\u001b[0m\u001b[0;34m\u001b[0m\u001b[0;34m\u001b[0m\u001b[0;34m\u001b[0m\u001b[0m\n\u001b[0;32m--> 947\u001b[0;31m       \u001b[0;32mreturn\u001b[0m \u001b[0mself\u001b[0m\u001b[0;34m.\u001b[0m\u001b[0m_stateless_fn\u001b[0m\u001b[0;34m(\u001b[0m\u001b[0;34m*\u001b[0m\u001b[0margs\u001b[0m\u001b[0;34m,\u001b[0m \u001b[0;34m**\u001b[0m\u001b[0mkwds\u001b[0m\u001b[0;34m)\u001b[0m  \u001b[0;31m# pylint: disable=not-callable\u001b[0m\u001b[0;34m\u001b[0m\u001b[0;34m\u001b[0m\u001b[0m\n\u001b[0m\u001b[1;32m    948\u001b[0m     \u001b[0;32melif\u001b[0m \u001b[0mself\u001b[0m\u001b[0;34m.\u001b[0m\u001b[0m_stateful_fn\u001b[0m \u001b[0;32mis\u001b[0m \u001b[0;32mnot\u001b[0m \u001b[0;32mNone\u001b[0m\u001b[0;34m:\u001b[0m\u001b[0;34m\u001b[0m\u001b[0;34m\u001b[0m\u001b[0m\n\u001b[1;32m    949\u001b[0m       \u001b[0;31m# Release the lock early so that multiple threads can perform the call\u001b[0m\u001b[0;34m\u001b[0m\u001b[0;34m\u001b[0m\u001b[0;34m\u001b[0m\u001b[0m\n",
      "\u001b[0;32m~/.local/lib/python3.8/site-packages/tensorflow/python/eager/function.py\u001b[0m in \u001b[0;36m__call__\u001b[0;34m(self, *args, **kwargs)\u001b[0m\n\u001b[1;32m   2954\u001b[0m       (graph_function,\n\u001b[1;32m   2955\u001b[0m        filtered_flat_args) = self._maybe_define_function(args, kwargs)\n\u001b[0;32m-> 2956\u001b[0;31m     return graph_function._call_flat(\n\u001b[0m\u001b[1;32m   2957\u001b[0m         filtered_flat_args, captured_inputs=graph_function.captured_inputs)  # pylint: disable=protected-access\n\u001b[1;32m   2958\u001b[0m \u001b[0;34m\u001b[0m\u001b[0m\n",
      "\u001b[0;32m~/.local/lib/python3.8/site-packages/tensorflow/python/eager/function.py\u001b[0m in \u001b[0;36m_call_flat\u001b[0;34m(self, args, captured_inputs, cancellation_manager)\u001b[0m\n\u001b[1;32m   1851\u001b[0m         and executing_eagerly):\n\u001b[1;32m   1852\u001b[0m       \u001b[0;31m# No tape is watching; skip to running the function.\u001b[0m\u001b[0;34m\u001b[0m\u001b[0;34m\u001b[0m\u001b[0;34m\u001b[0m\u001b[0m\n\u001b[0;32m-> 1853\u001b[0;31m       return self._build_call_outputs(self._inference_function.call(\n\u001b[0m\u001b[1;32m   1854\u001b[0m           ctx, args, cancellation_manager=cancellation_manager))\n\u001b[1;32m   1855\u001b[0m     forward_backward = self._select_forward_and_backward_functions(\n",
      "\u001b[0;32m~/.local/lib/python3.8/site-packages/tensorflow/python/eager/function.py\u001b[0m in \u001b[0;36mcall\u001b[0;34m(self, ctx, args, cancellation_manager)\u001b[0m\n\u001b[1;32m    497\u001b[0m       \u001b[0;32mwith\u001b[0m \u001b[0m_InterpolateFunctionError\u001b[0m\u001b[0;34m(\u001b[0m\u001b[0mself\u001b[0m\u001b[0;34m)\u001b[0m\u001b[0;34m:\u001b[0m\u001b[0;34m\u001b[0m\u001b[0;34m\u001b[0m\u001b[0m\n\u001b[1;32m    498\u001b[0m         \u001b[0;32mif\u001b[0m \u001b[0mcancellation_manager\u001b[0m \u001b[0;32mis\u001b[0m \u001b[0;32mNone\u001b[0m\u001b[0;34m:\u001b[0m\u001b[0;34m\u001b[0m\u001b[0;34m\u001b[0m\u001b[0m\n\u001b[0;32m--> 499\u001b[0;31m           outputs = execute.execute(\n\u001b[0m\u001b[1;32m    500\u001b[0m               \u001b[0mstr\u001b[0m\u001b[0;34m(\u001b[0m\u001b[0mself\u001b[0m\u001b[0;34m.\u001b[0m\u001b[0msignature\u001b[0m\u001b[0;34m.\u001b[0m\u001b[0mname\u001b[0m\u001b[0;34m)\u001b[0m\u001b[0;34m,\u001b[0m\u001b[0;34m\u001b[0m\u001b[0;34m\u001b[0m\u001b[0m\n\u001b[1;32m    501\u001b[0m               \u001b[0mnum_outputs\u001b[0m\u001b[0;34m=\u001b[0m\u001b[0mself\u001b[0m\u001b[0;34m.\u001b[0m\u001b[0m_num_outputs\u001b[0m\u001b[0;34m,\u001b[0m\u001b[0;34m\u001b[0m\u001b[0;34m\u001b[0m\u001b[0m\n",
      "\u001b[0;32m~/.local/lib/python3.8/site-packages/tensorflow/python/eager/execute.py\u001b[0m in \u001b[0;36mquick_execute\u001b[0;34m(op_name, num_outputs, inputs, attrs, ctx, name)\u001b[0m\n\u001b[1;32m     52\u001b[0m   \u001b[0;32mtry\u001b[0m\u001b[0;34m:\u001b[0m\u001b[0;34m\u001b[0m\u001b[0;34m\u001b[0m\u001b[0m\n\u001b[1;32m     53\u001b[0m     \u001b[0mctx\u001b[0m\u001b[0;34m.\u001b[0m\u001b[0mensure_initialized\u001b[0m\u001b[0;34m(\u001b[0m\u001b[0;34m)\u001b[0m\u001b[0;34m\u001b[0m\u001b[0;34m\u001b[0m\u001b[0m\n\u001b[0;32m---> 54\u001b[0;31m     tensors = pywrap_tfe.TFE_Py_Execute(ctx._handle, device_name, op_name,\n\u001b[0m\u001b[1;32m     55\u001b[0m                                         inputs, attrs, num_outputs)\n\u001b[1;32m     56\u001b[0m   \u001b[0;32mexcept\u001b[0m \u001b[0mcore\u001b[0m\u001b[0;34m.\u001b[0m\u001b[0m_NotOkStatusException\u001b[0m \u001b[0;32mas\u001b[0m \u001b[0me\u001b[0m\u001b[0;34m:\u001b[0m\u001b[0;34m\u001b[0m\u001b[0;34m\u001b[0m\u001b[0m\n",
      "\u001b[0;31mKeyboardInterrupt\u001b[0m: "
     ]
    }
   ],
   "source": [
    "model.fit(train_data.shuffle(1000).batch(16), validation_data = test_data.shuffle(1000).batch(16), batch_size=16, epochs=3)"
   ]
  },
  {
   "cell_type": "code",
   "execution_count": 33,
   "metadata": {},
   "outputs": [],
   "source": [
    "from tensorflow import keras\n",
    "model.compile(optimizer=optimizer,loss=loss, metrics=[keras.metrics.SparseTopKCategoricalAccuracy(k=3)])"
   ]
  },
  {
   "cell_type": "code",
   "execution_count": 34,
   "metadata": {},
   "outputs": [
    {
     "name": "stdout",
     "output_type": "stream",
     "text": [
      "Epoch 1/3\n",
      "176/176 [==============================] - 790s 4s/step - loss: 1.0986 - sparse_top_k_categorical_accuracy: 0.8813 - val_loss: 1.1823 - val_sparse_top_k_categorical_accuracy: 0.8757\n",
      "Epoch 2/3\n",
      " 37/176 [=====>........................] - ETA: 8:55 - loss: 0.9832 - sparse_top_k_categorical_accuracy: 0.8986"
     ]
    },
    {
     "ename": "KeyboardInterrupt",
     "evalue": "",
     "output_type": "error",
     "traceback": [
      "\u001b[0;31m---------------------------------------------------------------------------\u001b[0m",
      "\u001b[0;31mKeyboardInterrupt\u001b[0m                         Traceback (most recent call last)",
      "\u001b[0;32m<ipython-input-34-8319e2208dcf>\u001b[0m in \u001b[0;36m<module>\u001b[0;34m\u001b[0m\n\u001b[0;32m----> 1\u001b[0;31m \u001b[0mmodel\u001b[0m\u001b[0;34m.\u001b[0m\u001b[0mfit\u001b[0m\u001b[0;34m(\u001b[0m\u001b[0mtrain_data\u001b[0m\u001b[0;34m.\u001b[0m\u001b[0mshuffle\u001b[0m\u001b[0;34m(\u001b[0m\u001b[0;36m1000\u001b[0m\u001b[0;34m)\u001b[0m\u001b[0;34m.\u001b[0m\u001b[0mbatch\u001b[0m\u001b[0;34m(\u001b[0m\u001b[0;36m16\u001b[0m\u001b[0;34m)\u001b[0m\u001b[0;34m,\u001b[0m \u001b[0mvalidation_data\u001b[0m \u001b[0;34m=\u001b[0m \u001b[0mtest_data\u001b[0m\u001b[0;34m.\u001b[0m\u001b[0mshuffle\u001b[0m\u001b[0;34m(\u001b[0m\u001b[0;36m1000\u001b[0m\u001b[0;34m)\u001b[0m\u001b[0;34m.\u001b[0m\u001b[0mbatch\u001b[0m\u001b[0;34m(\u001b[0m\u001b[0;36m16\u001b[0m\u001b[0;34m)\u001b[0m\u001b[0;34m,\u001b[0m \u001b[0mbatch_size\u001b[0m\u001b[0;34m=\u001b[0m\u001b[0;36m16\u001b[0m\u001b[0;34m,\u001b[0m \u001b[0mepochs\u001b[0m\u001b[0;34m=\u001b[0m\u001b[0;36m3\u001b[0m\u001b[0;34m)\u001b[0m\u001b[0;34m\u001b[0m\u001b[0;34m\u001b[0m\u001b[0m\n\u001b[0m",
      "\u001b[0;32m~/.local/lib/python3.8/site-packages/keras/utils/traceback_utils.py\u001b[0m in \u001b[0;36merror_handler\u001b[0;34m(*args, **kwargs)\u001b[0m\n\u001b[1;32m     62\u001b[0m     \u001b[0mfiltered_tb\u001b[0m \u001b[0;34m=\u001b[0m \u001b[0;32mNone\u001b[0m\u001b[0;34m\u001b[0m\u001b[0;34m\u001b[0m\u001b[0m\n\u001b[1;32m     63\u001b[0m     \u001b[0;32mtry\u001b[0m\u001b[0;34m:\u001b[0m\u001b[0;34m\u001b[0m\u001b[0;34m\u001b[0m\u001b[0m\n\u001b[0;32m---> 64\u001b[0;31m       \u001b[0;32mreturn\u001b[0m \u001b[0mfn\u001b[0m\u001b[0;34m(\u001b[0m\u001b[0;34m*\u001b[0m\u001b[0margs\u001b[0m\u001b[0;34m,\u001b[0m \u001b[0;34m**\u001b[0m\u001b[0mkwargs\u001b[0m\u001b[0;34m)\u001b[0m\u001b[0;34m\u001b[0m\u001b[0;34m\u001b[0m\u001b[0m\n\u001b[0m\u001b[1;32m     65\u001b[0m     \u001b[0;32mexcept\u001b[0m \u001b[0mException\u001b[0m \u001b[0;32mas\u001b[0m \u001b[0me\u001b[0m\u001b[0;34m:\u001b[0m  \u001b[0;31m# pylint: disable=broad-except\u001b[0m\u001b[0;34m\u001b[0m\u001b[0;34m\u001b[0m\u001b[0m\n\u001b[1;32m     66\u001b[0m       \u001b[0mfiltered_tb\u001b[0m \u001b[0;34m=\u001b[0m \u001b[0m_process_traceback_frames\u001b[0m\u001b[0;34m(\u001b[0m\u001b[0me\u001b[0m\u001b[0;34m.\u001b[0m\u001b[0m__traceback__\u001b[0m\u001b[0;34m)\u001b[0m\u001b[0;34m\u001b[0m\u001b[0;34m\u001b[0m\u001b[0m\n",
      "\u001b[0;32m~/.local/lib/python3.8/site-packages/keras/engine/training.py\u001b[0m in \u001b[0;36mfit\u001b[0;34m(self, x, y, batch_size, epochs, verbose, callbacks, validation_split, validation_data, shuffle, class_weight, sample_weight, initial_epoch, steps_per_epoch, validation_steps, validation_batch_size, validation_freq, max_queue_size, workers, use_multiprocessing)\u001b[0m\n\u001b[1;32m   1382\u001b[0m                 _r=1):\n\u001b[1;32m   1383\u001b[0m               \u001b[0mcallbacks\u001b[0m\u001b[0;34m.\u001b[0m\u001b[0mon_train_batch_begin\u001b[0m\u001b[0;34m(\u001b[0m\u001b[0mstep\u001b[0m\u001b[0;34m)\u001b[0m\u001b[0;34m\u001b[0m\u001b[0;34m\u001b[0m\u001b[0m\n\u001b[0;32m-> 1384\u001b[0;31m               \u001b[0mtmp_logs\u001b[0m \u001b[0;34m=\u001b[0m \u001b[0mself\u001b[0m\u001b[0;34m.\u001b[0m\u001b[0mtrain_function\u001b[0m\u001b[0;34m(\u001b[0m\u001b[0miterator\u001b[0m\u001b[0;34m)\u001b[0m\u001b[0;34m\u001b[0m\u001b[0;34m\u001b[0m\u001b[0m\n\u001b[0m\u001b[1;32m   1385\u001b[0m               \u001b[0;32mif\u001b[0m \u001b[0mdata_handler\u001b[0m\u001b[0;34m.\u001b[0m\u001b[0mshould_sync\u001b[0m\u001b[0;34m:\u001b[0m\u001b[0;34m\u001b[0m\u001b[0;34m\u001b[0m\u001b[0m\n\u001b[1;32m   1386\u001b[0m                 \u001b[0mcontext\u001b[0m\u001b[0;34m.\u001b[0m\u001b[0masync_wait\u001b[0m\u001b[0;34m(\u001b[0m\u001b[0;34m)\u001b[0m\u001b[0;34m\u001b[0m\u001b[0;34m\u001b[0m\u001b[0m\n",
      "\u001b[0;32m~/.local/lib/python3.8/site-packages/tensorflow/python/util/traceback_utils.py\u001b[0m in \u001b[0;36merror_handler\u001b[0;34m(*args, **kwargs)\u001b[0m\n\u001b[1;32m    148\u001b[0m     \u001b[0mfiltered_tb\u001b[0m \u001b[0;34m=\u001b[0m \u001b[0;32mNone\u001b[0m\u001b[0;34m\u001b[0m\u001b[0;34m\u001b[0m\u001b[0m\n\u001b[1;32m    149\u001b[0m     \u001b[0;32mtry\u001b[0m\u001b[0;34m:\u001b[0m\u001b[0;34m\u001b[0m\u001b[0;34m\u001b[0m\u001b[0m\n\u001b[0;32m--> 150\u001b[0;31m       \u001b[0;32mreturn\u001b[0m \u001b[0mfn\u001b[0m\u001b[0;34m(\u001b[0m\u001b[0;34m*\u001b[0m\u001b[0margs\u001b[0m\u001b[0;34m,\u001b[0m \u001b[0;34m**\u001b[0m\u001b[0mkwargs\u001b[0m\u001b[0;34m)\u001b[0m\u001b[0;34m\u001b[0m\u001b[0;34m\u001b[0m\u001b[0m\n\u001b[0m\u001b[1;32m    151\u001b[0m     \u001b[0;32mexcept\u001b[0m \u001b[0mException\u001b[0m \u001b[0;32mas\u001b[0m \u001b[0me\u001b[0m\u001b[0;34m:\u001b[0m\u001b[0;34m\u001b[0m\u001b[0;34m\u001b[0m\u001b[0m\n\u001b[1;32m    152\u001b[0m       \u001b[0mfiltered_tb\u001b[0m \u001b[0;34m=\u001b[0m \u001b[0m_process_traceback_frames\u001b[0m\u001b[0;34m(\u001b[0m\u001b[0me\u001b[0m\u001b[0;34m.\u001b[0m\u001b[0m__traceback__\u001b[0m\u001b[0;34m)\u001b[0m\u001b[0;34m\u001b[0m\u001b[0;34m\u001b[0m\u001b[0m\n",
      "\u001b[0;32m~/.local/lib/python3.8/site-packages/tensorflow/python/eager/def_function.py\u001b[0m in \u001b[0;36m__call__\u001b[0;34m(self, *args, **kwds)\u001b[0m\n\u001b[1;32m    913\u001b[0m \u001b[0;34m\u001b[0m\u001b[0m\n\u001b[1;32m    914\u001b[0m       \u001b[0;32mwith\u001b[0m \u001b[0mOptionalXlaContext\u001b[0m\u001b[0;34m(\u001b[0m\u001b[0mself\u001b[0m\u001b[0;34m.\u001b[0m\u001b[0m_jit_compile\u001b[0m\u001b[0;34m)\u001b[0m\u001b[0;34m:\u001b[0m\u001b[0;34m\u001b[0m\u001b[0;34m\u001b[0m\u001b[0m\n\u001b[0;32m--> 915\u001b[0;31m         \u001b[0mresult\u001b[0m \u001b[0;34m=\u001b[0m \u001b[0mself\u001b[0m\u001b[0;34m.\u001b[0m\u001b[0m_call\u001b[0m\u001b[0;34m(\u001b[0m\u001b[0;34m*\u001b[0m\u001b[0margs\u001b[0m\u001b[0;34m,\u001b[0m \u001b[0;34m**\u001b[0m\u001b[0mkwds\u001b[0m\u001b[0;34m)\u001b[0m\u001b[0;34m\u001b[0m\u001b[0;34m\u001b[0m\u001b[0m\n\u001b[0m\u001b[1;32m    916\u001b[0m \u001b[0;34m\u001b[0m\u001b[0m\n\u001b[1;32m    917\u001b[0m       \u001b[0mnew_tracing_count\u001b[0m \u001b[0;34m=\u001b[0m \u001b[0mself\u001b[0m\u001b[0;34m.\u001b[0m\u001b[0mexperimental_get_tracing_count\u001b[0m\u001b[0;34m(\u001b[0m\u001b[0;34m)\u001b[0m\u001b[0;34m\u001b[0m\u001b[0;34m\u001b[0m\u001b[0m\n",
      "\u001b[0;32m~/.local/lib/python3.8/site-packages/tensorflow/python/eager/def_function.py\u001b[0m in \u001b[0;36m_call\u001b[0;34m(self, *args, **kwds)\u001b[0m\n\u001b[1;32m    952\u001b[0m       \u001b[0;31m# In this case we have not created variables on the first call. So we can\u001b[0m\u001b[0;34m\u001b[0m\u001b[0;34m\u001b[0m\u001b[0;34m\u001b[0m\u001b[0m\n\u001b[1;32m    953\u001b[0m       \u001b[0;31m# run the first trace but we should fail if variables are created.\u001b[0m\u001b[0;34m\u001b[0m\u001b[0;34m\u001b[0m\u001b[0;34m\u001b[0m\u001b[0m\n\u001b[0;32m--> 954\u001b[0;31m       \u001b[0mresults\u001b[0m \u001b[0;34m=\u001b[0m \u001b[0mself\u001b[0m\u001b[0;34m.\u001b[0m\u001b[0m_stateful_fn\u001b[0m\u001b[0;34m(\u001b[0m\u001b[0;34m*\u001b[0m\u001b[0margs\u001b[0m\u001b[0;34m,\u001b[0m \u001b[0;34m**\u001b[0m\u001b[0mkwds\u001b[0m\u001b[0;34m)\u001b[0m\u001b[0;34m\u001b[0m\u001b[0;34m\u001b[0m\u001b[0m\n\u001b[0m\u001b[1;32m    955\u001b[0m       \u001b[0;32mif\u001b[0m \u001b[0mself\u001b[0m\u001b[0;34m.\u001b[0m\u001b[0m_created_variables\u001b[0m \u001b[0;32mand\u001b[0m \u001b[0;32mnot\u001b[0m \u001b[0mALLOW_DYNAMIC_VARIABLE_CREATION\u001b[0m\u001b[0;34m:\u001b[0m\u001b[0;34m\u001b[0m\u001b[0;34m\u001b[0m\u001b[0m\n\u001b[1;32m    956\u001b[0m         raise ValueError(\"Creating variables on a non-first call to a function\"\n",
      "\u001b[0;32m~/.local/lib/python3.8/site-packages/tensorflow/python/eager/function.py\u001b[0m in \u001b[0;36m__call__\u001b[0;34m(self, *args, **kwargs)\u001b[0m\n\u001b[1;32m   2954\u001b[0m       (graph_function,\n\u001b[1;32m   2955\u001b[0m        filtered_flat_args) = self._maybe_define_function(args, kwargs)\n\u001b[0;32m-> 2956\u001b[0;31m     return graph_function._call_flat(\n\u001b[0m\u001b[1;32m   2957\u001b[0m         filtered_flat_args, captured_inputs=graph_function.captured_inputs)  # pylint: disable=protected-access\n\u001b[1;32m   2958\u001b[0m \u001b[0;34m\u001b[0m\u001b[0m\n",
      "\u001b[0;32m~/.local/lib/python3.8/site-packages/tensorflow/python/eager/function.py\u001b[0m in \u001b[0;36m_call_flat\u001b[0;34m(self, args, captured_inputs, cancellation_manager)\u001b[0m\n\u001b[1;32m   1851\u001b[0m         and executing_eagerly):\n\u001b[1;32m   1852\u001b[0m       \u001b[0;31m# No tape is watching; skip to running the function.\u001b[0m\u001b[0;34m\u001b[0m\u001b[0;34m\u001b[0m\u001b[0;34m\u001b[0m\u001b[0m\n\u001b[0;32m-> 1853\u001b[0;31m       return self._build_call_outputs(self._inference_function.call(\n\u001b[0m\u001b[1;32m   1854\u001b[0m           ctx, args, cancellation_manager=cancellation_manager))\n\u001b[1;32m   1855\u001b[0m     forward_backward = self._select_forward_and_backward_functions(\n",
      "\u001b[0;32m~/.local/lib/python3.8/site-packages/tensorflow/python/eager/function.py\u001b[0m in \u001b[0;36mcall\u001b[0;34m(self, ctx, args, cancellation_manager)\u001b[0m\n\u001b[1;32m    497\u001b[0m       \u001b[0;32mwith\u001b[0m \u001b[0m_InterpolateFunctionError\u001b[0m\u001b[0;34m(\u001b[0m\u001b[0mself\u001b[0m\u001b[0;34m)\u001b[0m\u001b[0;34m:\u001b[0m\u001b[0;34m\u001b[0m\u001b[0;34m\u001b[0m\u001b[0m\n\u001b[1;32m    498\u001b[0m         \u001b[0;32mif\u001b[0m \u001b[0mcancellation_manager\u001b[0m \u001b[0;32mis\u001b[0m \u001b[0;32mNone\u001b[0m\u001b[0;34m:\u001b[0m\u001b[0;34m\u001b[0m\u001b[0;34m\u001b[0m\u001b[0m\n\u001b[0;32m--> 499\u001b[0;31m           outputs = execute.execute(\n\u001b[0m\u001b[1;32m    500\u001b[0m               \u001b[0mstr\u001b[0m\u001b[0;34m(\u001b[0m\u001b[0mself\u001b[0m\u001b[0;34m.\u001b[0m\u001b[0msignature\u001b[0m\u001b[0;34m.\u001b[0m\u001b[0mname\u001b[0m\u001b[0;34m)\u001b[0m\u001b[0;34m,\u001b[0m\u001b[0;34m\u001b[0m\u001b[0;34m\u001b[0m\u001b[0m\n\u001b[1;32m    501\u001b[0m               \u001b[0mnum_outputs\u001b[0m\u001b[0;34m=\u001b[0m\u001b[0mself\u001b[0m\u001b[0;34m.\u001b[0m\u001b[0m_num_outputs\u001b[0m\u001b[0;34m,\u001b[0m\u001b[0;34m\u001b[0m\u001b[0;34m\u001b[0m\u001b[0m\n",
      "\u001b[0;32m~/.local/lib/python3.8/site-packages/tensorflow/python/eager/execute.py\u001b[0m in \u001b[0;36mquick_execute\u001b[0;34m(op_name, num_outputs, inputs, attrs, ctx, name)\u001b[0m\n\u001b[1;32m     52\u001b[0m   \u001b[0;32mtry\u001b[0m\u001b[0;34m:\u001b[0m\u001b[0;34m\u001b[0m\u001b[0;34m\u001b[0m\u001b[0m\n\u001b[1;32m     53\u001b[0m     \u001b[0mctx\u001b[0m\u001b[0;34m.\u001b[0m\u001b[0mensure_initialized\u001b[0m\u001b[0;34m(\u001b[0m\u001b[0;34m)\u001b[0m\u001b[0;34m\u001b[0m\u001b[0;34m\u001b[0m\u001b[0m\n\u001b[0;32m---> 54\u001b[0;31m     tensors = pywrap_tfe.TFE_Py_Execute(ctx._handle, device_name, op_name,\n\u001b[0m\u001b[1;32m     55\u001b[0m                                         inputs, attrs, num_outputs)\n\u001b[1;32m     56\u001b[0m   \u001b[0;32mexcept\u001b[0m \u001b[0mcore\u001b[0m\u001b[0;34m.\u001b[0m\u001b[0m_NotOkStatusException\u001b[0m \u001b[0;32mas\u001b[0m \u001b[0me\u001b[0m\u001b[0;34m:\u001b[0m\u001b[0;34m\u001b[0m\u001b[0;34m\u001b[0m\u001b[0m\n",
      "\u001b[0;31mKeyboardInterrupt\u001b[0m: "
     ]
    }
   ],
   "source": [
    "model.fit(train_data.shuffle(1000).batch(16), validation_data = test_data.shuffle(1000).batch(16), batch_size=16, epochs=3)"
   ]
  },
  {
   "cell_type": "code",
   "execution_count": 150,
   "metadata": {},
   "outputs": [
    {
     "name": "stdout",
     "output_type": "stream",
     "text": [
      "Epoch 1/3\n",
      "176/176 [==============================] - 1423s 8s/step - loss: 2.1344 - sparse_top_k_categorical_accuracy: 0.6436 - val_loss: 1.7439 - val_sparse_top_k_categorical_accuracy: 0.7514\n",
      "Epoch 2/3\n",
      "176/176 [==============================] - 1409s 8s/step - loss: 1.6062 - sparse_top_k_categorical_accuracy: 0.7900 - val_loss: 1.4481 - val_sparse_top_k_categorical_accuracy: 0.8078\n",
      "Epoch 3/3\n",
      "176/176 [==============================] - 1410s 8s/step - loss: 1.3266 - sparse_top_k_categorical_accuracy: 0.8429 - val_loss: 1.3275 - val_sparse_top_k_categorical_accuracy: 0.8492\n"
     ]
    },
    {
     "data": {
      "text/plain": [
       "<keras.callbacks.History at 0x7f8a3f9a3b50>"
      ]
     },
     "execution_count": 150,
     "metadata": {},
     "output_type": "execute_result"
    }
   ],
   "source": [
    "model.fit(train_data.shuffle(1000).batch(16), validation_data = test_data.shuffle(1000).batch(16), batch_size=16, epochs=3)"
   ]
  },
  {
   "cell_type": "code",
   "execution_count": null,
   "metadata": {},
   "outputs": [],
   "source": []
  }
 ],
 "metadata": {
  "kernelspec": {
   "display_name": "Python 3",
   "language": "python",
   "name": "python3"
  },
  "language_info": {
   "codemirror_mode": {
    "name": "ipython",
    "version": 3
   },
   "file_extension": ".py",
   "mimetype": "text/x-python",
   "name": "python",
   "nbconvert_exporter": "python",
   "pygments_lexer": "ipython3",
   "version": "3.8.8"
  }
 },
 "nbformat": 4,
 "nbformat_minor": 4
}
